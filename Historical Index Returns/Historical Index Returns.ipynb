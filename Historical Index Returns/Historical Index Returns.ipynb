{
 "cells": [
  {
   "cell_type": "code",
   "execution_count": 1,
   "metadata": {},
   "outputs": [],
   "source": [
    "import numpy as np\n",
    "import pandas as pd\n",
    "import yfinance as yf\n",
    "import matplotlib.pyplot as plt"
   ]
  },
  {
   "cell_type": "code",
   "execution_count": 2,
   "metadata": {},
   "outputs": [
    {
     "data": {
      "text/html": [
       "<div>\n",
       "<style scoped>\n",
       "    .dataframe tbody tr th:only-of-type {\n",
       "        vertical-align: middle;\n",
       "    }\n",
       "\n",
       "    .dataframe tbody tr th {\n",
       "        vertical-align: top;\n",
       "    }\n",
       "\n",
       "    .dataframe thead th {\n",
       "        text-align: right;\n",
       "    }\n",
       "</style>\n",
       "<table border=\"1\" class=\"dataframe\">\n",
       "  <thead>\n",
       "    <tr style=\"text-align: right;\">\n",
       "      <th></th>\n",
       "      <th>Open</th>\n",
       "      <th>High</th>\n",
       "      <th>Low</th>\n",
       "      <th>Close</th>\n",
       "      <th>Volume</th>\n",
       "      <th>Dividends</th>\n",
       "      <th>Stock Splits</th>\n",
       "    </tr>\n",
       "    <tr>\n",
       "      <th>Date</th>\n",
       "      <th></th>\n",
       "      <th></th>\n",
       "      <th></th>\n",
       "      <th></th>\n",
       "      <th></th>\n",
       "      <th></th>\n",
       "      <th></th>\n",
       "    </tr>\n",
       "  </thead>\n",
       "  <tbody>\n",
       "    <tr>\n",
       "      <th>1994-01-01</th>\n",
       "      <td>1278.609985</td>\n",
       "      <td>1332.040039</td>\n",
       "      <td>967.919983</td>\n",
       "      <td>1106.989990</td>\n",
       "      <td>0</td>\n",
       "      <td>0</td>\n",
       "      <td>0</td>\n",
       "    </tr>\n",
       "    <tr>\n",
       "      <th>1994-02-01</th>\n",
       "      <td>1114.319946</td>\n",
       "      <td>1158.130005</td>\n",
       "      <td>1065.010010</td>\n",
       "      <td>1125.630005</td>\n",
       "      <td>0</td>\n",
       "      <td>0</td>\n",
       "      <td>0</td>\n",
       "    </tr>\n",
       "    <tr>\n",
       "      <th>1994-03-01</th>\n",
       "      <td>1124.959961</td>\n",
       "      <td>1125.630005</td>\n",
       "      <td>936.799988</td>\n",
       "      <td>952.719971</td>\n",
       "      <td>0</td>\n",
       "      <td>0</td>\n",
       "      <td>0</td>\n",
       "    </tr>\n",
       "    <tr>\n",
       "      <th>1994-04-01</th>\n",
       "      <td>954.489990</td>\n",
       "      <td>1067.750000</td>\n",
       "      <td>920.280029</td>\n",
       "      <td>1054.500000</td>\n",
       "      <td>0</td>\n",
       "      <td>0</td>\n",
       "      <td>0</td>\n",
       "    </tr>\n",
       "    <tr>\n",
       "      <th>1994-05-01</th>\n",
       "      <td>1054.130005</td>\n",
       "      <td>1054.130005</td>\n",
       "      <td>983.450012</td>\n",
       "      <td>993.729980</td>\n",
       "      <td>0</td>\n",
       "      <td>0</td>\n",
       "      <td>0</td>\n",
       "    </tr>\n",
       "    <tr>\n",
       "      <th>...</th>\n",
       "      <td>...</td>\n",
       "      <td>...</td>\n",
       "      <td>...</td>\n",
       "      <td>...</td>\n",
       "      <td>...</td>\n",
       "      <td>...</td>\n",
       "      <td>...</td>\n",
       "    </tr>\n",
       "    <tr>\n",
       "      <th>2022-08-01</th>\n",
       "      <td>1492.670044</td>\n",
       "      <td>1527.839966</td>\n",
       "      <td>1464.829956</td>\n",
       "      <td>1512.050049</td>\n",
       "      <td>4723634700</td>\n",
       "      <td>0</td>\n",
       "      <td>0</td>\n",
       "    </tr>\n",
       "    <tr>\n",
       "      <th>2022-09-01</th>\n",
       "      <td>1498.010010</td>\n",
       "      <td>1503.489990</td>\n",
       "      <td>1390.410034</td>\n",
       "      <td>1394.630005</td>\n",
       "      <td>4812094000</td>\n",
       "      <td>0</td>\n",
       "      <td>0</td>\n",
       "    </tr>\n",
       "    <tr>\n",
       "      <th>2022-10-01</th>\n",
       "      <td>1393.699951</td>\n",
       "      <td>1468.410034</td>\n",
       "      <td>1372.569946</td>\n",
       "      <td>1460.380005</td>\n",
       "      <td>4200012200</td>\n",
       "      <td>0</td>\n",
       "      <td>0</td>\n",
       "    </tr>\n",
       "    <tr>\n",
       "      <th>2022-11-01</th>\n",
       "      <td>1457.640015</td>\n",
       "      <td>1504.160034</td>\n",
       "      <td>1420.380005</td>\n",
       "      <td>1488.800049</td>\n",
       "      <td>5508554700</td>\n",
       "      <td>0</td>\n",
       "      <td>0</td>\n",
       "    </tr>\n",
       "    <tr>\n",
       "      <th>2022-12-01</th>\n",
       "      <td>1490.800049</td>\n",
       "      <td>1503.329956</td>\n",
       "      <td>1458.819946</td>\n",
       "      <td>1495.489990</td>\n",
       "      <td>3331877600</td>\n",
       "      <td>0</td>\n",
       "      <td>0</td>\n",
       "    </tr>\n",
       "  </tbody>\n",
       "</table>\n",
       "<p>348 rows × 7 columns</p>\n",
       "</div>"
      ],
      "text/plain": [
       "                   Open         High          Low        Close      Volume  \\\n",
       "Date                                                                         \n",
       "1994-01-01  1278.609985  1332.040039   967.919983  1106.989990           0   \n",
       "1994-02-01  1114.319946  1158.130005  1065.010010  1125.630005           0   \n",
       "1994-03-01  1124.959961  1125.630005   936.799988   952.719971           0   \n",
       "1994-04-01   954.489990  1067.750000   920.280029  1054.500000           0   \n",
       "1994-05-01  1054.130005  1054.130005   983.450012   993.729980           0   \n",
       "...                 ...          ...          ...          ...         ...   \n",
       "2022-08-01  1492.670044  1527.839966  1464.829956  1512.050049  4723634700   \n",
       "2022-09-01  1498.010010  1503.489990  1390.410034  1394.630005  4812094000   \n",
       "2022-10-01  1393.699951  1468.410034  1372.569946  1460.380005  4200012200   \n",
       "2022-11-01  1457.640015  1504.160034  1420.380005  1488.800049  5508554700   \n",
       "2022-12-01  1490.800049  1503.329956  1458.819946  1495.489990  3331877600   \n",
       "\n",
       "            Dividends  Stock Splits  \n",
       "Date                                 \n",
       "1994-01-01          0             0  \n",
       "1994-02-01          0             0  \n",
       "1994-03-01          0             0  \n",
       "1994-04-01          0             0  \n",
       "1994-05-01          0             0  \n",
       "...               ...           ...  \n",
       "2022-08-01          0             0  \n",
       "2022-09-01          0             0  \n",
       "2022-10-01          0             0  \n",
       "2022-11-01          0             0  \n",
       "2022-12-01          0             0  \n",
       "\n",
       "[348 rows x 7 columns]"
      ]
     },
     "execution_count": 2,
     "metadata": {},
     "output_type": "execute_result"
    }
   ],
   "source": [
    "# Fetch daily data for the S&P 500 from Yahoo Finance\n",
    "Index = yf.Ticker('^KLSE').history (period = 'max', interval='1mo')\n",
    "Index"
   ]
  },
  {
   "cell_type": "code",
   "execution_count": 3,
   "metadata": {},
   "outputs": [],
   "source": [
    "# Calculate daily returns\n",
    "Index['return'] = Index['Close'].pct_change()"
   ]
  },
  {
   "cell_type": "code",
   "execution_count": 4,
   "metadata": {},
   "outputs": [],
   "source": [
    "# Calculate annual returns\n",
    "returns = Index['return'].groupby(Index['return'].index.year).apply(lambda x: (1 + x).prod() - 1) * 100"
   ]
  },
  {
   "cell_type": "code",
   "execution_count": 5,
   "metadata": {},
   "outputs": [
    {
     "name": "stdout",
     "output_type": "stream",
     "text": [
      "3.262996952077125\n"
     ]
    }
   ],
   "source": [
    "# Calculate the average return\n",
    "expected_return = np.mean(returns)\n",
    "print(expected_return)  "
   ]
  },
  {
   "attachments": {},
   "cell_type": "markdown",
   "metadata": {},
   "source": [
    "Visualisation"
   ]
  },
  {
   "cell_type": "code",
   "execution_count": 6,
   "metadata": {},
   "outputs": [],
   "source": [
    "# Extract the return data and the dates\n",
    "returns = Index['return'] * 100\n",
    "dates = Index.index"
   ]
  },
  {
   "cell_type": "code",
   "execution_count": 7,
   "metadata": {},
   "outputs": [
    {
     "data": {
      "image/png": "[encoded data removed]",
      "text/plain": [
       "<Figure size 432x288 with 1 Axes>"
      ]
     },
     "metadata": {
      "needs_background": "light"
     },
     "output_type": "display_data"
    }
   ],
   "source": [
    "# Add axis labels and a title\n",
    "plt.xlabel('Date')\n",
    "plt.ylabel('Return (%)')\n",
    "plt.title('KLSE Historical Returns')\n",
    "\n",
    "# Create a scatterplot of the returns data\n",
    "plt.scatter(dates, returns);"
   ]
  }
 ],
 "metadata": {
  "kernelspec": {
   "display_name": "Python 3",
   "language": "python",
   "name": "python3"
  },
  "language_info": {
   "codemirror_mode": {
    "name": "ipython",
    "version": 3
   },
   "file_extension": ".py",
   "mimetype": "text/x-python",
   "name": "python",
   "nbconvert_exporter": "python",
   "pygments_lexer": "ipython3",
   "version": "3.10.9"
  },
  "orig_nbformat": 4,
  "vscode": {
   "interpreter": {
    "hash": "be8f78547676d52443a4621dd37537938f0ad272a6eaa40873f216838f0989ae"
   }
  }
 },
 "nbformat": 4,
 "nbformat_minor": 2
}
