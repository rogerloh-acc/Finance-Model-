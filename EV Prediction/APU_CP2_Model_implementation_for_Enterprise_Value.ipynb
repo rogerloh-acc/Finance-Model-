{
  "nbformat": 4,
  "nbformat_minor": 0,
  "metadata": {
    "colab": {
      "provenance": [],
      "gpuType": "V28"
    },
    "kernelspec": {
      "name": "python3",
      "display_name": "Python 3"
    },
    "language_info": {
      "name": "python"
    },
    "accelerator": "TPU"
  },
  "cells": [
    {
      "cell_type": "code",
      "source": [
        "!pip install -q xgboost tensorflow shap openpyxl"
      ],
      "metadata": {
        "id": "uh1S3LIasgfI"
      },
      "execution_count": 1,
      "outputs": []
    },
    {
      "cell_type": "code",
      "source": [
        "import pandas as pd\n",
        "import numpy as np\n",
        "import matplotlib.pyplot as plt\n",
        "import seaborn as sns\n",
        "from sklearn.model_selection import train_test_split, GroupKFold, cross_val_score, GridSearchCV\n",
        "from sklearn.preprocessing import StandardScaler\n",
        "from sklearn.ensemble import RandomForestRegressor\n",
        "from sklearn.linear_model import Ridge\n",
        "from sklearn.metrics import mean_absolute_error, mean_squared_error, r2_score\n",
        "from sklearn.model_selection import RandomizedSearchCV, GridSearchCV\n",
        "import time\n",
        "import xgboost as xgb\n",
        "from tensorflow import keras\n",
        "from tensorflow.keras import layers\n",
        "import shap\n",
        "from scipy import stats\n",
        "import warnings\n",
        "warnings.filterwarnings('ignore')"
      ],
      "metadata": {
        "id": "XtCfwDDmjT1w"
      },
      "execution_count": 2,
      "outputs": []
    },
    {
      "cell_type": "markdown",
      "source": [
        "**1. Data Import and Audit**"
      ],
      "metadata": {
        "id": "XlUGkbXQddYy"
      }
    },
    {
      "cell_type": "code",
      "execution_count": 3,
      "metadata": {
        "colab": {
          "base_uri": "https://localhost:8080/"
        },
        "id": "0StiRuo4cQh7",
        "outputId": "089a4f33-a28d-44d4-f7ac-d39d4116792f"
      },
      "outputs": [
        {
          "output_type": "stream",
          "name": "stdout",
          "text": [
            "Drive already mounted at /content/drive; to attempt to forcibly remount, call drive.mount(\"/content/drive\", force_remount=True).\n"
          ]
        }
      ],
      "source": [
        "# Mount Google Drive in Colab\n",
        "from google.colab import drive\n",
        "drive.mount('/content/drive')"
      ]
    },
    {
      "cell_type": "code",
      "source": [
        "# Load the Excel File\n",
        "file_path = '/content/drive/MyDrive/Bursa_Data.xlsx'\n",
        "df = pd.read_excel(file_path, sheet_name='Data (Paste)')\n",
        "print(f\"Raw data shape: {df.shape}\")"
      ],
      "metadata": {
        "colab": {
          "base_uri": "https://localhost:8080/"
        },
        "id": "UavY2q7Hd13-",
        "outputId": "c309ebdc-2ffd-4397-9ede-3d277ca1180d"
      },
      "execution_count": 4,
      "outputs": [
        {
          "output_type": "stream",
          "name": "stdout",
          "text": [
            "Raw data shape: (10500, 49)\n"
          ]
        }
      ]
    },
    {
      "cell_type": "code",
      "source": [
        "# Standardize column names\n",
        "df.columns = df.columns.str.lower().str.strip().str.replace('  ', ' ')\n",
        "print(\"Column names standardised\")"
      ],
      "metadata": {
        "colab": {
          "base_uri": "https://localhost:8080/"
        },
        "id": "3KLS3ALXh-u2",
        "outputId": "ab813abf-6677-433b-91ad-5ce8116c9c37"
      },
      "execution_count": 5,
      "outputs": [
        {
          "output_type": "stream",
          "name": "stdout",
          "text": [
            "Column names standardised\n"
          ]
        }
      ]
    },
    {
      "cell_type": "code",
      "source": [
        "# Create key identifiers\n",
        "df['firm_id'] = df['ric code']\n",
        "df['entity_name'] = df[\"entity's name\"]\n",
        "df['year'] = pd.to_datetime(df['date']).dt.year\n",
        "print(\"Keys created: firm_id, entity_name, year\")"
      ],
      "metadata": {
        "colab": {
          "base_uri": "https://localhost:8080/"
        },
        "id": "AmnYDvlbkKjY",
        "outputId": "49853e62-2c8f-4698-cfa5-9418ea80299c"
      },
      "execution_count": 6,
      "outputs": [
        {
          "output_type": "stream",
          "name": "stdout",
          "text": [
            "Keys created: firm_id, entity_name, year\n"
          ]
        }
      ]
    },
    {
      "cell_type": "code",
      "source": [
        "# Check data uniqueness\n",
        "duplicate_check = df.groupby(['firm_id', 'year']).size()\n",
        "duplicates = duplicate_check[duplicate_check > 1]\n",
        "if len(duplicates) > 0:\n",
        "    print(f\"WARNING: Found {len(duplicates)} duplicate firm-year combinations\")\n",
        "    print(\"Duplicate firm-year counts:\")\n",
        "    print(duplicates.head(10))\n",
        "else:\n",
        "    print(\"✓ No duplicate firm-year combinations found\")"
      ],
      "metadata": {
        "colab": {
          "base_uri": "https://localhost:8080/"
        },
        "id": "RWDwok4WkwiU",
        "outputId": "91f77e75-24ee-4ef7-df70-57d979b01be8"
      },
      "execution_count": 7,
      "outputs": [
        {
          "output_type": "stream",
          "name": "stdout",
          "text": [
            "✓ No duplicate firm-year combinations found\n"
          ]
        }
      ]
    },
    {
      "cell_type": "code",
      "source": [
        "# Quick inventory\n",
        "print(f\"   - Total firms: {df['firm_id'].nunique()}\")\n",
        "print(f\"   - Years covered: {df['year'].min()} to {df['year'].max()}\")\n",
        "print(f\"   - Average years per firm: {df.groupby('firm_id')['year'].count().mean():.1f}\")\n",
        "print(f\"   - Rows per year:\")\n",
        "for year in sorted(df['year'].unique()):\n",
        "    print(f\"     {year}: {len(df[df['year'] == year])} rows\")"
      ],
      "metadata": {
        "colab": {
          "base_uri": "https://localhost:8080/"
        },
        "id": "qM_YLrQ6k5gY",
        "outputId": "530453cc-03c8-4964-ef22-9e0c6c7c6f18"
      },
      "execution_count": 8,
      "outputs": [
        {
          "output_type": "stream",
          "name": "stdout",
          "text": [
            "   - Total firms: 700\n",
            "   - Years covered: 2010 to 2024\n",
            "   - Average years per firm: 15.0\n",
            "   - Rows per year:\n",
            "     2010: 700 rows\n",
            "     2011: 700 rows\n",
            "     2012: 700 rows\n",
            "     2013: 700 rows\n",
            "     2014: 700 rows\n",
            "     2015: 700 rows\n",
            "     2016: 700 rows\n",
            "     2017: 700 rows\n",
            "     2018: 700 rows\n",
            "     2019: 700 rows\n",
            "     2020: 700 rows\n",
            "     2021: 700 rows\n",
            "     2022: 700 rows\n",
            "     2023: 700 rows\n",
            "     2024: 700 rows\n"
          ]
        }
      ]
    },
    {
      "cell_type": "code",
      "source": [
        "# Units and currency check\n",
        "# Identify columns with 'million' in the name\n",
        "value_columns = [col for col in df.columns if 'million' in col.lower()]\n",
        "print(f\"Found {len(value_columns)} columns with 'million' tag\")\n",
        "print(\"Currency used: Malaysian Ringgit (RM) - millions\")"
      ],
      "metadata": {
        "colab": {
          "base_uri": "https://localhost:8080/"
        },
        "id": "ikBr12-1lAiy",
        "outputId": "e8a1141e-c87f-4457-968b-0afe36a3d159"
      },
      "execution_count": 9,
      "outputs": [
        {
          "output_type": "stream",
          "name": "stdout",
          "text": [
            "Found 0 columns with 'million' tag\n",
            "Currency used: Malaysian Ringgit (RM) - millions\n"
          ]
        }
      ]
    },
    {
      "cell_type": "code",
      "source": [
        "# Acceptance check\n",
        "print(f\"   ✓ Duplicate firm-year check: {'PASS' if len(duplicates) == 0 else 'FAIL'}\")\n",
        "print(f\"   ✓ Years present (2010-2024): {'PASS' if df['year'].min() == 2010 and df['year'].max() == 2024 else 'PARTIAL'}\")\n",
        "print(f\"   ✓ Firm count (>650): {df['firm_id'].nunique()} firms\")\n",
        "print(f\"   ✓ Enterprise Value column: {'FOUND' if 'enterprise value in million' in df.columns else 'NOT FOUND'}\")"
      ],
      "metadata": {
        "colab": {
          "base_uri": "https://localhost:8080/"
        },
        "id": "CuY13VdOlLsR",
        "outputId": "9ca0becd-d98e-486c-a773-0140bf7aa826"
      },
      "execution_count": 10,
      "outputs": [
        {
          "output_type": "stream",
          "name": "stdout",
          "text": [
            "   ✓ Duplicate firm-year check: PASS\n",
            "   ✓ Years present (2010-2024): PASS\n",
            "   ✓ Firm count (>650): 700 firms\n",
            "   ✓ Enterprise Value column: NOT FOUND\n"
          ]
        }
      ]
    },
    {
      "cell_type": "markdown",
      "source": [
        "**2. Cleaning and Sanitisation**"
      ],
      "metadata": {
        "id": "WoPOlkkGlfgf"
      }
    },
    {
      "cell_type": "code",
      "source": [
        "# Trim text fields\n",
        "text_columns = df.select_dtypes(include=['object']).columns\n",
        "for col in text_columns:\n",
        "    df[col] = df[col].astype(str).str.strip()\n",
        "print(f\"Trimmed {len(text_columns)} text columns\")"
      ],
      "metadata": {
        "colab": {
          "base_uri": "https://localhost:8080/"
        },
        "id": "h2S9ZHsylk-X",
        "outputId": "cb176b20-4303-491f-b801-3d81066a6216"
      },
      "execution_count": 11,
      "outputs": [
        {
          "output_type": "stream",
          "name": "stdout",
          "text": [
            "Trimmed 5 text columns\n"
          ]
        }
      ]
    },
    {
      "cell_type": "code",
      "source": [
        "# Coerce numerics: Converting financial columns to numeric\n",
        "financial_keywords = ['revenue', 'ebitda', 'capex', 'debt', 'equity', 'assets',\n",
        "                     'receivables', 'enterprise value', 'market cap', 'income', 'dividend']\n",
        "financial_columns = []\n",
        "for col in df.columns:\n",
        "    col_lower = col.lower()\n",
        "    if any(keyword in col_lower for keyword in financial_keywords):\n",
        "        financial_columns.append(col)\n",
        "\n",
        "before_missing = {}\n",
        "for col in financial_columns:\n",
        "    before_missing[col] = df[col].isna().sum()\n",
        "    df[col] = pd.to_numeric(df[col], errors='coerce')\n",
        "print(f\"Converted {len(financial_columns)} columns to numeric\")"
      ],
      "metadata": {
        "colab": {
          "base_uri": "https://localhost:8080/"
        },
        "id": "AUOKZkMJlwRn",
        "outputId": "e65fb554-459e-4efd-e810-2074a1b63fe5"
      },
      "execution_count": 12,
      "outputs": [
        {
          "output_type": "stream",
          "name": "stdout",
          "text": [
            "Converted 17 columns to numeric\n"
          ]
        }
      ]
    },
    {
      "cell_type": "code",
      "source": [
        "# Handle missing values\n",
        "'''\n",
        "Per CP1: Exclude firms with >2 consecutive years missing\n",
        "'''\n",
        "# Identify key variables - check for different naming conventions\n",
        "key_var_patterns = [\n",
        "    ['ebitda in million', 'ebitda (mil)', 'ebitda'],\n",
        "    ['revenue in million', 'revenue (mil)', 'revenue', 'total revenue']\n",
        "]\n",
        "\n",
        "key_vars = []\n",
        "for patterns in key_var_patterns:\n",
        "    for pattern in patterns:\n",
        "        matching_cols = [col for col in df.columns if pattern in col.lower()]\n",
        "        if matching_cols:\n",
        "            key_vars.append(matching_cols[0])\n",
        "            break\n",
        "\n",
        "print(f\"Key variables for missing value check: {key_vars}\")\n",
        "firms_to_exclude = set()\n",
        "\n",
        "for firm in df['firm_id'].unique():\n",
        "    firm_data = df[df['firm_id'] == firm].sort_values('year')\n",
        "    for var in key_vars:\n",
        "        if var in df.columns:\n",
        "            missing_mask = firm_data[var].isna()\n",
        "            # Check for consecutive missing values\n",
        "            consecutive_missing = 0\n",
        "            max_consecutive = 0\n",
        "            for is_missing in missing_mask:\n",
        "                if is_missing:\n",
        "                    consecutive_missing += 1\n",
        "                    max_consecutive = max(max_consecutive, consecutive_missing)\n",
        "                else:\n",
        "                    consecutive_missing = 0\n",
        "            if max_consecutive > 2:\n",
        "                firms_to_exclude.add(firm)\n",
        "                break\n",
        "\n",
        "print(f\"Firms excluded due to missing data rule: {len(firms_to_exclude)}\")\n",
        "df_clean = df[~df['firm_id'].isin(firms_to_exclude)].copy()\n",
        "print(f\"Remaining firms: {df_clean['firm_id'].nunique()}\")"
      ],
      "metadata": {
        "colab": {
          "base_uri": "https://localhost:8080/"
        },
        "id": "pkofX8Mll3ma",
        "outputId": "ad936076-5058-4a96-a8f5-7e8aa7890595"
      },
      "execution_count": 13,
      "outputs": [
        {
          "output_type": "stream",
          "name": "stdout",
          "text": [
            "Key variables for missing value check: ['ebitda (mil)', 'revenue (mil)']\n",
            "Firms excluded due to missing data rule: 19\n",
            "Remaining firms: 681\n"
          ]
        }
      ]
    },
    {
      "cell_type": "code",
      "source": [
        "# Outlier treatment: winsorisation at 1% and 99%\n",
        "outlier_columns = ['revenue in million', 'capex in million', 'total debt in million',\n",
        "                   'total assets in million', 'receivables in million']\n",
        "winsor_caps = {}\n",
        "for col in outlier_columns:\n",
        "    if col in df_clean.columns:\n",
        "        non_null = df_clean[col].dropna()\n",
        "        if len(non_null) > 0:\n",
        "            p1 = non_null.quantile(0.01)\n",
        "            p99 = non_null.quantile(0.99)\n",
        "            df_clean[col] = df_clean[col].clip(lower=p1, upper=p99)\n",
        "            winsor_caps[col] = {'1%': p1, '99%': p99}\n",
        "            print(f\"   {col}: [{p1:.2f}, {p99:.2f}]\")"
      ],
      "metadata": {
        "id": "fsJJc7dmmuh3"
      },
      "execution_count": 14,
      "outputs": []
    },
    {
      "cell_type": "code",
      "source": [
        "# Other sanity rules\n",
        "\n",
        "# Set negative assets and revenue to missing\n",
        "if 'total assets in million' in df_clean.columns:\n",
        "    negative_assets = (df_clean['total assets in million'] < 0).sum()\n",
        "    df_clean.loc[df_clean['total assets in million'] < 0, 'total assets in million'] = np.nan\n",
        "    print(f\"   Set {negative_assets} negative assets to missing\")\n",
        "\n",
        "if 'revenue in million' in df_clean.columns:\n",
        "    negative_revenue = (df_clean['revenue in million'] < 0).sum()\n",
        "    df_clean.loc[df_clean['revenue in million'] < 0, 'revenue in million'] = np.nan\n",
        "    print(f\"   Set {negative_revenue} negative revenue to missing\")\n",
        "\n",
        "# Calculate debt/equity ratio and flag extremes\n",
        "if 'total debt in million' in df_clean.columns and 'total equity in million' in df_clean.columns:\n",
        "    df_clean['debt_equity_ratio'] = df_clean['total debt in million'] / df_clean['total equity in million']\n",
        "    extreme_leverage = (df_clean['debt_equity_ratio'] > 10).sum()\n",
        "    print(f\"   Flagged {extreme_leverage} firms with debt/equity > 10\")"
      ],
      "metadata": {
        "id": "G4KEPflEnLB6"
      },
      "execution_count": 15,
      "outputs": []
    },
    {
      "cell_type": "code",
      "source": [
        "# Acceptance check\n",
        "\n",
        "print(\"\\nMissing rates by column (before and after):\")\n",
        "missing_summary = pd.DataFrame({\n",
        "    'Before': [before_missing.get(col, 0) for col in financial_columns[:10]],\n",
        "    'After': [df_clean[col].isna().sum() if col in df_clean.columns else 0 for col in financial_columns[:10]]\n",
        "}, index=financial_columns[:10])\n",
        "print(missing_summary)\n",
        "\n",
        "print(f\"\\nFinal dataset: {df_clean.shape[0]} rows, {df_clean['firm_id'].nunique()} firms\")"
      ],
      "metadata": {
        "colab": {
          "base_uri": "https://localhost:8080/"
        },
        "id": "p0CT_thhnbps",
        "outputId": "5fc3eda1-abbf-4618-c3d6-2113f5a24665"
      },
      "execution_count": 16,
      "outputs": [
        {
          "output_type": "stream",
          "name": "stdout",
          "text": [
            "\n",
            "Missing rates by column (before and after):\n",
            "                            Before  After\n",
            "revenue (mil)                  491    402\n",
            "ebitda (mil)                   265    213\n",
            "net income (mil)               348    284\n",
            "trade receivables (mil)        806    763\n",
            "total current assets (mil)     645    603\n",
            "total assets (mil)             465    422\n",
            "total debts (mil)             1173   1110\n",
            "total equity (mil)             466    423\n",
            "capex (mil)                   1561   1447\n",
            "ebitda margin                  720    613\n",
            "\n",
            "Final dataset: 10215 rows, 681 firms\n"
          ]
        }
      ]
    },
    {
      "cell_type": "markdown",
      "source": [
        "**3. Feature Set and Leakage Checks**"
      ],
      "metadata": {
        "id": "NBT5JySUnrfi"
      }
    },
    {
      "cell_type": "code",
      "source": [
        "# Set target variable\n",
        "# Check for enterprise value column with different naming conventions\n",
        "possible_target_cols = ['enterprise value in million', 'enterprise value (mil)', 'enterprise value']\n",
        "target_col = None\n",
        "for col in possible_target_cols:\n",
        "    if col in df_clean.columns:\n",
        "        target_col = col\n",
        "        break\n",
        "\n",
        "if target_col:\n",
        "    df_clean['target_ev'] = df_clean[target_col]\n",
        "    df_clean['log_target_ev'] = np.log1p(df_clean['target_ev'])  # log transform for stability\n",
        "    print(f\"Target variable set: {target_col}\")\n",
        "    print(f\"Applied log transformation for modeling stability\")\n",
        "else:\n",
        "    print(f\"ERROR: No enterprise value column found!\")\n",
        "    print(\"Available columns with 'enterprise' in name:\")\n",
        "    print([col for col in df_clean.columns if 'enterprise' in col.lower()])"
      ],
      "metadata": {
        "colab": {
          "base_uri": "https://localhost:8080/"
        },
        "id": "I-c8Tuoinwu1",
        "outputId": "55b0e529-1947-4e0b-fe8f-ec35b861c4cf"
      },
      "execution_count": 17,
      "outputs": [
        {
          "output_type": "stream",
          "name": "stdout",
          "text": [
            "Target variable set: enterprise value (mil)\n",
            "Applied log transformation for modeling stability\n"
          ]
        }
      ]
    },
    {
      "cell_type": "code",
      "source": [
        "# Drop leaky fields\n",
        "\n",
        "# First, make a copy with all columns\n",
        "feature_df = df_clean.copy()\n",
        "\n",
        "# Identify columns to drop (excluding our targets and the original EV column we used)\n",
        "leaky_columns = [col for col in feature_df.columns if\n",
        "                (('market capitalisation' in col.lower() or\n",
        "                  'enterprise value' in col.lower() or\n",
        "                  col.lower().startswith('ev to')) and\n",
        "                 col not in ['target_ev', 'log_target_ev'])]\n",
        "\n",
        "print(f\"Dropping {len(leaky_columns)} potentially leaky columns\")\n",
        "print(f\"Keeping target columns: target_ev, log_target_ev\")\n",
        "\n",
        "# Drop only the leaky columns\n",
        "feature_df = feature_df.drop(columns=leaky_columns, errors='ignore')\n",
        "\n",
        "# Verify target columns exist\n",
        "if 'log_target_ev' not in feature_df.columns:\n",
        "    print(\"ERROR: log_target_ev still missing from feature_df after copy!\")\n",
        "else:\n",
        "    print(\"✓ Target columns successfully preserved\")"
      ],
      "metadata": {
        "colab": {
          "base_uri": "https://localhost:8080/"
        },
        "id": "vB4_PI6toErp",
        "outputId": "b7e44099-2da9-483a-df48-80f78ee060a8"
      },
      "execution_count": 18,
      "outputs": [
        {
          "output_type": "stream",
          "name": "stdout",
          "text": [
            "Dropping 6 potentially leaky columns\n",
            "Keeping target columns: target_ev, log_target_ev\n",
            "✓ Target columns successfully preserved\n"
          ]
        }
      ]
    },
    {
      "cell_type": "code",
      "source": [
        "# Create core features\n",
        "\n",
        "print(\"\\nAvailable columns in feature_df:\")\n",
        "print(feature_df.columns.tolist()[:20])  # Show first 20 columns\n",
        "\n",
        "features = []\n",
        "\n",
        "# Core financial features - with flexible matching\n",
        "revenue_cols = [col for col in feature_df.columns if 'revenue' in col.lower() and 'growth' not in col.lower()]\n",
        "if revenue_cols:\n",
        "    features.append(revenue_cols[0])\n",
        "    print(f\"Added revenue column: {revenue_cols[0]}\")\n",
        "\n",
        "ebitda_cols = [col for col in feature_df.columns if 'ebitda' in col.lower() and 'growth' not in col.lower()]\n",
        "if ebitda_cols:\n",
        "    features.append(ebitda_cols[0])\n",
        "    print(f\"Added EBITDA column: {ebitda_cols[0]}\")\n",
        "\n",
        "capex_cols = [col for col in feature_df.columns if 'capex' in col.lower() or 'capital expenditure' in col.lower()]\n",
        "if capex_cols:\n",
        "    features.append(capex_cols[0])\n",
        "    print(f\"Added CAPEX column: {capex_cols[0]}\")\n",
        "\n",
        "# Create derived ratios\n",
        "debt_cols = [col for col in feature_df.columns if 'debt' in col.lower() and 'total' in col.lower()]\n",
        "equity_cols = [col for col in feature_df.columns if 'equity' in col.lower()]\n",
        "if debt_cols and equity_cols:\n",
        "    feature_df['leverage_ratio'] = feature_df[debt_cols[0]] / feature_df[equity_cols[0]].replace(0, np.nan)\n",
        "    features.append('leverage_ratio')\n",
        "    print(f\"Created leverage_ratio from {debt_cols[0]} / {equity_cols[0]}\")\n",
        "\n",
        "dividend_cols = [col for col in feature_df.columns if 'dividend' in col.lower()]\n",
        "income_cols = [col for col in feature_df.columns if 'net income' in col.lower() or 'net profit' in col.lower()]\n",
        "if dividend_cols and income_cols:\n",
        "    feature_df['payout_ratio'] = feature_df[dividend_cols[0]] / feature_df[income_cols[0]].replace(0, np.nan)\n",
        "    features.append('payout_ratio')\n",
        "    print(f\"Created payout_ratio from {dividend_cols[0]} / {income_cols[0]}\")\n",
        "\n",
        "# Profitability ratios\n",
        "if income_cols and equity_cols:\n",
        "    feature_df['roe'] = feature_df[income_cols[0]] / feature_df[equity_cols[0]].replace(0, np.nan)\n",
        "    features.append('roe')\n",
        "    print(f\"Created ROE from {income_cols[0]} / {equity_cols[0]}\")\n",
        "\n",
        "asset_cols = [col for col in feature_df.columns if 'asset' in col.lower() and 'total' in col.lower()]\n",
        "if income_cols and asset_cols:\n",
        "    feature_df['roa'] = feature_df[income_cols[0]] / feature_df[asset_cols[0]].replace(0, np.nan)\n",
        "    features.append('roa')\n",
        "    print(f\"Created ROA from {income_cols[0]} / {asset_cols[0]}\")\n",
        "\n",
        "# Growth rates (year-over-year)\n",
        "feature_df = feature_df.sort_values(['firm_id', 'year'])\n",
        "if revenue_cols:\n",
        "    feature_df['revenue_growth'] = feature_df.groupby('firm_id')[revenue_cols[0]].pct_change()\n",
        "    features.append('revenue_growth')\n",
        "    print(f\"Created revenue_growth from {revenue_cols[0]}\")\n",
        "\n",
        "if ebitda_cols:\n",
        "    feature_df['ebitda_growth'] = feature_df.groupby('firm_id')[ebitda_cols[0]].pct_change()\n",
        "    features.append('ebitda_growth')\n",
        "    print(f\"Created ebitda_growth from {ebitda_cols[0]}\")\n",
        "\n",
        "# If still no features, use any numeric columns available\n",
        "if len(features) == 0:\n",
        "    print(\"\\nWARNING: No standard features found. Using all numeric columns...\")\n",
        "    numeric_cols = feature_df.select_dtypes(include=[np.number]).columns.tolist()\n",
        "    # Exclude identifiers and target\n",
        "    exclude = ['firm_id', 'year', 'target_ev', 'log_target_ev']\n",
        "    features = [col for col in numeric_cols if col not in exclude][:10]  # Take first 10\n",
        "    print(f\"Using fallback features: {features}\")\n",
        "\n",
        "print(f\"\\nFinal feature count: {len(features)}\")\n",
        "if len(features) == 0:\n",
        "    print(\"ERROR: No features could be created! Check your column names.\")\n",
        "    print(\"Available numeric columns:\")\n",
        "    print(feature_df.select_dtypes(include=[np.number]).columns.tolist())"
      ],
      "metadata": {
        "colab": {
          "base_uri": "https://localhost:8080/"
        },
        "id": "MhJtJ_xEoRGf",
        "outputId": "a5b1fdf8-2c31-4d9c-9d5b-c1c8b5299e6d"
      },
      "execution_count": 19,
      "outputs": [
        {
          "output_type": "stream",
          "name": "stdout",
          "text": [
            "\n",
            "Available columns in feature_df:\n",
            "['ric code', \"entity's name\", 'currency', 'revenue (mil)', 'cogs (mil)', 'gross profit (mil)', 'net interest exp (mil)', 'ebitda (mil)', 'ebit (mil)', 'pbt (mil)', 'net income (mil)', 'cash and short-term investment (mil)', 'trade receivables (mil)', 'inventory (mil)', 'total current assets (mil)', 'ppe (mil)', 'total assets (mil)', 'total current liabilities (mil)', 'total liabilities (mil)', 'total debts (mil)']\n",
            "Added revenue column: revenue (mil)\n",
            "Added EBITDA column: ebitda (mil)\n",
            "Added CAPEX column: capex (mil)\n",
            "Created leverage_ratio from total debts (mil) / total equity (mil)\n",
            "Created payout_ratio from dividend payout ratio / net income (mil)\n",
            "Created ROE from net income (mil) / total equity (mil)\n",
            "Created ROA from net income (mil) / total current assets (mil)\n",
            "Created revenue_growth from revenue (mil)\n",
            "Created ebitda_growth from ebitda (mil)\n",
            "\n",
            "Final feature count: 9\n"
          ]
        }
      ]
    },
    {
      "cell_type": "code",
      "source": [
        "# Feature scaling and transforms\n",
        "# Log transform for heavy-tailed variables\n",
        "if 'capex in million' in features:\n",
        "    feature_df['log_capex'] = np.log1p(feature_df['capex in million'].clip(lower=0))\n",
        "    features.remove('capex in million')\n",
        "    features.append('log_capex')"
      ],
      "metadata": {
        "id": "GGa5xw9Qoa0b"
      },
      "execution_count": 20,
      "outputs": []
    },
    {
      "cell_type": "code",
      "source": [
        "# Acceptance checks\n",
        "print(f\"   Final feature count: {len(features)}\")\n",
        "print(f\"   Features list: {features}\")\n",
        "print(f\"   ✓ No EV or Market Cap in features: CONFIRMED\")\n",
        "print(f\"   ✓ Core drivers included: {'YES' if all(x in str(features) for x in ['revenue', 'ebitda']) else 'PARTIAL'}\")\n",
        "\n",
        "# Data dictionary\n",
        "data_dict = pd.DataFrame({\n",
        "    'Feature': features,\n",
        "    'Type': ['Continuous'] * len(features),\n",
        "    'Description': [f'Feature {i+1}' for i in range(len(features))]\n",
        "})\n",
        "print(\"\\nData dictionary created (sample):\")\n",
        "print(data_dict.head())"
      ],
      "metadata": {
        "colab": {
          "base_uri": "https://localhost:8080/"
        },
        "id": "UBoZAhuxokCp",
        "outputId": "99145720-933b-4aad-fdf0-fb8743087b5b"
      },
      "execution_count": 21,
      "outputs": [
        {
          "output_type": "stream",
          "name": "stdout",
          "text": [
            "   Final feature count: 9\n",
            "   Features list: ['revenue (mil)', 'ebitda (mil)', 'capex (mil)', 'leverage_ratio', 'payout_ratio', 'roe', 'roa', 'revenue_growth', 'ebitda_growth']\n",
            "   ✓ No EV or Market Cap in features: CONFIRMED\n",
            "   ✓ Core drivers included: YES\n",
            "\n",
            "Data dictionary created (sample):\n",
            "          Feature        Type Description\n",
            "0   revenue (mil)  Continuous   Feature 1\n",
            "1    ebitda (mil)  Continuous   Feature 2\n",
            "2     capex (mil)  Continuous   Feature 3\n",
            "3  leverage_ratio  Continuous   Feature 4\n",
            "4    payout_ratio  Continuous   Feature 5\n"
          ]
        }
      ]
    },
    {
      "cell_type": "markdown",
      "source": [
        "**4. Split and Validation Plan**"
      ],
      "metadata": {
        "id": "gmaEt8Kyo5Au"
      }
    },
    {
      "cell_type": "code",
      "source": [
        "# Prepare modeling dataset\n",
        "model_data = feature_df[features + ['firm_id', 'year', 'log_target_ev']].dropna()\n",
        "print(f\"Complete cases for modeling: {len(model_data)}\")"
      ],
      "metadata": {
        "colab": {
          "base_uri": "https://localhost:8080/"
        },
        "id": "HX8f04BiqjDd",
        "outputId": "cd8ee794-f231-4837-dc7a-59f47082dfa9"
      },
      "execution_count": 22,
      "outputs": [
        {
          "output_type": "stream",
          "name": "stdout",
          "text": [
            "Complete cases for modeling: 5117\n"
          ]
        }
      ]
    },
    {
      "cell_type": "code",
      "source": [
        "# Create temporal splits\n",
        "train_data = model_data[model_data['year'] <= 2020]\n",
        "val_data = model_data[(model_data['year'] >= 2021) & (model_data['year'] <= 2023)]\n",
        "test_data = model_data[model_data['year'] == 2024]\n",
        "\n",
        "print(f\"   Training set (2010-2020): {len(train_data)} rows, {train_data['firm_id'].nunique()} firms\")\n",
        "print(f\"   Validation set (2021-2023): {len(val_data)} rows, {val_data['firm_id'].nunique()} firms\")\n",
        "print(f\"   Test set (2024): {len(test_data)} rows, {test_data['firm_id'].nunique()} firms\")"
      ],
      "metadata": {
        "colab": {
          "base_uri": "https://localhost:8080/"
        },
        "id": "TL4ztHZjtkhB",
        "outputId": "83861b0b-3f2f-4f20-b2a0-91909176ddf3"
      },
      "execution_count": 23,
      "outputs": [
        {
          "output_type": "stream",
          "name": "stdout",
          "text": [
            "   Training set (2010-2020): 3627 rows, 610 firms\n",
            "   Validation set (2021-2023): 1151 rows, 505 firms\n",
            "   Test set (2024): 339 rows, 339 firms\n"
          ]
        }
      ]
    },
    {
      "cell_type": "code",
      "source": [
        "# Setup for cross-validation\n",
        "X_train = train_data[features].values\n",
        "y_train = train_data['log_target_ev'].values\n",
        "firm_groups = train_data['firm_id'].values\n",
        "\n",
        "# Group K-fold where groups are firm_id\n",
        "gkf = GroupKFold(n_splits=5)\n",
        "print(f\"   Using GroupKFold with 5 splits (grouped by firm_id)\")\n",
        "\n",
        "# Verify no firm appears in both train and validation of any fold\n",
        "for i, (train_idx, val_idx) in enumerate(gkf.split(X_train, y_train, firm_groups)):\n",
        "    train_firms = set(firm_groups[train_idx])\n",
        "    val_firms = set(firm_groups[val_idx])\n",
        "    overlap = train_firms.intersection(val_firms)\n",
        "    if len(overlap) > 0:\n",
        "        print(f\"   WARNING: Fold {i+1} has {len(overlap)} overlapping firms\")\n",
        "    else:\n",
        "        print(f\"   ✓ Fold {i+1}: No firm overlap (train: {len(train_firms)} firms, val: {len(val_firms)} firms)\")\n",
        "\n",
        "# Prepare validation and test sets\n",
        "X_val = val_data[features].values\n",
        "y_val = val_data['log_target_ev'].values\n",
        "X_test = test_data[features].values\n",
        "y_test = test_data['log_target_ev'].values"
      ],
      "metadata": {
        "colab": {
          "base_uri": "https://localhost:8080/"
        },
        "id": "N2hj9cX0tsi9",
        "outputId": "daf11e89-7af0-4c25-e46d-ecf94d0c2ea6"
      },
      "execution_count": 24,
      "outputs": [
        {
          "output_type": "stream",
          "name": "stdout",
          "text": [
            "   Using GroupKFold with 5 splits (grouped by firm_id)\n",
            "   ✓ Fold 1: No firm overlap (train: 488 firms, val: 122 firms)\n",
            "   ✓ Fold 2: No firm overlap (train: 488 firms, val: 122 firms)\n",
            "   ✓ Fold 3: No firm overlap (train: 488 firms, val: 122 firms)\n",
            "   ✓ Fold 4: No firm overlap (train: 488 firms, val: 122 firms)\n",
            "   ✓ Fold 5: No firm overlap (train: 488 firms, val: 122 firms)\n"
          ]
        }
      ]
    },
    {
      "cell_type": "code",
      "source": [
        "# Acceptance checks\n",
        "print(\"\\n4. Split validation:\")\n",
        "print(f\"   ✓ No future data in training: {'PASS' if train_data['year'].max() <= 2020 else 'FAIL'}\")\n",
        "print(f\"   ✓ Test set is 2024 only: {'PASS' if test_data['year'].min() == 2024 and test_data['year'].max() == 2024 else 'FAIL'}\")"
      ],
      "metadata": {
        "colab": {
          "base_uri": "https://localhost:8080/"
        },
        "id": "urtssuvvt4Dg",
        "outputId": "95442110-943e-4732-e191-bceb500ea8b4"
      },
      "execution_count": 25,
      "outputs": [
        {
          "output_type": "stream",
          "name": "stdout",
          "text": [
            "\n",
            "4. Split validation:\n",
            "   ✓ No future data in training: PASS\n",
            "   ✓ Test set is 2024 only: PASS\n"
          ]
        }
      ]
    },
    {
      "cell_type": "markdown",
      "source": [
        "**5. Baselines**"
      ],
      "metadata": {
        "id": "tilBWcnxuJ6D"
      }
    },
    {
      "cell_type": "code",
      "source": [
        "# Fitting Ridge regression baseline\n",
        "\n",
        "# Standardize features\n",
        "scaler = StandardScaler()\n",
        "X_train_scaled = scaler.fit_transform(X_train)\n",
        "X_val_scaled = scaler.transform(X_val)\n",
        "X_test_scaled = scaler.transform(X_test)\n",
        "\n",
        "# Fit Ridge regression\n",
        "ridge_model = Ridge(alpha=1.0)\n",
        "ridge_model.fit(X_train_scaled, y_train)\n",
        "\n",
        "# Predictions\n",
        "ridge_pred_val = ridge_model.predict(X_val_scaled)\n",
        "ridge_pred_test = ridge_model.predict(X_test_scaled)\n",
        "\n",
        "# Metrics in log space\n",
        "ridge_mae_log = mean_absolute_error(y_val, ridge_pred_val)\n",
        "ridge_rmse_log = np.sqrt(mean_squared_error(y_val, ridge_pred_val))\n",
        "ridge_r2_log = r2_score(y_val, ridge_pred_val)\n",
        "\n",
        "# Metrics in level (RM million)\n",
        "ridge_pred_val_level = np.expm1(ridge_pred_val)\n",
        "y_val_level = np.expm1(y_val)\n",
        "ridge_mae_level = mean_absolute_error(y_val_level, ridge_pred_val_level)\n",
        "ridge_rmse_level = np.sqrt(mean_squared_error(y_val_level, ridge_pred_val_level))\n",
        "\n",
        "print(f\"   Log space - MAE: {ridge_mae_log:.4f}, RMSE: {ridge_rmse_log:.4f}, R²: {ridge_r2_log:.4f}\")\n",
        "print(f\"   Level (RM million) - MAE: {ridge_mae_level:.2f}, RMSE: {ridge_rmse_level:.2f}\")"
      ],
      "metadata": {
        "colab": {
          "base_uri": "https://localhost:8080/"
        },
        "id": "LS2JWD5KuMbQ",
        "outputId": "edef865e-ba51-4e6d-dc26-6713176e5695"
      },
      "execution_count": 26,
      "outputs": [
        {
          "output_type": "stream",
          "name": "stdout",
          "text": [
            "   Log space - MAE: 1.1038, RMSE: 1.4868, R²: 0.2919\n",
            "   Level (RM million) - MAE: 1998009.99, RMSE: 65753011.26\n"
          ]
        }
      ]
    },
    {
      "cell_type": "markdown",
      "source": [
        "**6. Models**"
      ],
      "metadata": {
        "id": "b3_f_PlGvnyg"
      }
    },
    {
      "cell_type": "code",
      "source": [
        "# Initialize results storage\n",
        "model_results = {}"
      ],
      "metadata": {
        "id": "lFs2IazGv1DB"
      },
      "execution_count": 27,
      "outputs": []
    },
    {
      "cell_type": "markdown",
      "source": [
        "6.1 Random Forest"
      ],
      "metadata": {
        "id": "CSUz4mYtvu3E"
      }
    },
    {
      "cell_type": "code",
      "source": [
        "rf_model = RandomForestRegressor(\n",
        "    n_estimators=100,\n",
        "    max_depth=10,\n",
        "    min_samples_leaf=5,\n",
        "    min_samples_split=10,\n",
        "    random_state=42,\n",
        "    n_jobs=-1\n",
        ")\n",
        "\n",
        "rf_model.fit(X_train, y_train)\n",
        "\n",
        "rf_pred_val = rf_model.predict(X_val)\n",
        "rf_mae = mean_absolute_error(y_val, rf_pred_val)\n",
        "rf_rmse = np.sqrt(mean_squared_error(y_val, rf_pred_val))\n",
        "rf_r2 = r2_score(y_val, rf_pred_val)\n",
        "model_results['Random Forest'] = {'MAE': rf_mae, 'RMSE': rf_rmse, 'R2': rf_r2}\n",
        "print(f\"   RF Validation - MAE: {rf_mae:.4f}, RMSE: {rf_rmse:.4f}, R²: {rf_r2:.4f}\")"
      ],
      "metadata": {
        "colab": {
          "base_uri": "https://localhost:8080/"
        },
        "id": "Ukf5JOaJvr6e",
        "outputId": "d8a6260a-ee74-4664-f792-96bbca9d5f4c"
      },
      "execution_count": 28,
      "outputs": [
        {
          "output_type": "stream",
          "name": "stdout",
          "text": [
            "   RF Validation - MAE: 0.6462, RMSE: 0.9653, R²: 0.7015\n"
          ]
        }
      ]
    },
    {
      "cell_type": "markdown",
      "source": [
        "6.2 GBDT (XGBoost)"
      ],
      "metadata": {
        "id": "1KNUSQAEv97C"
      }
    },
    {
      "cell_type": "code",
      "source": [
        "gbdt_model = xgb.XGBRegressor(\n",
        "    n_estimators=100,\n",
        "    max_depth=5,\n",
        "    learning_rate=0.1,\n",
        "    subsample=0.8,\n",
        "    colsample_bytree=0.8,\n",
        "    random_state=42\n",
        ")\n",
        "\n",
        "gbdt_model.fit(\n",
        "    X_train, y_train,\n",
        "    eval_set=[(X_val, y_val)]\n",
        ")\n",
        "\n",
        "gbdt_pred_val = gbdt_model.predict(X_val)\n",
        "gbdt_mae = mean_absolute_error(y_val, gbdt_pred_val)\n",
        "gbdt_rmse = np.sqrt(mean_squared_error(y_val, gbdt_pred_val))\n",
        "gbdt_r2 = r2_score(y_val, gbdt_pred_val)\n",
        "model_results['GBDT'] = {'MAE': gbdt_mae, 'RMSE': gbdt_rmse, 'R2': gbdt_r2}\n",
        "print(f\"   GBDT Validation - MAE: {gbdt_mae:.4f}, RMSE: {gbdt_rmse:.4f}, R²: {gbdt_r2:.4f}\")"
      ],
      "metadata": {
        "colab": {
          "base_uri": "https://localhost:8080/"
        },
        "id": "YL0QwAJNwBGP",
        "outputId": "0a96c3bc-dc6a-4c5d-d548-7dd20ca46e0a"
      },
      "execution_count": 29,
      "outputs": [
        {
          "output_type": "stream",
          "name": "stdout",
          "text": [
            "[0]\tvalidation_0-rmse:1.65965\n",
            "[1]\tvalidation_0-rmse:1.55637\n",
            "[2]\tvalidation_0-rmse:1.45454\n",
            "[3]\tvalidation_0-rmse:1.36711\n",
            "[4]\tvalidation_0-rmse:1.29243\n",
            "[5]\tvalidation_0-rmse:1.23162\n",
            "[6]\tvalidation_0-rmse:1.17998\n",
            "[7]\tvalidation_0-rmse:1.14359\n",
            "[8]\tvalidation_0-rmse:1.10816\n",
            "[9]\tvalidation_0-rmse:1.07792\n",
            "[10]\tvalidation_0-rmse:1.05413\n",
            "[11]\tvalidation_0-rmse:1.03479\n",
            "[12]\tvalidation_0-rmse:1.01952\n",
            "[13]\tvalidation_0-rmse:1.00585\n",
            "[14]\tvalidation_0-rmse:0.99554\n",
            "[15]\tvalidation_0-rmse:0.98803\n",
            "[16]\tvalidation_0-rmse:0.98167\n",
            "[17]\tvalidation_0-rmse:0.97668\n",
            "[18]\tvalidation_0-rmse:0.97275\n",
            "[19]\tvalidation_0-rmse:0.96844\n",
            "[20]\tvalidation_0-rmse:0.96720\n",
            "[21]\tvalidation_0-rmse:0.96377\n",
            "[22]\tvalidation_0-rmse:0.96218\n",
            "[23]\tvalidation_0-rmse:0.96176\n",
            "[24]\tvalidation_0-rmse:0.96096\n",
            "[25]\tvalidation_0-rmse:0.95996\n",
            "[26]\tvalidation_0-rmse:0.96049\n",
            "[27]\tvalidation_0-rmse:0.96060\n",
            "[28]\tvalidation_0-rmse:0.96009\n",
            "[29]\tvalidation_0-rmse:0.96005\n",
            "[30]\tvalidation_0-rmse:0.96024\n",
            "[31]\tvalidation_0-rmse:0.96037\n",
            "[32]\tvalidation_0-rmse:0.96088\n",
            "[33]\tvalidation_0-rmse:0.96166\n",
            "[34]\tvalidation_0-rmse:0.96153\n",
            "[35]\tvalidation_0-rmse:0.96180\n",
            "[36]\tvalidation_0-rmse:0.96136\n",
            "[37]\tvalidation_0-rmse:0.96207\n",
            "[38]\tvalidation_0-rmse:0.96244\n",
            "[39]\tvalidation_0-rmse:0.96210\n",
            "[40]\tvalidation_0-rmse:0.96344\n",
            "[41]\tvalidation_0-rmse:0.96287\n",
            "[42]\tvalidation_0-rmse:0.96334\n",
            "[43]\tvalidation_0-rmse:0.96437\n",
            "[44]\tvalidation_0-rmse:0.96475\n",
            "[45]\tvalidation_0-rmse:0.96485\n",
            "[46]\tvalidation_0-rmse:0.96355\n",
            "[47]\tvalidation_0-rmse:0.96437\n",
            "[48]\tvalidation_0-rmse:0.96455\n",
            "[49]\tvalidation_0-rmse:0.96394\n",
            "[50]\tvalidation_0-rmse:0.96398\n",
            "[51]\tvalidation_0-rmse:0.96350\n",
            "[52]\tvalidation_0-rmse:0.96381\n",
            "[53]\tvalidation_0-rmse:0.96463\n",
            "[54]\tvalidation_0-rmse:0.96474\n",
            "[55]\tvalidation_0-rmse:0.96487\n",
            "[56]\tvalidation_0-rmse:0.96476\n",
            "[57]\tvalidation_0-rmse:0.96423\n",
            "[58]\tvalidation_0-rmse:0.96349\n",
            "[59]\tvalidation_0-rmse:0.96349\n",
            "[60]\tvalidation_0-rmse:0.96332\n",
            "[61]\tvalidation_0-rmse:0.96379\n",
            "[62]\tvalidation_0-rmse:0.96314\n",
            "[63]\tvalidation_0-rmse:0.96346\n",
            "[64]\tvalidation_0-rmse:0.96333\n",
            "[65]\tvalidation_0-rmse:0.96286\n",
            "[66]\tvalidation_0-rmse:0.96276\n",
            "[67]\tvalidation_0-rmse:0.96264\n",
            "[68]\tvalidation_0-rmse:0.96251\n",
            "[69]\tvalidation_0-rmse:0.96267\n",
            "[70]\tvalidation_0-rmse:0.96305\n",
            "[71]\tvalidation_0-rmse:0.96290\n",
            "[72]\tvalidation_0-rmse:0.96330\n",
            "[73]\tvalidation_0-rmse:0.96423\n",
            "[74]\tvalidation_0-rmse:0.96333\n",
            "[75]\tvalidation_0-rmse:0.96312\n",
            "[76]\tvalidation_0-rmse:0.96409\n",
            "[77]\tvalidation_0-rmse:0.96378\n",
            "[78]\tvalidation_0-rmse:0.96442\n",
            "[79]\tvalidation_0-rmse:0.96421\n",
            "[80]\tvalidation_0-rmse:0.96493\n",
            "[81]\tvalidation_0-rmse:0.96573\n",
            "[82]\tvalidation_0-rmse:0.96517\n",
            "[83]\tvalidation_0-rmse:0.96566\n",
            "[84]\tvalidation_0-rmse:0.96636\n",
            "[85]\tvalidation_0-rmse:0.96637\n",
            "[86]\tvalidation_0-rmse:0.96641\n",
            "[87]\tvalidation_0-rmse:0.96642\n",
            "[88]\tvalidation_0-rmse:0.96672\n",
            "[89]\tvalidation_0-rmse:0.96731\n",
            "[90]\tvalidation_0-rmse:0.96780\n",
            "[91]\tvalidation_0-rmse:0.96760\n",
            "[92]\tvalidation_0-rmse:0.96759\n",
            "[93]\tvalidation_0-rmse:0.96738\n",
            "[94]\tvalidation_0-rmse:0.96740\n",
            "[95]\tvalidation_0-rmse:0.96736\n",
            "[96]\tvalidation_0-rmse:0.96676\n",
            "[97]\tvalidation_0-rmse:0.96681\n",
            "[98]\tvalidation_0-rmse:0.96641\n",
            "[99]\tvalidation_0-rmse:0.96628\n",
            "   GBDT Validation - MAE: 0.6523, RMSE: 0.9663, R²: 0.7009\n"
          ]
        }
      ]
    },
    {
      "cell_type": "markdown",
      "source": [
        "6.3 ANN"
      ],
      "metadata": {
        "id": "9UxaiN_Fwe5P"
      }
    },
    {
      "cell_type": "code",
      "source": [
        "# Build ANN\n",
        "ann_model = keras.Sequential([\n",
        "    layers.Dense(64, activation='relu', input_shape=(X_train_scaled.shape[1],)),\n",
        "    layers.Dropout(0.2),\n",
        "    layers.Dense(32, activation='relu'),\n",
        "    layers.Dropout(0.2),\n",
        "    layers.Dense(16, activation='relu'),\n",
        "    layers.Dense(1)\n",
        "])\n",
        "\n",
        "ann_model.compile(\n",
        "    optimizer='adam',\n",
        "    loss='mse',\n",
        "    metrics=['mae']\n",
        ")\n",
        "\n",
        "# Train ANN\n",
        "history = ann_model.fit(\n",
        "    X_train_scaled, y_train,\n",
        "    validation_data=(X_val_scaled, y_val),\n",
        "    epochs=50,\n",
        "    batch_size=32,\n",
        "    verbose=0,\n",
        "    callbacks=[keras.callbacks.EarlyStopping(patience=10, restore_best_weights=True)]\n",
        ")\n",
        "\n",
        "ann_pred_val = ann_model.predict(X_val_scaled, verbose=0).flatten()\n",
        "ann_mae = mean_absolute_error(y_val, ann_pred_val)\n",
        "ann_rmse = np.sqrt(mean_squared_error(y_val, ann_pred_val))\n",
        "ann_r2 = r2_score(y_val, ann_pred_val)\n",
        "model_results['ANN'] = {'MAE': ann_mae, 'RMSE': ann_rmse, 'R2': ann_r2}\n",
        "print(f\"   ANN Validation - MAE: {ann_mae:.4f}, RMSE: {ann_rmse:.4f}, R²: {ann_r2:.4f}\")"
      ],
      "metadata": {
        "colab": {
          "base_uri": "https://localhost:8080/"
        },
        "id": "i-Az7O56wf7X",
        "outputId": "75bf8e7e-6670-4d50-f467-f954558aa025"
      },
      "execution_count": 30,
      "outputs": [
        {
          "output_type": "stream",
          "name": "stdout",
          "text": [
            "   ANN Validation - MAE: 0.7224, RMSE: 1.0282, R²: 0.6614\n"
          ]
        }
      ]
    },
    {
      "cell_type": "markdown",
      "source": [
        "**7. Hybrid Model**"
      ],
      "metadata": {
        "id": "RDqBSJorwpQ3"
      }
    },
    {
      "cell_type": "code",
      "source": [
        "# Hybrid Model: Stacking Approach\n",
        "\n",
        "# Creating out-of-fold GBDT predictions for training set\n",
        "print(\"\\n1. Creating out-of-fold GBDT predictions for training set...\")\n",
        "oof_predictions = np.zeros(len(X_train))\n",
        "\n",
        "for fold, (train_idx, val_idx) in enumerate(gkf.split(X_train, y_train, firm_groups)):\n",
        "    X_fold_train = X_train[train_idx]\n",
        "    y_fold_train = y_train[train_idx]\n",
        "    X_fold_val = X_train[val_idx]\n",
        "\n",
        "    # Train GBDT on this fold\n",
        "    fold_gbdt = xgb.XGBRegressor(\n",
        "        n_estimators=100,\n",
        "        max_depth=5,\n",
        "        learning_rate=0.1,\n",
        "        random_state=42\n",
        "    )\n",
        "    fold_gbdt.fit(X_fold_train, y_fold_train, verbose=False)\n",
        "\n",
        "    # Get predictions for validation part\n",
        "    oof_predictions[val_idx] = fold_gbdt.predict(X_fold_val)\n",
        "    print(f\"   Fold {fold+1} complete\")\n",
        "\n",
        "print(\"\\n2. Creating augmented feature matrix...\")\n",
        "# Add GBDT predictions as a feature\n",
        "X_train_hybrid = np.column_stack([X_train_scaled, oof_predictions.reshape(-1, 1)])\n",
        "\n",
        "# Get GBDT predictions for validation and test\n",
        "gbdt_val_pred = gbdt_model.predict(X_val)\n",
        "gbdt_test_pred = gbdt_model.predict(X_test)\n",
        "X_val_hybrid = np.column_stack([X_val_scaled, gbdt_val_pred.reshape(-1, 1)])\n",
        "X_test_hybrid = np.column_stack([X_test_scaled, gbdt_test_pred.reshape(-1, 1)])\n",
        "\n",
        "print(\"\\n3. Training hybrid ANN on augmented features...\")\n",
        "# Build hybrid ANN\n",
        "hybrid_model = keras.Sequential([\n",
        "    layers.Dense(64, activation='relu', input_shape=(X_train_hybrid.shape[1],)),\n",
        "    layers.Dropout(0.2),\n",
        "    layers.Dense(32, activation='relu'),\n",
        "    layers.Dropout(0.2),\n",
        "    layers.Dense(16, activation='relu'),\n",
        "    layers.Dense(1)\n",
        "])\n",
        "\n",
        "hybrid_model.compile(\n",
        "    optimizer='adam',\n",
        "    loss='mse',\n",
        "    metrics=['mae']\n",
        ")\n",
        "\n",
        "# Train hybrid model\n",
        "hybrid_history = hybrid_model.fit(\n",
        "    X_train_hybrid, y_train,\n",
        "    validation_data=(X_val_hybrid, y_val),\n",
        "    epochs=50,\n",
        "    batch_size=32,\n",
        "    verbose=0,\n",
        "    callbacks=[keras.callbacks.EarlyStopping(patience=10, restore_best_weights=True)]\n",
        ")\n",
        "\n",
        "hybrid_pred_val = hybrid_model.predict(X_val_hybrid, verbose=0).flatten()\n",
        "hybrid_mae = mean_absolute_error(y_val, hybrid_pred_val)\n",
        "hybrid_rmse = np.sqrt(mean_squared_error(y_val, hybrid_pred_val))\n",
        "hybrid_r2 = r2_score(y_val, hybrid_pred_val)\n",
        "model_results['Hybrid'] = {'MAE': hybrid_mae, 'RMSE': hybrid_rmse, 'R2': hybrid_r2}\n",
        "\n",
        "print(f\"\\n4. Hybrid Model Results:\")\n",
        "print(f\"   Validation - MAE: {hybrid_mae:.4f}, RMSE: {hybrid_rmse:.4f}, R²: {hybrid_r2:.4f}\")\n",
        "print(f\"   Hybrid - Stacking: Clean, no leakage, interpretable\")"
      ],
      "metadata": {
        "colab": {
          "base_uri": "https://localhost:8080/"
        },
        "id": "N4_fmk7KwvRJ",
        "outputId": "94f93ce6-3915-4adc-b6f6-c3751b09da0c"
      },
      "execution_count": 31,
      "outputs": [
        {
          "output_type": "stream",
          "name": "stdout",
          "text": [
            "\n",
            "1. Creating out-of-fold GBDT predictions for training set...\n",
            "   Fold 1 complete\n",
            "   Fold 2 complete\n",
            "   Fold 3 complete\n",
            "   Fold 4 complete\n",
            "   Fold 5 complete\n",
            "\n",
            "2. Creating augmented feature matrix...\n",
            "\n",
            "3. Training hybrid ANN on augmented features...\n",
            "\n",
            "4. Hybrid Model Results:\n",
            "   Validation - MAE: 0.6643, RMSE: 1.0632, R²: 0.6379\n",
            "   Hybrid - Stacking: Clean, no leakage, interpretable\n"
          ]
        }
      ]
    },
    {
      "cell_type": "markdown",
      "source": [
        "**8. Hyperparameter Tuning**"
      ],
      "metadata": {
        "id": "KClVm2dGyW-5"
      }
    },
    {
      "cell_type": "code",
      "source": [
        "# Store tuning results\n",
        "tuning_results = {}"
      ],
      "metadata": {
        "id": "_Bw17KL2-TEJ"
      },
      "execution_count": 32,
      "outputs": []
    },
    {
      "cell_type": "markdown",
      "source": [
        "8.1 Random Forest Tuning"
      ],
      "metadata": {
        "id": "Gn8A-zYu-WeS"
      }
    },
    {
      "cell_type": "code",
      "source": [
        "# H1: Random Forest Tuning\n",
        "print(\"\\n1. Tuning Random Forest...\")\n",
        "print(\"   Using RandomizedSearchCV with GroupKFold...\")\n",
        "\n",
        "rf_param_distributions = {\n",
        "    'n_estimators': [50, 100, 200, 300],\n",
        "    'max_depth': [5, 10, 15, 20, None],\n",
        "    'min_samples_split': [2, 5, 10, 20],\n",
        "    'min_samples_leaf': [1, 2, 5, 10],\n",
        "    'max_features': ['sqrt', 'log2', 0.5, 0.7]\n",
        "}\n",
        "\n",
        "rf_base = RandomForestRegressor(random_state=42, n_jobs=-1)\n",
        "rf_search = RandomizedSearchCV(\n",
        "    rf_base,\n",
        "    rf_param_distributions,\n",
        "    n_iter=20,  # Try 20 random combinations\n",
        "    cv=GroupKFold(n_splits=3),  # 3-fold for speed\n",
        "    scoring='neg_mean_absolute_error',\n",
        "    n_jobs=-1,\n",
        "    verbose=1,\n",
        "    random_state=42\n",
        ")\n",
        "\n",
        "start_time = time.time()\n",
        "rf_search.fit(X_train, y_train, groups=firm_groups)\n",
        "rf_tune_time = time.time() - start_time\n",
        "\n",
        "print(f\"   Best parameters: {rf_search.best_params_}\")\n",
        "print(f\"   Best CV MAE: {-rf_search.best_score_:.4f}\")\n",
        "print(f\"   Tuning time: {rf_tune_time:.1f} seconds\")\n",
        "\n",
        "# Store results\n",
        "tuning_results['Random Forest'] = {\n",
        "    'best_params': rf_search.best_params_,\n",
        "    'best_score': -rf_search.best_score_,\n",
        "    'all_results': pd.DataFrame(rf_search.cv_results_)[['params', 'mean_test_score', 'std_test_score']]\n",
        "}\n",
        "\n",
        "# Update the model with best parameters\n",
        "rf_model = rf_search.best_estimator_\n",
        "rf_pred_val = rf_model.predict(X_val)\n",
        "rf_mae_tuned = mean_absolute_error(y_val, rf_pred_val)\n",
        "print(f\"   Validation MAE after tuning: {rf_mae_tuned:.4f}\")"
      ],
      "metadata": {
        "colab": {
          "base_uri": "https://localhost:8080/"
        },
        "id": "BuSXl4Sv7eGn",
        "outputId": "2ddb72bd-a347-47d1-f052-37decc362035"
      },
      "execution_count": 33,
      "outputs": [
        {
          "output_type": "stream",
          "name": "stdout",
          "text": [
            "\n",
            "1. Tuning Random Forest...\n",
            "   Using RandomizedSearchCV with GroupKFold...\n",
            "Fitting 3 folds for each of 20 candidates, totalling 60 fits\n",
            "   Best parameters: {'n_estimators': 100, 'min_samples_split': 5, 'min_samples_leaf': 2, 'max_features': 0.5, 'max_depth': 10}\n",
            "   Best CV MAE: 0.6228\n",
            "   Tuning time: 30.8 seconds\n",
            "   Validation MAE after tuning: 0.6354\n"
          ]
        }
      ]
    },
    {
      "cell_type": "markdown",
      "source": [
        "8.2 GBDT (XGBoost) Tuning"
      ],
      "metadata": {
        "id": "-lTpYMiT-j3X"
      }
    },
    {
      "cell_type": "code",
      "source": [
        "# H2: GBDT (XGBoost) Tuning\n",
        "print(\"\\n2. Tuning GBDT (XGBoost)...\")\n",
        "print(\"   Using GridSearchCV with early stopping...\")\n",
        "\n",
        "# Define parameter grid\n",
        "gbdt_param_grid = {\n",
        "    'n_estimators': [100, 200, 300],\n",
        "    'max_depth': [3, 5, 7],\n",
        "    'learning_rate': [0.01, 0.1, 0.3],\n",
        "    'subsample': [0.6, 0.8, 1.0],\n",
        "    'colsample_bytree': [0.6, 0.8, 1.0]\n",
        "}\n",
        "\n",
        "# Use a coarser grid for initial search\n",
        "gbdt_param_grid_coarse = {\n",
        "    'max_depth': [3, 5, 7],\n",
        "    'learning_rate': [0.01, 0.1, 0.3],\n",
        "    'subsample': [0.8],\n",
        "    'colsample_bytree': [0.8]\n",
        "}\n",
        "\n",
        "gbdt_base = xgb.XGBRegressor(\n",
        "    n_estimators=100,\n",
        "    random_state=42,\n",
        "    n_jobs=-1,\n",
        "    early_stopping_rounds=10\n",
        ")\n",
        "\n",
        "gbdt_search = GridSearchCV(\n",
        "    gbdt_base,\n",
        "    gbdt_param_grid_coarse,\n",
        "    cv=GroupKFold(n_splits=3),\n",
        "    scoring='neg_mean_absolute_error',\n",
        "    n_jobs=-1,\n",
        "    verbose=1\n",
        ")\n",
        "\n",
        "start_time = time.time()\n",
        "# Fit with early stopping using validation set\n",
        "gbdt_search.fit(\n",
        "    X_train, y_train,\n",
        "    groups=firm_groups,\n",
        "    eval_set=[(X_val, y_val)],\n",
        "    verbose=False\n",
        ")\n",
        "gbdt_tune_time = time.time() - start_time\n",
        "\n",
        "print(f\"   Best parameters: {gbdt_search.best_params_}\")\n",
        "print(f\"   Best CV MAE: {-gbdt_search.best_score_:.4f}\")\n",
        "print(f\"   Tuning time: {gbdt_tune_time:.1f} seconds\")\n",
        "\n",
        "# Store results\n",
        "tuning_results['GBDT'] = {\n",
        "    'best_params': gbdt_search.best_params_,\n",
        "    'best_score': -gbdt_search.best_score_,\n",
        "    'all_results': pd.DataFrame(gbdt_search.cv_results_)[['params', 'mean_test_score', 'std_test_score']]\n",
        "}\n",
        "\n",
        "# Update model with best parameters\n",
        "gbdt_model = gbdt_search.best_estimator_\n",
        "gbdt_pred_val = gbdt_model.predict(X_val)\n",
        "gbdt_mae_tuned = mean_absolute_error(y_val, gbdt_pred_val)\n",
        "print(f\"   Validation MAE after tuning: {gbdt_mae_tuned:.4f}\")"
      ],
      "metadata": {
        "colab": {
          "base_uri": "https://localhost:8080/"
        },
        "id": "JVvK8AUi-PF-",
        "outputId": "0993d61e-d2d5-4369-919b-0edf3d16ecaa"
      },
      "execution_count": 34,
      "outputs": [
        {
          "output_type": "stream",
          "name": "stdout",
          "text": [
            "\n",
            "2. Tuning GBDT (XGBoost)...\n",
            "   Using GridSearchCV with early stopping...\n",
            "Fitting 3 folds for each of 9 candidates, totalling 27 fits\n",
            "   Best parameters: {'colsample_bytree': 0.8, 'learning_rate': 0.1, 'max_depth': 3, 'subsample': 0.8}\n",
            "   Best CV MAE: 0.6349\n",
            "   Tuning time: 0.8 seconds\n",
            "   Validation MAE after tuning: 0.6499\n"
          ]
        }
      ]
    },
    {
      "cell_type": "markdown",
      "source": [
        "8.3 ANN Tuning"
      ],
      "metadata": {
        "id": "43PPzdFt-wj0"
      }
    },
    {
      "cell_type": "code",
      "source": [
        "# H3: ANN Tuning\n",
        "print(\"\\n3. Tuning Artificial Neural Network...\")\n",
        "print(\"   Testing different architectures...\")\n",
        "\n",
        "ann_architectures = [\n",
        "    {'layers': [32, 16], 'dropout': 0.2, 'lr': 0.001},\n",
        "    {'layers': [64, 32], 'dropout': 0.2, 'lr': 0.001},\n",
        "    {'layers': [64, 32, 16], 'dropout': 0.3, 'lr': 0.001},\n",
        "    {'layers': [128, 64, 32], 'dropout': 0.3, 'lr': 0.0001},\n",
        "    {'layers': [32, 32, 32], 'dropout': 0.2, 'lr': 0.001}\n",
        "]\n",
        "\n",
        "ann_results = []\n",
        "best_ann_mae = float('inf')\n",
        "best_ann_model = None\n",
        "best_ann_params = None\n",
        "\n",
        "for i, config in enumerate(ann_architectures):\n",
        "    print(f\"   Testing architecture {i+1}/{len(ann_architectures)}: {config['layers']}\")\n",
        "\n",
        "    # Build model\n",
        "    model = keras.Sequential()\n",
        "    model.add(layers.Dense(config['layers'][0], activation='relu',\n",
        "                           input_shape=(X_train_scaled.shape[1],)))\n",
        "    model.add(layers.Dropout(config['dropout']))\n",
        "\n",
        "    for layer_size in config['layers'][1:]:\n",
        "        model.add(layers.Dense(layer_size, activation='relu'))\n",
        "        model.add(layers.Dropout(config['dropout']))\n",
        "\n",
        "    model.add(layers.Dense(1))\n",
        "\n",
        "    # Compile with specified learning rate\n",
        "    model.compile(\n",
        "        optimizer=keras.optimizers.Adam(learning_rate=config['lr']),\n",
        "        loss='mse',\n",
        "        metrics=['mae']\n",
        "    )\n",
        "\n",
        "    # Train with early stopping\n",
        "    history = model.fit(\n",
        "        X_train_scaled, y_train,\n",
        "        validation_data=(X_val_scaled, y_val),\n",
        "        epochs=100,\n",
        "        batch_size=32,\n",
        "        verbose=0,\n",
        "        callbacks=[\n",
        "            keras.callbacks.EarlyStopping(patience=10, restore_best_weights=True),\n",
        "            keras.callbacks.ReduceLROnPlateau(patience=5, factor=0.5, verbose=0)\n",
        "        ]\n",
        "    )\n",
        "\n",
        "    # Evaluate\n",
        "    pred = model.predict(X_val_scaled, verbose=0).flatten()\n",
        "    mae = mean_absolute_error(y_val, pred)\n",
        "\n",
        "    ann_results.append({\n",
        "        'architecture': config['layers'],\n",
        "        'dropout': config['dropout'],\n",
        "        'learning_rate': config['lr'],\n",
        "        'val_mae': mae,\n",
        "        'epochs_trained': len(history.history['loss'])\n",
        "    })\n",
        "\n",
        "    if mae < best_ann_mae:\n",
        "        best_ann_mae = mae\n",
        "        best_ann_model = model\n",
        "        best_ann_params = config\n",
        "\n",
        "    print(f\"     MAE: {mae:.4f}, Epochs: {len(history.history['loss'])}\")\n",
        "\n",
        "print(f\"\\n   Best ANN architecture: {best_ann_params['layers']}\")\n",
        "print(f\"   Best ANN MAE: {best_ann_mae:.4f}\")\n",
        "\n",
        "# Store results\n",
        "tuning_results['ANN'] = {\n",
        "    'best_params': best_ann_params,\n",
        "    'best_score': best_ann_mae,\n",
        "    'all_results': pd.DataFrame(ann_results)\n",
        "}\n",
        "\n",
        "# Update the ANN model\n",
        "ann_model = best_ann_model\n",
        "ann_pred_val = ann_model.predict(X_val_scaled, verbose=0).flatten()\n",
        "ann_mae_tuned = best_ann_mae"
      ],
      "metadata": {
        "colab": {
          "base_uri": "https://localhost:8080/"
        },
        "id": "O488as66-o5G",
        "outputId": "b7134b34-04c6-4ff7-d671-320407962450"
      },
      "execution_count": 35,
      "outputs": [
        {
          "output_type": "stream",
          "name": "stdout",
          "text": [
            "\n",
            "3. Tuning Artificial Neural Network...\n",
            "   Testing different architectures...\n",
            "   Testing architecture 1/5: [32, 16]\n",
            "     MAE: 0.7622, Epochs: 86\n",
            "   Testing architecture 2/5: [64, 32]\n",
            "     MAE: 0.7257, Epochs: 85\n",
            "   Testing architecture 3/5: [64, 32, 16]\n",
            "     MAE: 0.7439, Epochs: 73\n",
            "   Testing architecture 4/5: [128, 64, 32]\n",
            "     MAE: 0.8006, Epochs: 97\n",
            "   Testing architecture 5/5: [32, 32, 32]\n",
            "     MAE: 0.7441, Epochs: 49\n",
            "\n",
            "   Best ANN architecture: [64, 32]\n",
            "   Best ANN MAE: 0.7257\n"
          ]
        }
      ]
    },
    {
      "cell_type": "markdown",
      "source": [
        "8.4 Summary of Tuning Results"
      ],
      "metadata": {
        "id": "N3ROI6Ld-_3l"
      }
    },
    {
      "cell_type": "code",
      "source": [
        "# H4: Summary of Tuning Results\n",
        "print(\"\\n4. Tuning Summary:\")\n",
        "print(\"\\n\" + \"-\" * 70)\n",
        "print(f\"{'Model':<15} {'Original MAE':<15} {'Tuned MAE':<15} {'Improvement':<15}\")\n",
        "print(\"-\" * 70)\n",
        "\n",
        "original_maes = {'Random Forest': rf_mae, 'GBDT': gbdt_mae, 'ANN': ann_mae}\n",
        "tuned_maes = {'Random Forest': rf_mae_tuned, 'GBDT': gbdt_mae_tuned, 'ANN': ann_mae_tuned}\n",
        "\n",
        "for model in ['Random Forest', 'GBDT', 'ANN']:\n",
        "    orig = original_maes[model]\n",
        "    tuned = tuned_maes[model]\n",
        "    improvement = ((orig - tuned) / orig) * 100\n",
        "    print(f\"{model:<15} {orig:<15.4f} {tuned:<15.4f} {improvement:<15.2f}%\")\n",
        "\n",
        "# Save tuning results to CSV\n",
        "print(\"\\n5. Saving tuning results...\")\n",
        "# Best parameters table\n",
        "best_params_df = pd.DataFrame([\n",
        "    {'Model': model, **params}\n",
        "    for model, result in tuning_results.items()\n",
        "    for params in [result['best_params']]\n",
        "])\n",
        "best_params_df.to_csv('tuning_best_parameters.csv', index=False)\n",
        "print(\"   Saved: tuning_best_parameters.csv\")\n",
        "\n",
        "# Top 5 configurations for each model\n",
        "print(\"\\n6. Top 5 configurations per model:\")\n",
        "for model_name, results in tuning_results.items():\n",
        "    if 'all_results' in results:\n",
        "        print(f\"\\n   {model_name}:\")\n",
        "        df_results = results['all_results']\n",
        "\n",
        "        # Check which column exists for scores\n",
        "        if 'mean_test_score' in df_results.columns:\n",
        "            score_col = 'mean_test_score'\n",
        "            # For negative scoring metrics, sort in ascending order (less negative is better)\n",
        "            top_5 = df_results.nlargest(5, score_col) if df_results[score_col].mean() > 0 else df_results.nsmallest(5, score_col)\n",
        "            top_5 = top_5[['params', score_col]]\n",
        "\n",
        "            for idx, row in top_5.iterrows():\n",
        "                score_val = -row[score_col] if row[score_col] < 0 else row[score_col]\n",
        "                print(f\"     MAE: {score_val:.4f} - {row['params']}\")\n",
        "        else:\n",
        "            # For ANN results which have different structure\n",
        "            if 'val_mae' in df_results.columns:\n",
        "                top_5 = df_results.nsmallest(5, 'val_mae')\n",
        "                for idx, row in top_5.iterrows():\n",
        "                    print(f\"     MAE: {row['val_mae']:.4f} - Layers: {row['architecture']}, LR: {row['learning_rate']}, Dropout: {row['dropout']}\")\n",
        "\n",
        "# Update model results with tuned versions\n",
        "model_results['Random Forest'] = {'MAE': rf_mae_tuned, 'RMSE': np.sqrt(mean_squared_error(y_val, rf_pred_val)), 'R2': r2_score(y_val, rf_pred_val)}\n",
        "model_results['GBDT'] = {'MAE': gbdt_mae_tuned, 'RMSE': np.sqrt(mean_squared_error(y_val, gbdt_pred_val)), 'R2': r2_score(y_val, gbdt_pred_val)}\n",
        "model_results['ANN'] = {'MAE': ann_mae_tuned, 'RMSE': np.sqrt(mean_squared_error(y_val, ann_pred_val)), 'R2': r2_score(y_val, ann_pred_val)}\n"
      ],
      "metadata": {
        "colab": {
          "base_uri": "https://localhost:8080/"
        },
        "id": "oPLQj1xz-8z1",
        "outputId": "4be1e964-472a-4cee-dd10-666474733884"
      },
      "execution_count": 36,
      "outputs": [
        {
          "output_type": "stream",
          "name": "stdout",
          "text": [
            "\n",
            "4. Tuning Summary:\n",
            "\n",
            "----------------------------------------------------------------------\n",
            "Model           Original MAE    Tuned MAE       Improvement    \n",
            "----------------------------------------------------------------------\n",
            "Random Forest   0.6462          0.6354          1.68           %\n",
            "GBDT            0.6523          0.6499          0.38           %\n",
            "ANN             0.7224          0.7257          -0.45          %\n",
            "\n",
            "5. Saving tuning results...\n",
            "   Saved: tuning_best_parameters.csv\n",
            "\n",
            "6. Top 5 configurations per model:\n",
            "\n",
            "   Random Forest:\n",
            "     MAE: 0.6584 - {'n_estimators': 100, 'min_samples_split': 2, 'min_samples_leaf': 1, 'max_features': 'log2', 'max_depth': 5}\n",
            "     MAE: 0.6548 - {'n_estimators': 50, 'min_samples_split': 20, 'min_samples_leaf': 5, 'max_features': 'sqrt', 'max_depth': 5}\n",
            "     MAE: 0.6426 - {'n_estimators': 300, 'min_samples_split': 20, 'min_samples_leaf': 5, 'max_features': 0.7, 'max_depth': 5}\n",
            "     MAE: 0.6324 - {'n_estimators': 50, 'min_samples_split': 20, 'min_samples_leaf': 10, 'max_features': 'sqrt', 'max_depth': 15}\n",
            "     MAE: 0.6314 - {'n_estimators': 200, 'min_samples_split': 5, 'min_samples_leaf': 10, 'max_features': 'log2', 'max_depth': 15}\n",
            "\n",
            "   GBDT:\n",
            "     MAE: 0.8612 - {'colsample_bytree': 0.8, 'learning_rate': 0.01, 'max_depth': 3, 'subsample': 0.8}\n",
            "     MAE: 0.8448 - {'colsample_bytree': 0.8, 'learning_rate': 0.01, 'max_depth': 5, 'subsample': 0.8}\n",
            "     MAE: 0.8410 - {'colsample_bytree': 0.8, 'learning_rate': 0.01, 'max_depth': 7, 'subsample': 0.8}\n",
            "     MAE: 0.6955 - {'colsample_bytree': 0.8, 'learning_rate': 0.3, 'max_depth': 7, 'subsample': 0.8}\n",
            "     MAE: 0.6670 - {'colsample_bytree': 0.8, 'learning_rate': 0.3, 'max_depth': 5, 'subsample': 0.8}\n",
            "\n",
            "   ANN:\n",
            "     MAE: 0.7257 - Layers: [64, 32], LR: 0.001, Dropout: 0.2\n",
            "     MAE: 0.7439 - Layers: [64, 32, 16], LR: 0.001, Dropout: 0.3\n",
            "     MAE: 0.7441 - Layers: [32, 32, 32], LR: 0.001, Dropout: 0.2\n",
            "     MAE: 0.7622 - Layers: [32, 16], LR: 0.001, Dropout: 0.2\n",
            "     MAE: 0.8006 - Layers: [128, 64, 32], LR: 0.0001, Dropout: 0.3\n"
          ]
        }
      ]
    },
    {
      "cell_type": "markdown",
      "source": [
        "**9. Metrics and Statistical Tests**"
      ],
      "metadata": {
        "id": "NbmJ0Idt8Ki0"
      }
    },
    {
      "cell_type": "markdown",
      "source": [
        "9.1 Validation Set Performance"
      ],
      "metadata": {
        "id": "WbVT96BMwa2o"
      }
    },
    {
      "cell_type": "code",
      "source": [
        "# Collect all predictions\n",
        "all_predictions = {\n",
        "    'Ridge': ridge_pred_val,\n",
        "    'Random Forest': rf_pred_val,\n",
        "    'GBDT': gbdt_pred_val,\n",
        "    'ANN': ann_pred_val,\n",
        "    'Hybrid': hybrid_pred_val\n",
        "}\n",
        "\n",
        "# Calculate metrics for all models\n",
        "print(\"\\n1. Validation Set Performance:\")\n",
        "print(\"\\n\" + \"-\" * 60)\n",
        "print(f\"{'Model':<15} {'MAE (log)':<12} {'RMSE (log)':<12} {'R² (log)':<10} {'MAE (RM mil)':<12}\")\n",
        "print(\"-\" * 60)\n",
        "\n",
        "for model_name, predictions in all_predictions.items():\n",
        "    mae_log = mean_absolute_error(y_val, predictions)\n",
        "    rmse_log = np.sqrt(mean_squared_error(y_val, predictions))\n",
        "    r2_log = r2_score(y_val, predictions)\n",
        "\n",
        "    # Convert to level\n",
        "    pred_level = np.expm1(predictions)\n",
        "    mae_level = mean_absolute_error(y_val_level, pred_level)\n",
        "\n",
        "    print(f\"{model_name:<15} {mae_log:<12.4f} {rmse_log:<12.4f} {r2_log:<10.4f} {mae_level:<12.0f}\")"
      ],
      "metadata": {
        "colab": {
          "base_uri": "https://localhost:8080/"
        },
        "id": "WDYq1oEd8Nsj",
        "outputId": "8a713b04-0978-45e2-c575-c45b88889d23"
      },
      "execution_count": 37,
      "outputs": [
        {
          "output_type": "stream",
          "name": "stdout",
          "text": [
            "\n",
            "1. Validation Set Performance:\n",
            "\n",
            "------------------------------------------------------------\n",
            "Model           MAE (log)    RMSE (log)   R² (log)   MAE (RM mil)\n",
            "------------------------------------------------------------\n",
            "Ridge           1.1038       1.4868       0.2919     1998010     \n",
            "Random Forest   0.6354       0.9525       0.7094     1606        \n",
            "GBDT            0.6499       0.9595       0.7051     1763        \n",
            "ANN             0.7257       1.0430       0.6515     2188        \n",
            "Hybrid          0.6643       1.0632       0.6379     217221      \n"
          ]
        }
      ]
    },
    {
      "cell_type": "markdown",
      "source": [
        "9.2 Statistical Tests"
      ],
      "metadata": {
        "id": "F3efiTTGwiMe"
      }
    },
    {
      "cell_type": "code",
      "source": [
        "# Statistical tests\n",
        "print(\"\\n2. Statistical Tests:\")\n",
        "\n",
        "# Paired t-tests\n",
        "print(\"\\n   Paired t-tests (on absolute errors):\")\n",
        "hybrid_errors = np.abs(y_val - hybrid_pred_val)\n",
        "for model_name, predictions in all_predictions.items():\n",
        "    if model_name != 'Hybrid':\n",
        "        model_errors = np.abs(y_val - predictions)\n",
        "        t_stat, p_value = stats.ttest_rel(hybrid_errors, model_errors)\n",
        "        print(f\"   Hybrid vs {model_name}: t={t_stat:.3f}, p={p_value:.4f}\")\n",
        "\n",
        "# One-way ANOVA\n",
        "print(\"\\n   One-way ANOVA across all models:\")\n",
        "all_errors = [np.abs(y_val - pred) for pred in all_predictions.values()]\n",
        "f_stat, p_value = stats.f_oneway(*all_errors)\n",
        "print(f\"   F-statistic: {f_stat:.3f}, p-value: {p_value:.4f}\")\n",
        "\n",
        "if p_value < 0.05:\n",
        "    print(\"   → Significant differences found at α=0.05\")\n",
        "else:\n",
        "    print(\"   → No significant differences at α=0.05\")"
      ],
      "metadata": {
        "colab": {
          "base_uri": "https://localhost:8080/"
        },
        "id": "jOMmP1VkwEe0",
        "outputId": "807c6798-c8e3-43fc-bff8-3af079f1c26e"
      },
      "execution_count": 38,
      "outputs": [
        {
          "output_type": "stream",
          "name": "stdout",
          "text": [
            "\n",
            "2. Statistical Tests:\n",
            "\n",
            "   Paired t-tests (on absolute errors):\n",
            "   Hybrid vs Ridge: t=-16.476, p=0.0000\n",
            "   Hybrid vs Random Forest: t=2.009, p=0.0448\n",
            "   Hybrid vs GBDT: t=1.030, p=0.3033\n",
            "   Hybrid vs ANN: t=-4.168, p=0.0000\n",
            "\n",
            "   One-way ANOVA across all models:\n",
            "   F-statistic: 69.181, p-value: 0.0000\n",
            "   → Significant differences found at α=0.05\n"
          ]
        }
      ]
    },
    {
      "cell_type": "markdown",
      "source": [
        "9.3 Test Set Performance (2024 holdout)"
      ],
      "metadata": {
        "id": "wEpBJniIwnND"
      }
    },
    {
      "cell_type": "code",
      "source": [
        "# Test set evaluation (final)\n",
        "print(\"\\n3. Test Set Performance (2024 holdout):\")\n",
        "print(\"\\n\" + \"-\" * 50)\n",
        "print(f\"{'Model':<15} {'MAE (log)':<12} {'RMSE (log)':<12} {'R²':<10}\")\n",
        "print(\"-\" * 50)\n",
        "\n",
        "# Run predictions on test set\n",
        "test_predictions = {\n",
        "    'Ridge': ridge_model.predict(X_test_scaled),\n",
        "    'Random Forest': rf_model.predict(X_test),\n",
        "    'GBDT': gbdt_model.predict(X_test),\n",
        "    'ANN': ann_model.predict(X_test_scaled, verbose=0).flatten(),\n",
        "    'Hybrid': hybrid_model.predict(X_test_hybrid, verbose=0).flatten()\n",
        "}\n",
        "\n",
        "for model_name, predictions in test_predictions.items():\n",
        "    mae = mean_absolute_error(y_test, predictions)\n",
        "    rmse = np.sqrt(mean_squared_error(y_test, predictions))\n",
        "    r2 = r2_score(y_test, predictions)\n",
        "    print(f\"{model_name:<15} {mae:<12.4f} {rmse:<12.4f} {r2:<10.4f}\")"
      ],
      "metadata": {
        "colab": {
          "base_uri": "https://localhost:8080/"
        },
        "id": "k_TjxbZJwF2V",
        "outputId": "b860c96b-3f10-48b3-8fe1-a431332da63e"
      },
      "execution_count": 39,
      "outputs": [
        {
          "output_type": "stream",
          "name": "stdout",
          "text": [
            "\n",
            "3. Test Set Performance (2024 holdout):\n",
            "\n",
            "--------------------------------------------------\n",
            "Model           MAE (log)    RMSE (log)   R²        \n",
            "--------------------------------------------------\n",
            "Ridge           1.1500       1.5817       0.2279    \n",
            "Random Forest   0.5794       0.7638       0.8199    \n",
            "GBDT            0.6012       0.7782       0.8131    \n",
            "ANN             0.7024       0.8911       0.7550    \n",
            "Hybrid          0.6229       0.7961       0.8044    \n"
          ]
        }
      ]
    },
    {
      "cell_type": "markdown",
      "source": [
        "**10. SHAP and Interpretability**"
      ],
      "metadata": {
        "id": "LTFdioSj8dg1"
      }
    },
    {
      "cell_type": "markdown",
      "source": [
        "10.1 Compute SHAP Values (GBDT Model)"
      ],
      "metadata": {
        "id": "3BM_exxaxO3Q"
      }
    },
    {
      "cell_type": "code",
      "source": [
        "print(\"\\n1. Computing SHAP values for GBDT model...\")\n",
        "# Create SHAP explainer\n",
        "explainer = shap.Explainer(gbdt_model, X_train)\n",
        "shap_values = explainer(X_val)"
      ],
      "metadata": {
        "colab": {
          "base_uri": "https://localhost:8080/"
        },
        "id": "2Z0OV6It8iKh",
        "outputId": "56793662-2f8b-4339-d555-24227c8b72d6"
      },
      "execution_count": 40,
      "outputs": [
        {
          "output_type": "stream",
          "name": "stdout",
          "text": [
            "\n",
            "1. Computing SHAP values for GBDT model...\n"
          ]
        }
      ]
    },
    {
      "cell_type": "markdown",
      "source": [
        "10.2 Feature Importance Ranking"
      ],
      "metadata": {
        "id": "T72xhLcCw6Ke"
      }
    },
    {
      "cell_type": "code",
      "source": [
        "print(\"\\n2. Feature importance ranking:\")\n",
        "# Get mean absolute SHAP values\n",
        "shap_importance = pd.DataFrame({\n",
        "    'feature': features,\n",
        "    'importance': np.abs(shap_values.values).mean(axis=0)\n",
        "}).sort_values('importance', ascending=False)\n",
        "\n",
        "print(\"\\nTop 10 Most Important Features:\")\n",
        "print(shap_importance.head(10).to_string(index=False))\n",
        "\n",
        "# Save feature importance\n",
        "shap_importance.to_csv('feature_importance_shap.csv', index=False)\n",
        "print(\"\\nSaved: feature_importance_shap.csv\")"
      ],
      "metadata": {
        "colab": {
          "base_uri": "https://localhost:8080/"
        },
        "id": "uJOMw_d9w3xm",
        "outputId": "6b4cbf6e-cdc7-4387-a547-c5aba2a30d87"
      },
      "execution_count": 41,
      "outputs": [
        {
          "output_type": "stream",
          "name": "stdout",
          "text": [
            "\n",
            "2. Feature importance ranking:\n",
            "\n",
            "Top 10 Most Important Features:\n",
            "       feature  importance\n",
            "  ebitda (mil)    0.800239\n",
            " revenue (mil)    0.264770\n",
            "   capex (mil)    0.211438\n",
            "leverage_ratio    0.120753\n",
            "           roa    0.114136\n",
            " ebitda_growth    0.100047\n",
            "           roe    0.032132\n",
            "revenue_growth    0.024329\n",
            "  payout_ratio    0.001030\n",
            "\n",
            "Saved: feature_importance_shap.csv\n"
          ]
        }
      ]
    },
    {
      "cell_type": "markdown",
      "source": [
        "10.3 Create SHAP Visualisations"
      ],
      "metadata": {
        "id": "5O1UadG2xGGY"
      }
    },
    {
      "cell_type": "code",
      "source": [
        "# Create visualization\n",
        "print(\"\\n3. Creating SHAP visualisations...\")\n",
        "fig, axes = plt.subplots(2, 2, figsize=(15, 10))\n",
        "\n",
        "# Summary plot\n",
        "plt.sca(axes[0, 0])\n",
        "shap.summary_plot(shap_values, X_val, feature_names=features, show=False, plot_size=None)\n",
        "axes[0, 0].set_title('SHAP Summary Plot')\n",
        "\n",
        "# Feature importance bar plot\n",
        "plt.sca(axes[0, 1])\n",
        "top_features = shap_importance.head(10)\n",
        "axes[0, 1].barh(range(len(top_features)), top_features['importance'].values)\n",
        "axes[0, 1].set_yticks(range(len(top_features)))\n",
        "axes[0, 1].set_yticklabels(top_features['feature'].values)\n",
        "axes[0, 1].set_xlabel('Mean |SHAP value|')\n",
        "axes[0, 1].set_title('Top 10 Feature Importance')\n",
        "axes[0, 1].invert_yaxis()\n",
        "\n",
        "# Dependence plots for top 2 features\n",
        "if len(features) >= 2:\n",
        "    for idx, feature_idx in enumerate([0, 1]):\n",
        "        plt.sca(axes[1, idx])\n",
        "        shap.dependence_plot(\n",
        "            feature_idx,\n",
        "            shap_values.values,\n",
        "            X_val,\n",
        "            feature_names=features,\n",
        "            ax=axes[1, idx],\n",
        "            show=False\n",
        "        )\n",
        "\n",
        "plt.tight_layout()\n",
        "plt.savefig('shap_analysis.png', dpi=300, bbox_inches='tight')\n",
        "print(\"Saved: shap_analysis.png\")\n",
        "plt.show()"
      ],
      "metadata": {
        "colab": {
          "base_uri": "https://localhost:8080/",
          "height": 831
        },
        "id": "yXYANGqlxEj5",
        "outputId": "e7019b6b-424f-40db-b55c-9d93d53d3ba6"
      },
      "execution_count": 42,
      "outputs": [
        {
          "output_type": "stream",
          "name": "stdout",
          "text": [
            "\n",
            "3. Creating SHAP visualisations...\n",
            "Saved: shap_analysis.png\n"
          ]
        },
        {
          "output_type": "display_data",
          "data": {
            "text/plain": [
              "<Figure size 1500x1000 with 7 Axes>"
            ],
            "image/png": "[encoded data removed]"
          },
          "metadata": {}
        }
      ]
    },
    {
      "cell_type": "markdown",
      "source": [
        "**11. Error Analysis**"
      ],
      "metadata": {
        "id": "WTye1jjn8sGh"
      }
    },
    {
      "cell_type": "markdown",
      "source": [
        "11.1 Error Analysis from Best Model"
      ],
      "metadata": {
        "id": "26FV-5Fvx0op"
      }
    },
    {
      "cell_type": "code",
      "source": [
        "# Use the best model (likely Hybrid) for error analysis\n",
        "best_model_name = min(model_results.items(), key=lambda x: x[1]['MAE'])[0]\n",
        "print(f\"\\n1. Analyzing errors from best model: {best_model_name}\")\n",
        "\n",
        "# Get the correct predictions for validation set\n",
        "if best_model_name == 'Hybrid':\n",
        "    predictions = hybrid_pred_val\n",
        "elif best_model_name == 'Ridge':\n",
        "    predictions = ridge_pred_val\n",
        "elif best_model_name == 'Random Forest':\n",
        "    predictions = rf_pred_val\n",
        "elif best_model_name == 'GBDT':\n",
        "    predictions = gbdt_pred_val\n",
        "elif best_model_name == 'ANN':\n",
        "    predictions = ann_pred_val\n",
        "else:\n",
        "    predictions = hybrid_pred_val  # Default to hybrid\n",
        "\n",
        "# Ensure predictions and y_val have same shape\n",
        "print(f\"   Validation set size: {len(y_val)}\")\n",
        "print(f\"   Predictions size: {len(predictions)}\")\n",
        "\n",
        "if len(predictions) != len(y_val):\n",
        "    print(f\"   WARNING: Size mismatch. Using hybrid model predictions.\")\n",
        "    predictions = hybrid_pred_val\n",
        "\n",
        "errors = y_val - predictions\n",
        "abs_errors = np.abs(errors)\n",
        "\n",
        "# Create error dataframe\n",
        "error_df = val_data.copy()\n",
        "error_df['predicted_log_ev'] = predictions\n",
        "error_df['actual_log_ev'] = y_val\n",
        "error_df['error'] = errors\n",
        "error_df['abs_error'] = abs_errors\n",
        "error_df['predicted_ev_mil'] = np.expm1(predictions)\n",
        "error_df['actual_ev_mil'] = np.expm1(y_val)\n",
        "error_df['error_mil'] = error_df['actual_ev_mil'] - error_df['predicted_ev_mil']"
      ],
      "metadata": {
        "colab": {
          "base_uri": "https://localhost:8080/"
        },
        "id": "whr1TQj08vq6",
        "outputId": "dfa8346d-2a2e-4268-bf71-c3afb16ac9f0"
      },
      "execution_count": 43,
      "outputs": [
        {
          "output_type": "stream",
          "name": "stdout",
          "text": [
            "\n",
            "1. Analyzing errors from best model: Random Forest\n",
            "   Validation set size: 1151\n",
            "   Predictions size: 1151\n"
          ]
        }
      ]
    },
    {
      "cell_type": "markdown",
      "source": [
        "11.2 Top 10 Worst Predictions"
      ],
      "metadata": {
        "id": "AJGhrGJpx72a"
      }
    },
    {
      "cell_type": "code",
      "source": [
        "# Top 10 worst predictions\n",
        "print(\"\\n2. Top 10 Worst Predictions (Validation Set):\")\n",
        "worst_errors = error_df.nlargest(10, 'abs_error')[\n",
        "    ['firm_id', 'year', 'actual_ev_mil', 'predicted_ev_mil', 'error_mil']\n",
        "]\n",
        "print(worst_errors.to_string(index=False))"
      ],
      "metadata": {
        "colab": {
          "base_uri": "https://localhost:8080/"
        },
        "id": "52BDK0AaxaCI",
        "outputId": "5b913700-2d38-43fc-adce-c9394b7ef9c3"
      },
      "execution_count": 44,
      "outputs": [
        {
          "output_type": "stream",
          "name": "stdout",
          "text": [
            "\n",
            "2. Top 10 Worst Predictions (Validation Set):\n",
            "firm_id  year  actual_ev_mil  predicted_ev_mil     error_mil\n",
            "HEXE.KL  2022  158074.208200         73.676353 158000.531847\n",
            "HEXE.KL  2021   56995.730120        112.251405  56883.478715\n",
            "MHBS.KL  2023      -0.829000         56.733165    -57.562165\n",
            "CENT.KL  2023   24257.379246        173.565821  24083.813426\n",
            "VTRX.KL  2021  150890.317000       1131.741353 149758.575647\n",
            "MYTE.KL  2021    5237.110500         50.935291   5186.175209\n",
            "PMBT.KL  2021   64359.414223        971.724930  63387.689293\n",
            "CENT.KL  2022    6863.278272        120.230330   6743.047942\n",
            "TAFI.KL  2021    2141.175267         39.041055   2102.134211\n",
            "SAEG.KL  2021   45431.147138        873.553449  44557.593689\n"
          ]
        }
      ]
    },
    {
      "cell_type": "markdown",
      "source": [
        "11.3 Error Analysis by Segments"
      ],
      "metadata": {
        "id": "UmTZG7uFyB9e"
      }
    },
    {
      "cell_type": "code",
      "source": [
        "# Error analysis by segments\n",
        "print(\"\\n3. Error Analysis by Segments:\")\n",
        "\n",
        "# By year\n",
        "print(\"\\n   By Year:\")\n",
        "year_errors = error_df.groupby('year').agg({\n",
        "    'abs_error': 'mean',\n",
        "    'error_mil': 'mean',\n",
        "    'firm_id': 'count'\n",
        "}).rename(columns={'firm_id': 'count'})\n",
        "print(year_errors)\n",
        "\n",
        "# By firm size (using total assets if available)\n",
        "asset_col = [col for col in error_df.columns if 'asset' in col.lower() and 'total' in col.lower()]\n",
        "if asset_col:\n",
        "    error_df['size_bucket'] = pd.qcut(error_df[asset_col[0]], q=4, labels=['Small', 'Medium', 'Large', 'Very Large'])\n",
        "    print(\"\\n   By Size (Total Assets):\")\n",
        "    size_errors = error_df.groupby('size_bucket').agg({\n",
        "        'abs_error': 'mean',\n",
        "        'error_mil': 'mean',\n",
        "        'firm_id': 'count'\n",
        "    }).rename(columns={'firm_id': 'count'})\n",
        "    print(size_errors)\n",
        "\n",
        "# By leverage (if available)\n",
        "if 'leverage_ratio' in error_df.columns:\n",
        "    error_df['leverage_bucket'] = pd.cut(\n",
        "        error_df['leverage_ratio'],\n",
        "        bins=[-np.inf, 0.5, 1.0, 2.0, np.inf],\n",
        "        labels=['Low (<0.5)', 'Medium (0.5-1)', 'High (1-2)', 'Very High (>2)']\n",
        "    )\n",
        "    print(\"\\n   By Leverage:\")\n",
        "    leverage_errors = error_df.groupby('leverage_bucket').agg({\n",
        "        'abs_error': 'mean',\n",
        "        'error_mil': 'mean',\n",
        "        'firm_id': 'count'\n",
        "    }).rename(columns={'firm_id': 'count'})\n",
        "    print(leverage_errors)"
      ],
      "metadata": {
        "colab": {
          "base_uri": "https://localhost:8080/"
        },
        "id": "FJo8f6Ehxh50",
        "outputId": "f8bc5c89-dbc4-4de3-fe98-c1dfce0916e9"
      },
      "execution_count": 45,
      "outputs": [
        {
          "output_type": "stream",
          "name": "stdout",
          "text": [
            "\n",
            "3. Error Analysis by Segments:\n",
            "\n",
            "   By Year:\n",
            "      abs_error    error_mil  count\n",
            "year                               \n",
            "2021   0.644712  1261.348268    370\n",
            "2022   0.681853   711.103280    384\n",
            "2023   0.581731   353.654328    397\n",
            "\n",
            "   By Leverage:\n",
            "                 abs_error    error_mil  count\n",
            "leverage_bucket                               \n",
            "Low (<0.5)        0.699130   479.898423    841\n",
            "Medium (0.5-1)    0.454465   871.904284    212\n",
            "High (1-2)        0.500095  3316.267013     67\n",
            "Very High (>2)    0.435527  2243.068210     31\n"
          ]
        }
      ]
    },
    {
      "cell_type": "markdown",
      "source": [
        "11.4 Distribution Analysis"
      ],
      "metadata": {
        "id": "HUd_Co2CyGdu"
      }
    },
    {
      "cell_type": "code",
      "source": [
        "# Distribution analysis\n",
        "print(\"\\n4. Error Distribution Analysis:\")\n",
        "print(f\"   Mean error (log): {errors.mean():.4f}\")\n",
        "print(f\"   Std error (log): {errors.std():.4f}\")\n",
        "print(f\"   Skewness: {stats.skew(errors):.4f}\")\n",
        "print(f\"   Kurtosis: {stats.kurtosis(errors):.4f}\")\n",
        "\n",
        "percentiles = [5, 25, 50, 75, 95]\n",
        "print(\"\\n   Error Percentiles (RM million):\")\n",
        "for p in percentiles:\n",
        "    val = np.percentile(error_df['error_mil'], p)\n",
        "    print(f\"   {p}th percentile: {val:.2f}\")\n",
        "\n",
        "# Visualization\n",
        "fig, axes = plt.subplots(2, 2, figsize=(15, 10))\n",
        "\n",
        "# Error distribution\n",
        "axes[0, 0].hist(errors, bins=50, edgecolor='black', alpha=0.7)\n",
        "axes[0, 0].axvline(x=0, color='red', linestyle='--', alpha=0.5)\n",
        "axes[0, 0].set_xlabel('Prediction Error (log scale)')\n",
        "axes[0, 0].set_ylabel('Frequency')\n",
        "axes[0, 0].set_title('Distribution of Prediction Errors')\n",
        "\n",
        "# Q-Q plot\n",
        "stats.probplot(errors, dist=\"norm\", plot=axes[0, 1])\n",
        "axes[0, 1].set_title('Q-Q Plot of Errors')\n",
        "\n",
        "# Actual vs Predicted\n",
        "axes[1, 0].scatter(y_val, predictions, alpha=0.5, s=10)\n",
        "axes[1, 0].plot([y_val.min(), y_val.max()], [y_val.min(), y_val.max()], 'r--', lw=2)\n",
        "axes[1, 0].set_xlabel('Actual log(EV)')\n",
        "axes[1, 0].set_ylabel('Predicted log(EV)')\n",
        "axes[1, 0].set_title('Actual vs Predicted Values')\n",
        "\n",
        "# Error by year\n",
        "year_mae = error_df.groupby('year')['abs_error'].mean()\n",
        "axes[1, 1].plot(year_mae.index, year_mae.values, marker='o')\n",
        "axes[1, 1].set_xlabel('Year')\n",
        "axes[1, 1].set_ylabel('Mean Absolute Error')\n",
        "axes[1, 1].set_title('Model Performance Over Time')\n",
        "axes[1, 1].grid(True, alpha=0.3)\n",
        "\n",
        "plt.tight_layout()\n",
        "plt.savefig('error_analysis.png', dpi=300, bbox_inches='tight')\n",
        "print(\"\\nSaved: error_analysis.png\")\n",
        "plt.show()"
      ],
      "metadata": {
        "colab": {
          "base_uri": "https://localhost:8080/",
          "height": 1000
        },
        "id": "MhY6Gff8xqt-",
        "outputId": "14376311-f89e-46c5-bbc8-2fd45e0ed7e4"
      },
      "execution_count": 46,
      "outputs": [
        {
          "output_type": "stream",
          "name": "stdout",
          "text": [
            "\n",
            "4. Error Distribution Analysis:\n",
            "   Mean error (log): -0.0093\n",
            "   Std error (log): 0.9524\n",
            "   Skewness: 1.0160\n",
            "   Kurtosis: 9.3920\n",
            "\n",
            "   Error Percentiles (RM million):\n",
            "   5th percentile: -2150.42\n",
            "   25th percentile: -174.37\n",
            "   50th percentile: -9.84\n",
            "   75th percentile: 167.90\n",
            "   95th percentile: 3671.16\n",
            "\n",
            "Saved: error_analysis.png\n"
          ]
        },
        {
          "output_type": "display_data",
          "data": {
            "text/plain": [
              "<Figure size 1500x1000 with 4 Axes>"
            ],
            "image/png": "[encoded data removed]"
          },
          "metadata": {}
        }
      ]
    },
    {
      "cell_type": "markdown",
      "source": [
        "**12. Outputs and Model Card**"
      ],
      "metadata": {
        "id": "vBuiWO4Q9EOo"
      }
    },
    {
      "cell_type": "code",
      "source": [
        "# Save all key outputs\n",
        "print(\"\\n1. Saving final outputs...\")\n",
        "\n",
        "# Data dictionary\n",
        "data_dict_final = pd.DataFrame({\n",
        "    'Feature': features,\n",
        "    'Type': ['Continuous'] * len(features),\n",
        "    'Description': [f'Financial metric {i+1}' for i in range(len(features))],\n",
        "    'Missing_Rate': [feature_df[f].isna().mean() if f in feature_df.columns else 0 for f in features]\n",
        "})\n",
        "data_dict_final.to_csv('data_dictionary.csv', index=False)\n",
        "print(\"   Saved: data_dictionary.csv\")\n",
        "\n",
        "# Feature list\n",
        "pd.DataFrame({'features': features}).to_csv('feature_list.csv', index=False)\n",
        "print(\"   Saved: feature_list.csv\")\n",
        "\n",
        "# Split summary\n",
        "split_summary = pd.DataFrame({\n",
        "    'Split': ['Training', 'Validation', 'Test'],\n",
        "    'Years': ['2010-2020', '2021-2023', '2024'],\n",
        "    'Rows': [len(train_data), len(val_data), len(test_data)],\n",
        "    'Firms': [train_data['firm_id'].nunique(), val_data['firm_id'].nunique(), test_data['firm_id'].nunique()]\n",
        "})\n",
        "split_summary.to_csv('split_summary.csv', index=False)\n",
        "print(\"   Saved: split_summary.csv\")\n",
        "\n",
        "# Final metrics comparison\n",
        "metrics_df = pd.DataFrame({\n",
        "    'Model': list(test_predictions.keys()),\n",
        "    'Val_MAE': [mean_absolute_error(y_val, all_predictions[m]) for m in test_predictions.keys()],\n",
        "    'Val_RMSE': [np.sqrt(mean_squared_error(y_val, all_predictions[m])) for m in test_predictions.keys()],\n",
        "    'Val_R2': [r2_score(y_val, all_predictions[m]) for m in test_predictions.keys()],\n",
        "    'Test_MAE': [mean_absolute_error(y_test, test_predictions[m]) for m in test_predictions.keys()],\n",
        "    'Test_RMSE': [np.sqrt(mean_squared_error(y_test, test_predictions[m])) for m in test_predictions.keys()],\n",
        "    'Test_R2': [r2_score(y_test, test_predictions[m]) for m in test_predictions.keys()]\n",
        "})\n",
        "metrics_df.to_csv('model_metrics.csv', index=False)\n",
        "print(\"   Saved: model_metrics.csv\")\n",
        "\n",
        "# Model card\n",
        "print(\"\\n2. Model Card:\")\n",
        "print(\"=\" * 60)\n",
        "print(\"PROJECT: Malaysian Enterprise Value Prediction\")\n",
        "print(\"DATE: 2024\")\n",
        "print(\"AUTHOR: Loh Kit Seng (TP069334)\")\n",
        "print(\"\\nSCOPE:\")\n",
        "print(f\"  - Dataset: Malaysian public firms from Bursa Malaysia\")\n",
        "print(f\"  - Time period: 2010-2024\")\n",
        "print(f\"  - Total firms: {df_clean['firm_id'].nunique()}\")\n",
        "print(f\"  - Target variable: Enterprise Value (RM million)\")\n",
        "print(\"\\nMODELS DEVELOPED:\")\n",
        "print(\"  1. Ridge Regression (Baseline)\")\n",
        "print(\"  2. Random Forest\")\n",
        "print(\"  3. Gradient Boosted Decision Trees (XGBoost)\")\n",
        "print(\"  4. Artificial Neural Network\")\n",
        "print(\"  5. Hybrid Model (GBDT + ANN)\")\n",
        "print(\"\\nFEATURES REMOVED FOR LEAKAGE PREVENTION:\")\n",
        "print(\"  - Market Capitalisation\")\n",
        "print(\"  - All EV-based ratios\")\n",
        "print(f\"\\nBEST PERFORMING MODEL: {best_model_name}\")\n",
        "print(f\"  - Validation MAE: {model_results[best_model_name]['MAE']:.4f}\")\n",
        "print(f\"  - Validation R²: {model_results[best_model_name]['R2']:.4f}\")\n",
        "print(\"\\nKNOWN LIMITATIONS:\")\n",
        "print(\"  - Excludes firms with >2 consecutive years of missing EBITDA\")\n",
        "print(\"  - No sector/industry features included\")\n",
        "print(\"  - Limited to structured financial data only\")\n",
        "print(\"  - No macroeconomic variables included\")\n",
        "print(\"=\" * 60)"
      ],
      "metadata": {
        "colab": {
          "base_uri": "https://localhost:8080/"
        },
        "id": "u4AsEnXI9KZa",
        "outputId": "7c89ea5a-c360-4e56-be4b-36912fbc0080"
      },
      "execution_count": 47,
      "outputs": [
        {
          "output_type": "stream",
          "name": "stdout",
          "text": [
            "\n",
            "1. Saving final outputs...\n",
            "   Saved: data_dictionary.csv\n",
            "   Saved: feature_list.csv\n",
            "   Saved: split_summary.csv\n",
            "   Saved: model_metrics.csv\n",
            "\n",
            "2. Model Card:\n",
            "============================================================\n",
            "PROJECT: Malaysian Enterprise Value Prediction\n",
            "DATE: 2024\n",
            "AUTHOR: Loh Kit Seng (TP069334)\n",
            "\n",
            "SCOPE:\n",
            "  - Dataset: Malaysian public firms from Bursa Malaysia\n",
            "  - Time period: 2010-2024\n",
            "  - Total firms: 681\n",
            "  - Target variable: Enterprise Value (RM million)\n",
            "\n",
            "MODELS DEVELOPED:\n",
            "  1. Ridge Regression (Baseline)\n",
            "  2. Random Forest\n",
            "  3. Gradient Boosted Decision Trees (XGBoost)\n",
            "  4. Artificial Neural Network\n",
            "  5. Hybrid Model (GBDT + ANN)\n",
            "\n",
            "FEATURES REMOVED FOR LEAKAGE PREVENTION:\n",
            "  - Market Capitalisation\n",
            "  - All EV-based ratios\n",
            "\n",
            "BEST PERFORMING MODEL: Random Forest\n",
            "  - Validation MAE: 0.6354\n",
            "  - Validation R²: 0.7094\n",
            "\n",
            "KNOWN LIMITATIONS:\n",
            "  - Excludes firms with >2 consecutive years of missing EBITDA\n",
            "  - No sector/industry features included\n",
            "  - Limited to structured financial data only\n",
            "  - No macroeconomic variables included\n",
            "============================================================\n"
          ]
        }
      ]
    },
    {
      "cell_type": "markdown",
      "source": [
        "**12. Pitfalls Checklists**"
      ],
      "metadata": {
        "id": "nvFjw2Sb9bYC"
      }
    },
    {
      "cell_type": "code",
      "source": [
        "# Initialize checklist results\n",
        "checklist_results = {}\n",
        "\n",
        "print(\"\\n1. DATA QUALITY CHECKS:\")\n",
        "print(\"-\" * 40)\n",
        "\n",
        "# Check 1: Currency consistency\n",
        "currency_check = True\n",
        "value_columns_check = [col for col in df_clean.columns if 'million' in col.lower() or 'mil' in col.lower()]\n",
        "if len(value_columns_check) > 0:\n",
        "    # All should be in millions\n",
        "    print(f\"✓ Found {len(value_columns_check)} columns with million/mil tag\")\n",
        "    checklist_results['currency_consistent'] = True\n",
        "else:\n",
        "    print(\"⚠ WARNING: No columns with clear currency denomination found\")\n",
        "    checklist_results['currency_consistent'] = False\n",
        "\n",
        "# Check 2: Duplicate firm-years\n",
        "dup_check = df_clean.groupby(['firm_id', 'year']).size()\n",
        "actual_duplicates = dup_check[dup_check > 1]\n",
        "if len(actual_duplicates) == 0:\n",
        "    print(f\"✓ No duplicate firm-year combinations in final dataset\")\n",
        "    checklist_results['no_duplicates'] = True\n",
        "else:\n",
        "    print(f\"✗ FAIL: Found {len(actual_duplicates)} duplicate firm-year combinations\")\n",
        "    print(f\"  Examples: {actual_duplicates.head(3).to_dict()}\")\n",
        "    checklist_results['no_duplicates'] = False\n",
        "\n",
        "# Check 3: No EV or Market Cap in features\n",
        "leaky_features = [f for f in features if any(word in f.lower() for word in ['enterprise', 'market cap', 'ev_', 'market_cap'])]\n",
        "if len(leaky_features) == 0:\n",
        "    print(f\"✓ No leaky features (EV/Market Cap) in feature set\")\n",
        "    checklist_results['no_leakage'] = True\n",
        "else:\n",
        "    print(f\"✗ FAIL: Found potentially leaky features: {leaky_features}\")\n",
        "    checklist_results['no_leakage'] = False\n",
        "\n",
        "print(\"\\n2. TEMPORAL SPLIT INTEGRITY:\")\n",
        "print(\"-\" * 40)\n",
        "\n",
        "# Check 4: Training data temporal boundary\n",
        "train_max_year = train_data['year'].max()\n",
        "if train_max_year <= 2020:\n",
        "    print(f\"✓ Training data ends at {train_max_year} (≤ 2020)\")\n",
        "    checklist_results['train_temporal'] = True\n",
        "else:\n",
        "    print(f\"✗ FAIL: Training data extends to {train_max_year} (should be ≤ 2020)\")\n",
        "    checklist_results['train_temporal'] = False\n",
        "\n",
        "# Check 5: No future data leakage\n",
        "val_min_year = val_data['year'].min()\n",
        "test_min_year = test_data['year'].min()\n",
        "if val_min_year > train_max_year and test_min_year >= val_data['year'].max():\n",
        "    print(f\"✓ Proper temporal ordering: Train(≤{train_max_year}) → Val({val_min_year}-{val_data['year'].max()}) → Test({test_min_year})\")\n",
        "    checklist_results['temporal_order'] = True\n",
        "else:\n",
        "    print(f\"✗ FAIL: Temporal ordering violated\")\n",
        "    checklist_results['temporal_order'] = False\n",
        "\n",
        "# Check 6: Test set is 2024 only\n",
        "test_years = test_data['year'].unique()\n",
        "if len(test_years) == 1 and test_years[0] == 2024:\n",
        "    print(f\"✓ Test set contains only 2024 data\")\n",
        "    checklist_results['test_2024_only'] = True\n",
        "else:\n",
        "    print(f\"✗ FAIL: Test set contains years: {test_years}\")\n",
        "    checklist_results['test_2024_only'] = False\n",
        "\n",
        "# Check 7: No firm overlap in CV folds\n",
        "print(\"\\n3. CROSS-VALIDATION INTEGRITY:\")\n",
        "print(\"-\" * 40)\n",
        "overlap_found = False\n",
        "for fold_num, (train_idx, val_idx) in enumerate(gkf.split(X_train, y_train, firm_groups)):\n",
        "    train_firms_fold = set(firm_groups[train_idx])\n",
        "    val_firms_fold = set(firm_groups[val_idx])\n",
        "    overlap = train_firms_fold.intersection(val_firms_fold)\n",
        "    if len(overlap) > 0:\n",
        "        overlap_found = True\n",
        "        print(f\"✗ FAIL: Fold {fold_num+1} has {len(overlap)} overlapping firms\")\n",
        "        break\n",
        "\n",
        "if not overlap_found:\n",
        "    print(f\"✓ No firm overlap detected in GroupKFold cross-validation\")\n",
        "    checklist_results['cv_no_overlap'] = True\n",
        "else:\n",
        "    checklist_results['cv_no_overlap'] = False\n",
        "\n",
        "print(\"\\n4. FEATURE ENGINEERING CHECKS:\")\n",
        "print(\"-\" * 40)\n",
        "\n",
        "# Check 8: Growth rates computed correctly\n",
        "if 'revenue_growth' in features or 'ebitda_growth' in features:\n",
        "    # Check if growth rates have reasonable values (not all NaN, within reasonable bounds)\n",
        "    growth_features = [f for f in features if 'growth' in f.lower()]\n",
        "    for gf in growth_features:\n",
        "        if gf in feature_df.columns:\n",
        "            growth_vals = feature_df[gf].dropna()\n",
        "            if len(growth_vals) > 0:\n",
        "                pct_extreme = ((growth_vals < -1) | (growth_vals > 10)).mean()\n",
        "                if pct_extreme < 0.05:  # Less than 5% extreme values\n",
        "                    print(f\"✓ {gf}: Reasonable distribution (< 5% extreme values)\")\n",
        "                else:\n",
        "                    print(f\"⚠ WARNING: {gf} has {pct_extreme*100:.1f}% extreme values\")\n",
        "    checklist_results['growth_rates_ok'] = True\n",
        "else:\n",
        "    print(\"ℹ No growth rate features found\")\n",
        "    checklist_results['growth_rates_ok'] = None\n",
        "\n",
        "# Check 9: Log transforms applied correctly\n",
        "log_features = [f for f in features if 'log_' in f.lower()]\n",
        "if len(log_features) > 0:\n",
        "    print(f\"✓ Log transforms applied to {len(log_features)} features: {log_features}\")\n",
        "    checklist_results['log_transforms'] = True\n",
        "else:\n",
        "    print(\"ℹ No log-transformed features found\")\n",
        "    checklist_results['log_transforms'] = None\n",
        "\n",
        "print(\"\\n5. MODEL TRAINING CHECKS:\")\n",
        "print(\"-\" * 40)\n",
        "\n",
        "# Check 10: Models were actually tuned\n",
        "if 'tuning_results' in locals() and len(tuning_results) > 0:\n",
        "    print(f\"✓ Hyperparameter tuning completed for {len(tuning_results)} models\")\n",
        "    for model, results in tuning_results.items():\n",
        "        if 'best_params' in results:\n",
        "            print(f\"  - {model}: {len(results['best_params'])} parameters tuned\")\n",
        "    checklist_results['models_tuned'] = True\n",
        "else:\n",
        "    print(\"✗ FAIL: No tuning results found\")\n",
        "    checklist_results['models_tuned'] = False\n",
        "\n",
        "# Check 11: Test set untouched during training\n",
        "if 'test_predictions' in locals():\n",
        "    print(f\"✓ Test predictions generated only after model training\")\n",
        "    checklist_results['test_untouched'] = True\n",
        "else:\n",
        "    print(\"⚠ WARNING: Test predictions not yet generated\")\n",
        "    checklist_results['test_untouched'] = None\n",
        "\n",
        "print(\"\\n6. HYBRID MODEL CHECKS:\")\n",
        "print(\"-\" * 40)\n",
        "\n",
        "# Check 12: Out-of-fold predictions used\n",
        "if 'oof_predictions' in locals():\n",
        "    oof_variance = np.var(oof_predictions)\n",
        "    if oof_variance > 0:\n",
        "        print(f\"✓ Out-of-fold predictions created (variance: {oof_variance:.4f})\")\n",
        "        checklist_results['oof_used'] = True\n",
        "    else:\n",
        "        print(\"✗ FAIL: Out-of-fold predictions have zero variance\")\n",
        "        checklist_results['oof_used'] = False\n",
        "else:\n",
        "    print(\"✗ FAIL: Out-of-fold predictions not found\")\n",
        "    checklist_results['oof_used'] = False\n",
        "\n",
        "# Check 13: GBDT trained only on training data\n",
        "if 'gbdt_model' in locals():\n",
        "    # Check if GBDT was fit only on training data by verifying its n_features matches\n",
        "    expected_features = X_train.shape[1]\n",
        "    if hasattr(gbdt_model, 'n_features_in_'):\n",
        "        actual_features = gbdt_model.n_features_in_\n",
        "        if actual_features == expected_features:\n",
        "            print(f\"✓ GBDT trained on correct feature set ({actual_features} features)\")\n",
        "            checklist_results['gbdt_training_correct'] = True\n",
        "        else:\n",
        "            print(f\"✗ FAIL: Feature mismatch - expected {expected_features}, got {actual_features}\")\n",
        "            checklist_results['gbdt_training_correct'] = False\n",
        "\n",
        "print(\"\\n7. REPORTING ACCURACY:\")\n",
        "print(\"-\" * 40)\n",
        "\n",
        "# Check 14: Metrics computed at both scales\n",
        "if 'metrics_df' in locals():\n",
        "    has_log_metrics = any('MAE' in col for col in metrics_df.columns)\n",
        "    print(f\"✓ Metrics computed for both validation and test sets\")\n",
        "    checklist_results['metrics_complete'] = True\n",
        "else:\n",
        "    print(\"⚠ WARNING: Final metrics dataframe not yet created\")\n",
        "    checklist_results['metrics_complete'] = False\n",
        "\n",
        "# Check 15: Statistical tests performed\n",
        "if 'f_stat' in locals() and 'p_value' in locals():\n",
        "    print(f\"✓ Statistical tests completed (ANOVA F={f_stat:.3f}, p={p_value:.4f})\")\n",
        "    checklist_results['stats_tests'] = True\n",
        "else:\n",
        "    print(\"⚠ WARNING: Statistical tests not yet performed\")\n",
        "    checklist_results['stats_tests'] = False\n",
        "\n",
        "# SUMMARY\n",
        "print(\"\\n\" + \"=\" * 60)\n",
        "print(\"CHECKLIST SUMMARY:\")\n",
        "print(\"=\" * 60)\n",
        "\n",
        "passed = sum(1 for v in checklist_results.values() if v is True)\n",
        "failed = sum(1 for v in checklist_results.values() if v is False)\n",
        "skipped = sum(1 for v in checklist_results.values() if v is None)\n",
        "\n",
        "print(f\"✓ Passed: {passed}/{len(checklist_results)}\")\n",
        "print(f\"✗ Failed: {failed}/{len(checklist_results)}\")\n",
        "print(f\"ℹ Skipped/NA: {skipped}/{len(checklist_results)}\")\n",
        "\n",
        "if failed > 0:\n",
        "    print(\"\\n⚠ CRITICAL ISSUES TO ADDRESS:\")\n",
        "    for check, result in checklist_results.items():\n",
        "        if result is False:\n",
        "            print(f\"  - {check}\")\n",
        "\n",
        "print(\"\\n\" + \"=\" * 80)\n",
        "print(\"ANALYSIS COMPLETE\")\n",
        "print(\"=\" * 80)"
      ],
      "metadata": {
        "colab": {
          "base_uri": "https://localhost:8080/"
        },
        "id": "keP21JFyzwPu",
        "outputId": "0b1407ec-cb22-4036-c040-bbf4cb4b6686"
      },
      "execution_count": 49,
      "outputs": [
        {
          "output_type": "stream",
          "name": "stdout",
          "text": [
            "\n",
            "1. DATA QUALITY CHECKS:\n",
            "----------------------------------------\n",
            "✓ Found 27 columns with million/mil tag\n",
            "✓ No duplicate firm-year combinations in final dataset\n",
            "✓ No leaky features (EV/Market Cap) in feature set\n",
            "\n",
            "2. TEMPORAL SPLIT INTEGRITY:\n",
            "----------------------------------------\n",
            "✓ Training data ends at 2020 (≤ 2020)\n",
            "✓ Proper temporal ordering: Train(≤2020) → Val(2021-2023) → Test(2024)\n",
            "✓ Test set contains only 2024 data\n",
            "\n",
            "3. CROSS-VALIDATION INTEGRITY:\n",
            "----------------------------------------\n",
            "✓ No firm overlap detected in GroupKFold cross-validation\n",
            "\n",
            "4. FEATURE ENGINEERING CHECKS:\n",
            "----------------------------------------\n",
            "✓ revenue_growth: Reasonable distribution (< 5% extreme values)\n",
            "⚠ WARNING: ebitda_growth has 15.1% extreme values\n",
            "ℹ No log-transformed features found\n",
            "\n",
            "5. MODEL TRAINING CHECKS:\n",
            "----------------------------------------\n",
            "✓ Hyperparameter tuning completed for 3 models\n",
            "  - Random Forest: 5 parameters tuned\n",
            "  - GBDT: 4 parameters tuned\n",
            "  - ANN: 3 parameters tuned\n",
            "✓ Test predictions generated only after model training\n",
            "\n",
            "6. HYBRID MODEL CHECKS:\n",
            "----------------------------------------\n",
            "✓ Out-of-fold predictions created (variance: 2.7391)\n",
            "✓ GBDT trained on correct feature set (9 features)\n",
            "\n",
            "7. REPORTING ACCURACY:\n",
            "----------------------------------------\n",
            "✓ Metrics computed for both validation and test sets\n",
            "✓ Statistical tests completed (ANOVA F=69.181, p=0.0000)\n",
            "\n",
            "============================================================\n",
            "CHECKLIST SUMMARY:\n",
            "============================================================\n",
            "✓ Passed: 14/15\n",
            "✗ Failed: 0/15\n",
            "ℹ Skipped/NA: 1/15\n",
            "\n",
            "================================================================================\n",
            "ANALYSIS COMPLETE\n",
            "================================================================================\n"
          ]
        }
      ]
    }
  ]
}