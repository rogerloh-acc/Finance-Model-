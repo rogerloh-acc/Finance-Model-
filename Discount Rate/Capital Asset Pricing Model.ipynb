{
 "cells": [
  {
   "cell_type": "markdown",
   "metadata": {},
   "source": [
    "## Capital Asset Pricing Model "
   ]
  },
  {
   "cell_type": "markdown",
   "metadata": {},
   "source": [
    "The source code below is made available for educational purposes only and is not intended to provide valuation advice or recommendation. "
   ]
  },
  {
   "cell_type": "code",
   "execution_count": 1,
   "metadata": {},
   "outputs": [
    {
     "name": "stderr",
     "output_type": "stream",
     "text": [
      "c:\\Users\\roger\\anaconda3\\lib\\site-packages\\scipy\\__init__.py:146: UserWarning: A NumPy version >=1.16.5 and <1.23.0 is required for this version of SciPy (detected version 1.23.0\n",
      "  warnings.warn(f\"A NumPy version >={np_minversion} and <{np_maxversion}\"\n"
     ]
    }
   ],
   "source": [
    "#Import Libraries \n",
    "import investpy\n",
    "from datetime import datetime, timedelta \n",
    "from pandas_datareader import data\n",
    "import pandas_datareader.data as reader\n",
    "import statsmodels.api as sm \n",
    "from scipy import stats\n",
    "import pandas as pd\n",
    "import numpy as np"
   ]
  },
  {
   "cell_type": "markdown",
   "metadata": {},
   "source": [
    "Determine the stocks"
   ]
  },
  {
   "cell_type": "code",
   "execution_count": 2,
   "metadata": {},
   "outputs": [],
   "source": [
    "a = \"1155.KL\"\n",
    "b = \"^KLSE;1=9\""
   ]
  },
  {
   "cell_type": "markdown",
   "metadata": {},
   "source": [
    "Determine the periods "
   ]
  },
  {
   "cell_type": "code",
   "execution_count": 3,
   "metadata": {},
   "outputs": [],
   "source": [
    "#setting today date as End Date\n",
    "today = datetime.today()\n",
    "previous = today - timedelta(days=1)\n",
    "end = today.strftime('%d/%m/%Y')\n",
    "previous = previous.strftime('%d/%m/%Y')\n",
    "\n",
    "# Define a start date\n",
    "start = today.replace(year=today.year-50)\n",
    "start = start.strftime('%d/%m/%Y')"
   ]
  },
  {
   "cell_type": "markdown",
   "metadata": {},
   "source": [
    "Risk-Free Rate"
   ]
  },
  {
   "cell_type": "code",
   "execution_count": 4,
   "metadata": {},
   "outputs": [
    {
     "data": {
      "text/html": [
       "<div>\n",
       "<style scoped>\n",
       "    .dataframe tbody tr th:only-of-type {\n",
       "        vertical-align: middle;\n",
       "    }\n",
       "\n",
       "    .dataframe tbody tr th {\n",
       "        vertical-align: top;\n",
       "    }\n",
       "\n",
       "    .dataframe thead th {\n",
       "        text-align: right;\n",
       "    }\n",
       "</style>\n",
       "<table border=\"1\" class=\"dataframe\">\n",
       "  <thead>\n",
       "    <tr style=\"text-align: right;\">\n",
       "      <th></th>\n",
       "      <th>Open</th>\n",
       "      <th>High</th>\n",
       "      <th>Low</th>\n",
       "      <th>Close</th>\n",
       "    </tr>\n",
       "    <tr>\n",
       "      <th>Date</th>\n",
       "      <th></th>\n",
       "      <th></th>\n",
       "      <th></th>\n",
       "      <th></th>\n",
       "    </tr>\n",
       "  </thead>\n",
       "  <tbody>\n",
       "    <tr>\n",
       "      <th>2022-06-23</th>\n",
       "      <td>4.274</td>\n",
       "      <td>4.274</td>\n",
       "      <td>4.196</td>\n",
       "      <td>4.196</td>\n",
       "    </tr>\n",
       "  </tbody>\n",
       "</table>\n",
       "</div>"
      ],
      "text/plain": [
       "             Open   High    Low  Close\n",
       "Date                                  \n",
       "2022-06-23  4.274  4.274  4.196  4.196"
      ]
     },
     "execution_count": 4,
     "metadata": {},
     "output_type": "execute_result"
    }
   ],
   "source": [
    "Rf = investpy.get_bond_historical_data(bond='Malaysia 10Y', from_date= previous, to_date=end)\n",
    "Rf.tail()"
   ]
  },
  {
   "cell_type": "code",
   "execution_count": 5,
   "metadata": {},
   "outputs": [
    {
     "data": {
      "text/plain": [
       "0.04196"
      ]
     },
     "execution_count": 5,
     "metadata": {},
     "output_type": "execute_result"
    }
   ],
   "source": [
    "Rf = Rf.iloc[0]['Close']\n",
    "Rf = Rf/100\n",
    "Rf"
   ]
  },
  {
   "cell_type": "markdown",
   "metadata": {},
   "source": [
    "Market Returns"
   ]
  },
  {
   "cell_type": "code",
   "execution_count": 6,
   "metadata": {},
   "outputs": [
    {
     "data": {
      "text/html": [
       "<div>\n",
       "<style scoped>\n",
       "    .dataframe tbody tr th:only-of-type {\n",
       "        vertical-align: middle;\n",
       "    }\n",
       "\n",
       "    .dataframe tbody tr th {\n",
       "        vertical-align: top;\n",
       "    }\n",
       "\n",
       "    .dataframe thead th {\n",
       "        text-align: right;\n",
       "    }\n",
       "</style>\n",
       "<table border=\"1\" class=\"dataframe\">\n",
       "  <thead>\n",
       "    <tr style=\"text-align: right;\">\n",
       "      <th></th>\n",
       "      <th>High</th>\n",
       "      <th>Low</th>\n",
       "      <th>Open</th>\n",
       "      <th>Close</th>\n",
       "      <th>Volume</th>\n",
       "      <th>Adj Close</th>\n",
       "    </tr>\n",
       "    <tr>\n",
       "      <th>Date</th>\n",
       "      <th></th>\n",
       "      <th></th>\n",
       "      <th></th>\n",
       "      <th></th>\n",
       "      <th></th>\n",
       "      <th></th>\n",
       "    </tr>\n",
       "  </thead>\n",
       "  <tbody>\n",
       "    <tr>\n",
       "      <th>2018-12-31</th>\n",
       "      <td>-0.053267</td>\n",
       "      <td>-0.049467</td>\n",
       "      <td>-0.048797</td>\n",
       "      <td>-0.059121</td>\n",
       "      <td>-0.410219</td>\n",
       "      <td>-0.059121</td>\n",
       "    </tr>\n",
       "    <tr>\n",
       "      <th>2019-12-31</th>\n",
       "      <td>-0.053148</td>\n",
       "      <td>-0.059371</td>\n",
       "      <td>-0.049824</td>\n",
       "      <td>-0.060228</td>\n",
       "      <td>0.257239</td>\n",
       "      <td>-0.060228</td>\n",
       "    </tr>\n",
       "    <tr>\n",
       "      <th>2020-12-31</th>\n",
       "      <td>0.020842</td>\n",
       "      <td>0.024201</td>\n",
       "      <td>0.021679</td>\n",
       "      <td>0.024201</td>\n",
       "      <td>0.175230</td>\n",
       "      <td>0.024201</td>\n",
       "    </tr>\n",
       "    <tr>\n",
       "      <th>2021-12-31</th>\n",
       "      <td>-0.046665</td>\n",
       "      <td>-0.058628</td>\n",
       "      <td>-0.061590</td>\n",
       "      <td>-0.036676</td>\n",
       "      <td>0.344847</td>\n",
       "      <td>-0.036676</td>\n",
       "    </tr>\n",
       "    <tr>\n",
       "      <th>2022-12-31</th>\n",
       "      <td>-0.080420</td>\n",
       "      <td>-0.067913</td>\n",
       "      <td>-0.070312</td>\n",
       "      <td>-0.087067</td>\n",
       "      <td>-1.000000</td>\n",
       "      <td>-0.087067</td>\n",
       "    </tr>\n",
       "  </tbody>\n",
       "</table>\n",
       "</div>"
      ],
      "text/plain": [
       "                High       Low      Open     Close    Volume  Adj Close\n",
       "Date                                                                   \n",
       "2018-12-31 -0.053267 -0.049467 -0.048797 -0.059121 -0.410219  -0.059121\n",
       "2019-12-31 -0.053148 -0.059371 -0.049824 -0.060228  0.257239  -0.060228\n",
       "2020-12-31  0.020842  0.024201  0.021679  0.024201  0.175230   0.024201\n",
       "2021-12-31 -0.046665 -0.058628 -0.061590 -0.036676  0.344847  -0.036676\n",
       "2022-12-31 -0.080420 -0.067913 -0.070312 -0.087067 -1.000000  -0.087067"
      ]
     },
     "execution_count": 6,
     "metadata": {},
     "output_type": "execute_result"
    }
   ],
   "source": [
    "Rm = data.DataReader(b, 'yahoo', start= start, end= end)\n",
    "Rm = Rm.resample('Y').last().pct_change()\n",
    "Rm = Rm.dropna(axis=0)\n",
    "Rm.tail()"
   ]
  },
  {
   "cell_type": "code",
   "execution_count": 7,
   "metadata": {},
   "outputs": [
    {
     "data": {
      "text/plain": [
       "0.05116004609244973"
      ]
     },
     "execution_count": 7,
     "metadata": {},
     "output_type": "execute_result"
    }
   ],
   "source": [
    "Rm = Rm[\"Adj Close\"].mean()\n",
    "Rm"
   ]
  },
  {
   "cell_type": "markdown",
   "metadata": {},
   "source": [
    "Beta"
   ]
  },
  {
   "cell_type": "code",
   "execution_count": 8,
   "metadata": {},
   "outputs": [
    {
     "name": "stdout",
     "output_type": "stream",
     "text": [
      "Beta =  1.0065588121208897\n"
     ]
    },
    {
     "name": "stderr",
     "output_type": "stream",
     "text": [
      "c:\\Users\\roger\\anaconda3\\lib\\site-packages\\statsmodels\\tsa\\tsatools.py:142: FutureWarning: In a future version of pandas all arguments of concat except for the argument 'objs' will be keyword-only\n",
      "  x = pd.concat(x[::order], 1)\n"
     ]
    }
   ],
   "source": [
    "# Input based on the above \n",
    "input = [a,b]\n",
    "# We are using the \"Adj close\" price of the securities selected \n",
    "df = reader.get_data_yahoo(input, start, end)[\"Adj Close\"]\n",
    "# Calculate the daily returns \n",
    "day_ret = df.resample(\"D\").ffill().pct_change()\n",
    "# Remove the first row - NaN error \n",
    "day_ret = day_ret.dropna(axis=0)\n",
    "# Index selected above \n",
    "ind_pct = day_ret[b]\n",
    "# Stock selected above \n",
    "stck_pct = day_ret[a]\n",
    "# Define the independence variable\n",
    "ind_pct_sm = sm.add_constant(ind_pct)\n",
    "# Define model by using ordinary least square approach \n",
    "model = sm.OLS (stck_pct, ind_pct_sm)\n",
    "results = model.fit()\n",
    "slope, intercept, r, p, std_err  = stats.linregress(ind_pct,stck_pct)\n",
    "print(\"Beta = \", slope)"
   ]
  },
  {
   "cell_type": "code",
   "execution_count": 9,
   "metadata": {},
   "outputs": [
    {
     "data": {
      "text/plain": [
       "1.0065588121208897"
      ]
     },
     "execution_count": 9,
     "metadata": {},
     "output_type": "execute_result"
    }
   ],
   "source": [
    "slope"
   ]
  },
  {
   "cell_type": "markdown",
   "metadata": {},
   "source": [
    "Cost of Equity (in percentage)"
   ]
  },
  {
   "cell_type": "code",
   "execution_count": 10,
   "metadata": {},
   "outputs": [
    {
     "data": {
      "text/plain": [
       "5.122038746627363"
      ]
     },
     "execution_count": 10,
     "metadata": {},
     "output_type": "execute_result"
    }
   ],
   "source": [
    "Discount_Rate = Rf + slope * ( Rm - Rf)\n",
    "Discount_Rate = Discount_Rate * 100\n",
    "Discount_Rate"
   ]
  }
 ],
 "metadata": {
  "kernelspec": {
   "display_name": "Python 3.8.11 ('base')",
   "language": "python",
   "name": "python3"
  },
  "language_info": {
   "codemirror_mode": {
    "name": "ipython",
    "version": 3
   },
   "file_extension": ".py",
   "mimetype": "text/x-python",
   "name": "python",
   "nbconvert_exporter": "python",
   "pygments_lexer": "ipython3",
   "version": "3.8.11"
  },
  "orig_nbformat": 4,
  "vscode": {
   "interpreter": {
    "hash": "9909264b6bdbca3045af8bd3e6a0b6c0c29d38c2a192ba1c83bb2539a765db59"
   }
  }
 },
 "nbformat": 4,
 "nbformat_minor": 2
}
