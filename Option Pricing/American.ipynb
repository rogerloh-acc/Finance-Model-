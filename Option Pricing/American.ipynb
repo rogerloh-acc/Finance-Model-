{
 "cells": [
  {
   "cell_type": "code",
   "execution_count": 1,
   "source": [
    "# Package Installation: pip install optiontools\r\n",
    "\r\n",
    "# Import liabaries\r\n",
    "from optiontools.options import American"
   ],
   "outputs": [],
   "metadata": {}
  },
  {
   "cell_type": "markdown",
   "source": [
    "# Example for a call option\r\n",
    "\r\n",
    " - Stock Price = 100\r\n",
    " - Strike Price = 120\r\n",
    " - Expiration = 2 years\r\n",
    " - Volatility = 20%\r\n",
    " - Risk-free Rate = 3%"
   ],
   "metadata": {}
  },
  {
   "cell_type": "code",
   "execution_count": 3,
   "source": [
    "# Binomial Option Model \r\n",
    "opt = American (100, 120, 0.03, 0.2, 2, \"call\")"
   ],
   "outputs": [],
   "metadata": {}
  },
  {
   "cell_type": "code",
   "execution_count": 4,
   "source": [
    "# Option Price \r\n",
    "print(\"The option price is:\", round(opt.price(),5))"
   ],
   "outputs": [
    {
     "output_type": "stream",
     "name": "stdout",
     "text": [
      "The option price is: 6.42498\n"
     ]
    }
   ],
   "metadata": {}
  }
 ],
 "metadata": {
  "orig_nbformat": 4,
  "language_info": {
   "name": "python",
   "version": "3.8.11",
   "mimetype": "text/x-python",
   "codemirror_mode": {
    "name": "ipython",
    "version": 3
   },
   "pygments_lexer": "ipython3",
   "nbconvert_exporter": "python",
   "file_extension": ".py"
  },
  "kernelspec": {
   "name": "python3",
   "display_name": "Python 3.8.11 64-bit ('base': conda)"
  },
  "interpreter": {
   "hash": "26fd1259fd489d5a6421297310a87215120db0e832edde80825b8ced8638d752"
  }
 },
 "nbformat": 4,
 "nbformat_minor": 2
}