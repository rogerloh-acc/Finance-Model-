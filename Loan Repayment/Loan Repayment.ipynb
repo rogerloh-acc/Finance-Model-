{
 "cells": [
  {
   "cell_type": "code",
   "execution_count": 1,
   "source": [
    "# pip install numpy_financial\r\n",
    "# Import libraries\r\n",
    "import pandas as pd\r\n",
    "import numpy_financial as npf\r\n",
    "import matplotlib.pyplot as plt\r\n",
    "from collections import namedtuple"
   ],
   "outputs": [],
   "metadata": {}
  },
  {
   "cell_type": "code",
   "execution_count": 2,
   "source": [
    "# loan characteristics\r\n",
    "original_balance = 500000\r\n",
    "coupon = 0.08\r\n",
    "term = 120"
   ],
   "outputs": [],
   "metadata": {}
  },
  {
   "cell_type": "code",
   "execution_count": 3,
   "source": [
    "# payments\r\n",
    "periods = range (1, term + 1)\r\n",
    "interest_payment = npf.ipmt( rate = coupon / 12, per = periods, nper = term, pv = -original_balance)\r\n",
    "principal_payment = npf.ppmt(rate = coupon / 12, per = periods, nper = term, pv = -original_balance)"
   ],
   "outputs": [],
   "metadata": {}
  },
  {
   "cell_type": "code",
   "execution_count": 4,
   "source": [
    "# Visualisation\r\n",
    "plt.stackplot(periods, interest_payment, principal_payment, labels = ['Interest', 'Principal'])\r\n",
    "plt.legend(loc = \"upper left\")\r\n",
    "plt.xlabel(\"Period\")\r\n",
    "plt.ylabel(\"Payment\")\r\n",
    "plt.margins(0, 0)"
   ],
   "outputs": [
    {
     "output_type": "display_data",
     "data": {
      "image/png": "[encoded data removed]",
      "text/plain": [
       "<Figure size 432x288 with 1 Axes>"
      ]
     },
     "metadata": {
      "needs_background": "light"
     }
    }
   ],
   "metadata": {}
  },
  {
   "cell_type": "code",
   "execution_count": 5,
   "source": [
    "# pandas float formatting_\r\n",
    "pd.options.display.float_format = '{:,.2f}'.format"
   ],
   "outputs": [],
   "metadata": {}
  },
  {
   "cell_type": "code",
   "execution_count": 6,
   "source": [
    "# cash flow table_\r\n",
    "cf_data = {\"Interest\": interest_payment, \"Principal\": principal_payment}\r\n",
    "cf_table = pd.DataFrame(data = cf_data, index = periods)\r\n",
    "cf_table[\"Payment\"] = cf_table[\"Interest\"] + cf_table[\"Principal\"]\r\n",
    "cf_table[\"Ending Balance\"] = original_balance - cf_table[\"Principal\"].cumsum()\r\n",
    "cf_table[\"Beginning Balance\"] = [original_balance] + list(cf_table[\"Ending Balance\"])[:-1]\r\n",
    "cf_table = cf_table[[\"Beginning Balance\", \"Payment\", \"Interest\", \"Principal\", \"Ending Balance\"]]\r\n",
    "cf_table"
   ],
   "outputs": [
    {
     "output_type": "execute_result",
     "data": {
      "text/html": [
       "<div>\n",
       "<style scoped>\n",
       "    .dataframe tbody tr th:only-of-type {\n",
       "        vertical-align: middle;\n",
       "    }\n",
       "\n",
       "    .dataframe tbody tr th {\n",
       "        vertical-align: top;\n",
       "    }\n",
       "\n",
       "    .dataframe thead th {\n",
       "        text-align: right;\n",
       "    }\n",
       "</style>\n",
       "<table border=\"1\" class=\"dataframe\">\n",
       "  <thead>\n",
       "    <tr style=\"text-align: right;\">\n",
       "      <th></th>\n",
       "      <th>Beginning Balance</th>\n",
       "      <th>Payment</th>\n",
       "      <th>Interest</th>\n",
       "      <th>Principal</th>\n",
       "      <th>Ending Balance</th>\n",
       "    </tr>\n",
       "  </thead>\n",
       "  <tbody>\n",
       "    <tr>\n",
       "      <th>1</th>\n",
       "      <td>500,000.00</td>\n",
       "      <td>6,066.38</td>\n",
       "      <td>3,333.33</td>\n",
       "      <td>2,733.05</td>\n",
       "      <td>497,266.95</td>\n",
       "    </tr>\n",
       "    <tr>\n",
       "      <th>2</th>\n",
       "      <td>497,266.95</td>\n",
       "      <td>6,066.38</td>\n",
       "      <td>3,315.11</td>\n",
       "      <td>2,751.27</td>\n",
       "      <td>494,515.69</td>\n",
       "    </tr>\n",
       "    <tr>\n",
       "      <th>3</th>\n",
       "      <td>494,515.69</td>\n",
       "      <td>6,066.38</td>\n",
       "      <td>3,296.77</td>\n",
       "      <td>2,769.61</td>\n",
       "      <td>491,746.08</td>\n",
       "    </tr>\n",
       "    <tr>\n",
       "      <th>4</th>\n",
       "      <td>491,746.08</td>\n",
       "      <td>6,066.38</td>\n",
       "      <td>3,278.31</td>\n",
       "      <td>2,788.07</td>\n",
       "      <td>488,958.01</td>\n",
       "    </tr>\n",
       "    <tr>\n",
       "      <th>5</th>\n",
       "      <td>488,958.01</td>\n",
       "      <td>6,066.38</td>\n",
       "      <td>3,259.72</td>\n",
       "      <td>2,806.66</td>\n",
       "      <td>486,151.35</td>\n",
       "    </tr>\n",
       "    <tr>\n",
       "      <th>...</th>\n",
       "      <td>...</td>\n",
       "      <td>...</td>\n",
       "      <td>...</td>\n",
       "      <td>...</td>\n",
       "      <td>...</td>\n",
       "    </tr>\n",
       "    <tr>\n",
       "      <th>116</th>\n",
       "      <td>29,734.57</td>\n",
       "      <td>6,066.38</td>\n",
       "      <td>198.23</td>\n",
       "      <td>5,868.15</td>\n",
       "      <td>23,866.42</td>\n",
       "    </tr>\n",
       "    <tr>\n",
       "      <th>117</th>\n",
       "      <td>23,866.42</td>\n",
       "      <td>6,066.38</td>\n",
       "      <td>159.11</td>\n",
       "      <td>5,907.27</td>\n",
       "      <td>17,959.15</td>\n",
       "    </tr>\n",
       "    <tr>\n",
       "      <th>118</th>\n",
       "      <td>17,959.15</td>\n",
       "      <td>6,066.38</td>\n",
       "      <td>119.73</td>\n",
       "      <td>5,946.65</td>\n",
       "      <td>12,012.50</td>\n",
       "    </tr>\n",
       "    <tr>\n",
       "      <th>119</th>\n",
       "      <td>12,012.50</td>\n",
       "      <td>6,066.38</td>\n",
       "      <td>80.08</td>\n",
       "      <td>5,986.30</td>\n",
       "      <td>6,026.21</td>\n",
       "    </tr>\n",
       "    <tr>\n",
       "      <th>120</th>\n",
       "      <td>6,026.21</td>\n",
       "      <td>6,066.38</td>\n",
       "      <td>40.17</td>\n",
       "      <td>6,026.21</td>\n",
       "      <td>-0.00</td>\n",
       "    </tr>\n",
       "  </tbody>\n",
       "</table>\n",
       "<p>120 rows × 5 columns</p>\n",
       "</div>"
      ],
      "text/plain": [
       "     Beginning Balance  Payment  Interest  Principal  Ending Balance\n",
       "1           500,000.00 6,066.38  3,333.33   2,733.05      497,266.95\n",
       "2           497,266.95 6,066.38  3,315.11   2,751.27      494,515.69\n",
       "3           494,515.69 6,066.38  3,296.77   2,769.61      491,746.08\n",
       "4           491,746.08 6,066.38  3,278.31   2,788.07      488,958.01\n",
       "5           488,958.01 6,066.38  3,259.72   2,806.66      486,151.35\n",
       "..                 ...      ...       ...        ...             ...\n",
       "116          29,734.57 6,066.38    198.23   5,868.15       23,866.42\n",
       "117          23,866.42 6,066.38    159.11   5,907.27       17,959.15\n",
       "118          17,959.15 6,066.38    119.73   5,946.65       12,012.50\n",
       "119          12,012.50 6,066.38     80.08   5,986.30        6,026.21\n",
       "120           6,026.21 6,066.38     40.17   6,026.21           -0.00\n",
       "\n",
       "[120 rows x 5 columns]"
      ]
     },
     "metadata": {},
     "execution_count": 6
    }
   ],
   "metadata": {}
  }
 ],
 "metadata": {
  "orig_nbformat": 4,
  "language_info": {
   "name": "python",
   "version": "3.8.11",
   "mimetype": "text/x-python",
   "codemirror_mode": {
    "name": "ipython",
    "version": 3
   },
   "pygments_lexer": "ipython3",
   "nbconvert_exporter": "python",
   "file_extension": ".py"
  },
  "kernelspec": {
   "name": "python3",
   "display_name": "Python 3.8.11 64-bit ('base': conda)"
  },
  "interpreter": {
   "hash": "26fd1259fd489d5a6421297310a87215120db0e832edde80825b8ced8638d752"
  }
 },
 "nbformat": 4,
 "nbformat_minor": 2
}