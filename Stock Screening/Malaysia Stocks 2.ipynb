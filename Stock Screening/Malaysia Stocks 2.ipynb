{
 "cells": [
  {
   "cell_type": "markdown",
   "metadata": {},
   "source": [
    "# Get the Stock List"
   ]
  },
  {
   "cell_type": "code",
   "execution_count": null,
   "metadata": {},
   "outputs": [],
   "source": [
    "import requests\n",
    "from bs4 import BeautifulSoup"
   ]
  },
  {
   "cell_type": "code",
   "execution_count": null,
   "metadata": {},
   "outputs": [],
   "source": [
    "def get_stock_list():\n",
    "    \n",
    "    # We use MalaysiaStock.biz to scrap the stock lists in Malaysia \n",
    "    url = \"https://www.malaysiastock.biz/Stock-Screener.aspx\"\n",
    "    response = requests.get(url, headers={'User-Agent':'test'})\n",
    "    soup = BeautifulSoup(response.content, \"html.parser\")\n",
    "    table = soup.find(id = \"MainContent2_tbAllStock\") # table id\n",
    "    \n",
    "    # Return the result in a list \n",
    "    stock_list = table.find_all (\"a\")\n",
    "    return [stock_code.get (\"href\") [-4:] for stock_code in stock_list]"
   ]
  },
  {
   "cell_type": "markdown",
   "metadata": {},
   "source": [
    "# Create Technical Indicators"
   ]
  },
  {
   "cell_type": "code",
   "execution_count": null,
   "metadata": {},
   "outputs": [],
   "source": [
    "import yfinance as yf"
   ]
  },
  {
   "cell_type": "code",
   "execution_count": null,
   "metadata": {},
   "outputs": [],
   "source": [
    "# Returns stock price of a ticker\n",
    "def get_stock_price (ticker):\n",
    "    data = yf.download (ticker)\n",
    "    return data "
   ]
  },
  {
   "cell_type": "code",
   "execution_count": null,
   "metadata": {},
   "outputs": [],
   "source": [
    "# Returns the EMA\n",
    "def add_EMA (price, day):\n",
    "    return price.ewm (span = day).mean()"
   ]
  },
  {
   "cell_type": "code",
   "execution_count": null,
   "metadata": {},
   "outputs": [],
   "source": [
    "# Calculate stochastic oscillator \n",
    "def add_STOCH (close, low, high, period, k, d = 0):\n",
    "    STOCH_K = (\n",
    "                (close - low.rolling (window = period).min ()) \n",
    "               / (high.rolling (window = period).max () - low.rolling (window = period).min ())\n",
    "               ) * 100\n",
    "    \n",
    "    STOCH_K = STOCH_K.rolling (window = k).mean()\n",
    "    if d == 0:\n",
    "        return STOCH_K\n",
    "    else:\n",
    "        STOCH_D = STOCH_K.rolling (window = d).mean()\n",
    "        return STOCH_D "
   ]
  },
  {
   "cell_type": "markdown",
   "metadata": {},
   "source": [
    "# Trading Strategy"
   ]
  },
  {
   "cell_type": "code",
   "execution_count": null,
   "metadata": {},
   "outputs": [],
   "source": [
    "# function to check for EMA Bounce\n",
    "def check_bounce_EMA(df):\n",
    "  candle1 = df.iloc[-1]\n",
    "  candle2 = df.iloc[-2]\n",
    "  \n",
    "  # Check if EMA18 > EMA50 > EMA100\n",
    "  cond1 = candle1['EMA18'] > candle1['EMA50'] > candle1['EMA100']\n",
    "  \n",
    "  # Check if both stochastic oscillator are below 30\n",
    "  cond2 = candle1['STOCH_%K(5,3,3)'] <= 30 or candle1['STOCH_%D(5,3,3)'] <= 30\n",
    "  \n",
    "  # Check for bounce\n",
    "  cond3 = candle2['Low'] < candle2['EMA50'] and \\\n",
    "          candle2['Close'] > candle2['EMA50'] and \\\n",
    "          candle1['Low'] > candle1 ['EMA50']\n",
    "          \n",
    "  return cond1 and cond2 and cond3"
   ]
  },
  {
   "cell_type": "markdown",
   "metadata": {},
   "source": [
    "# Screening the Stocks"
   ]
  },
  {
   "cell_type": "code",
   "execution_count": null,
   "metadata": {},
   "outputs": [],
   "source": [
    "# A list to store the screened results\n",
    "screened_list = []\n",
    "\n",
    "# Get the full stock list\n",
    "stock_list = get_stock_list()"
   ]
  },
  {
   "cell_type": "code",
   "execution_count": null,
   "metadata": {},
   "outputs": [],
   "source": [
    "for stock_code in stock_list:\n",
    "    try:\n",
    "        # Step 1: Get stock price for each stock\n",
    "        price_chart_df = get_stock_price(stock_code + \".KL\")\n",
    "\n",
    "\n",
    "        # Step 2: Load the indicators to the dataframe\n",
    "        open = price_chart_df [\"Open\"]\n",
    "        close = price_chart_df [\"Close\"]\n",
    "        high = price_chart_df [\"High\"]\n",
    "        low = price_chart_df [\"Low\"]\n",
    "\n",
    "        price_chart_df [\"EMA18\"] = add_EMA (close, 18)\n",
    "        price_chart_df [\"EMA50\"] = add_EMA (close, 50)\n",
    "        price_chart_df [\"EMA100\"] = add_EMA (close, 100)\n",
    "        price_chart_df [\"STOCH_%K(5,3,3)\"] = add_STOCH (close, low, high, 5,3)\n",
    "        price_chart_df [\"STOCH_%D(5,3,3)\"] = add_STOCH (close, low, high, 5,3,3)\n",
    "        \n",
    "        # If all 3 conditions are met, add stock into the screened list\n",
    "        if check_bounce_EMA (price_chart_df):\n",
    "            screened_list.append (stock_code)\n",
    "            print (screened_list)\n",
    "    \n",
    "    # Print error if any\n",
    "    except Exception as e:\n",
    "        print (e)"
   ]
  },
  {
   "cell_type": "code",
   "execution_count": null,
   "metadata": {},
   "outputs": [],
   "source": [
    "screened_list"
   ]
  },
  {
   "cell_type": "markdown",
   "metadata": {},
   "source": [
    "# Email the Screening Results"
   ]
  },
  {
   "cell_type": "code",
   "execution_count": null,
   "metadata": {},
   "outputs": [],
   "source": [
    "import email\n",
    "import smtplib"
   ]
  },
  {
   "cell_type": "code",
   "execution_count": null,
   "metadata": {},
   "outputs": [],
   "source": [
    "# Set up email fields\n",
    "msg = email.message_from_string(\", \".join(screened_list))\n",
    "\n",
    "# Input the email address\n",
    "email_add = \"EMAIL ADDRESS\"\n",
    "\n",
    "msg['From'] = email_add\n",
    "msg['To'] = email_add\n",
    "msg['Subject'] = \"EMA Bounce Result for Today!\""
   ]
  },
  {
   "cell_type": "code",
   "execution_count": null,
   "metadata": {},
   "outputs": [],
   "source": [
    "# Set up SMTP Connection \n",
    "'''\n",
    "for gmail user: s = smtplib.SMTP(\"smtp.gmail.com\",587)\n",
    "for yahoo mail user: s = smtplib.SMTP(\"smtp.mail.yahoo.com\",587) \n",
    "for hotmail user: s = smtplib.SMTP(\"smtp.live.com\",587)\n",
    "'''\n",
    "s = smtplib.SMTP(\"smtp.live.com\",587)\n",
    "s.ehlo() \n",
    "s.starttls()\n",
    "s.ehlo()\n",
    "\n",
    "email_from = email_add\n",
    "email_to = email_add\n",
    "\n",
    "# Enter email password\n",
    "s.login(email_from,\"PASSWORD\")\n",
    "\n",
    "s.sendmail(email_from, [email_to], msg.as_string())\n",
    "s.quit()"
   ]
  }
 ],
 "metadata": {
  "interpreter": {
   "hash": "26fd1259fd489d5a6421297310a87215120db0e832edde80825b8ced8638d752"
  },
  "kernelspec": {
   "display_name": "Python 3.8.11 64-bit ('base': conda)",
   "name": "python3"
  },
  "language_info": {
   "codemirror_mode": {
    "name": "ipython",
    "version": 3
   },
   "file_extension": ".py",
   "mimetype": "text/x-python",
   "name": "python",
   "nbconvert_exporter": "python",
   "pygments_lexer": "ipython3",
   "version": "3.8.11"
  },
  "orig_nbformat": 4
 },
 "nbformat": 4,
 "nbformat_minor": 2
}
