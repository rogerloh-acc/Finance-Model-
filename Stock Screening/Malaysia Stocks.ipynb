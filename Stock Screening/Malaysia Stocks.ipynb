{
 "cells": [
  {
   "cell_type": "code",
   "execution_count": 1,
   "metadata": {},
   "outputs": [],
   "source": [
    "#import required modules\n",
    "from bs4 import BeautifulSoup\n",
    "import ast\n",
    "import pandas as pd\n",
    "import re\n",
    "import requests\n",
    "from datetime import datetime"
   ]
  },
  {
   "cell_type": "markdown",
   "metadata": {},
   "source": [
    "# Define Stock Functions"
   ]
  },
  {
   "cell_type": "code",
   "execution_count": 2,
   "metadata": {},
   "outputs": [],
   "source": [
    "def get_stock_price(ticker):\n",
    "    # pass a ticker name to i3investor website url\n",
    "    url = \"https://klse.i3investor.com/servlets/stk/chart/{}.jsp\". format(ticker)\n",
    "    # get response from the site and extract the price data\n",
    "    response = requests.get(url, headers={'User-Agent':'test'})\n",
    "    soup = BeautifulSoup(response.content, \"html.parser\")\n",
    "    script = soup.find_all('script')\n",
    "    data_tag = script[19].contents[0]\n",
    "    chart_data = ast.literal_eval(re.findall('\\[(.*)\\]', data_tag.split(';')[0])[0])\n",
    "  \n",
    "    # tabulate the price data into a dataframe\n",
    "    chart_df = pd.DataFrame(chart_data, columns = ['Date', 'Open', 'High', 'Low', 'Close', 'Volume'])\n",
    "    \n",
    "    # convert timestamp into readable date\n",
    "    chart_df['Date'] = chart_df['Date'].apply(lambda x: \\\n",
    "        datetime.utcfromtimestamp(int(x)/1000).strftime('%Y-%m-%d'))\n",
    "    \n",
    "    return chart_df"
   ]
  },
  {
   "cell_type": "code",
   "execution_count": 4,
   "metadata": {},
   "outputs": [],
   "source": [
    "# Define EMA column\n",
    "def add_EMA(price, day):\n",
    "   return price.ewm(span=day).mean()"
   ]
  },
  {
   "cell_type": "markdown",
   "metadata": {},
   "source": [
    "# Full list of Malaysian Stocks"
   ]
  },
  {
   "cell_type": "code",
   "execution_count": 5,
   "metadata": {},
   "outputs": [],
   "source": [
    "def get_stock_list():\n",
    "    # this is the website we're going to scrape from\n",
    "    url = \"https://www.malaysiastock.biz/Stock-Screener.aspx\"\n",
    "    response = requests.get(url, headers={'User-Agent':'test'})\n",
    "    soup = BeautifulSoup(response.content, \"html.parser\")\n",
    "    table = soup.find(id = \"MainContent2_tbAllStock\")\n",
    "    # return the result in a list\n",
    "    return [stock.getText() for stock in table.find_all('a')]"
   ]
  },
  {
   "cell_type": "code",
   "execution_count": 7,
   "metadata": {},
   "outputs": [
    {
     "name": "stdout",
     "output_type": "stream",
     "text": [
      "There are 984 stocks listed in Bursa Malaysia.\n"
     ]
    }
   ],
   "source": [
    "stock_list = get_stock_list ()\n",
    "print(\"There are\", len(stock_list), \"stocks listed in Bursa Malaysia.\")"
   ]
  },
  {
   "cell_type": "markdown",
   "metadata": {},
   "source": [
    "# Create Technical Indicator"
   ]
  },
  {
   "cell_type": "code",
   "execution_count": 8,
   "metadata": {},
   "outputs": [],
   "source": [
    "# function to check for EMA crossing\n",
    "def check_EMA_crossing(df):\n",
    "    # condition 1: EMA18 is higher than EMA50 at the last trading day\n",
    "    cond_1 = df.iloc[-1]['EMA18'] > df.iloc[-1]['EMA50']\n",
    "    # condition 2: EMA18 is lower than EMA50 the previous day\n",
    "    cond_2 = df.iloc[-2]['EMA18'] < df.iloc[-2]['EMA50']\n",
    "    # condition 3: to filter out stocks with less than 50 candles\n",
    "    cond_3 = len(df.index) > 50 \n",
    "    # will return True if all 3 conditions are met\n",
    "    return (cond_1 and cond_2 and cond_3)"
   ]
  },
  {
   "cell_type": "code",
   "execution_count": 10,
   "metadata": {},
   "outputs": [
    {
     "name": "stdout",
     "output_type": "stream",
     "text": [
      "['FIMACOR', 'IJM', 'MAG', 'KSENG', 'L&G', 'MAYBANK', 'MEDIA', 'MRCB', 'OIB', 'TCHONG', 'UEMS', 'WZSATU', 'KRONO', 'SGBHD']\n"
     ]
    }
   ],
   "source": [
    "# main program\n",
    "if __name__ == '__main__':\n",
    "    # a list to store the screened results\n",
    "    screened_list = []\n",
    "\n",
    "    # get the full stock list\n",
    "    stock_list = get_stock_list()\n",
    "    for each_stock in stock_list:\n",
    "        \n",
    "        # Step 1: get stock price for each stock\n",
    "        price_chart_df = get_stock_price(each_stock)\n",
    "        \n",
    "        # Step 2: add technical indicators (in this case EMA)\n",
    "        price_chart_df['EMA18'] = add_EMA(price_chart_df['Close'],18)\n",
    "        price_chart_df['EMA50'] = add_EMA(price_chart_df['Close'],50)\n",
    "        price_chart_df['EMA100'] = add_EMA(price_chart_df['Close'],100)\n",
    "        \n",
    "        # if all 3 conditions are met, add stock into screened list\n",
    "        if check_EMA_crossing(price_chart_df):\n",
    "            screened_list.append(each_stock)\n",
    "    \n",
    "    print (screened_list)"
   ]
  }
 ],
 "metadata": {
  "interpreter": {
   "hash": "26fd1259fd489d5a6421297310a87215120db0e832edde80825b8ced8638d752"
  },
  "kernelspec": {
   "display_name": "Python 3.8.11 64-bit ('base': conda)",
   "name": "python3"
  },
  "language_info": {
   "codemirror_mode": {
    "name": "ipython",
    "version": 3
   },
   "file_extension": ".py",
   "mimetype": "text/x-python",
   "name": "python",
   "nbconvert_exporter": "python",
   "pygments_lexer": "ipython3",
   "version": "3.8.11"
  },
  "orig_nbformat": 4
 },
 "nbformat": 4,
 "nbformat_minor": 2
}
