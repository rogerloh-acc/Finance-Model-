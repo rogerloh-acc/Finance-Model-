{
    "cells": [
        {
            "cell_type": "code",
            "execution_count": 31,
            "source": [
                "pip install yfinance --upgrade --no-cache-dir"
            ],
            "outputs": [
                {
                    "output_type": "stream",
                    "name": "stdout",
                    "text": [
                        "Requirement already up-to-date: yfinance in c:\\programdata\\anaconda3\\lib\\site-packages (0.1.63)\n",
                        "Requirement already satisfied, skipping upgrade: requests>=2.20 in c:\\programdata\\anaconda3\\lib\\site-packages (from yfinance) (2.24.0)\n",
                        "Requirement already satisfied, skipping upgrade: lxml>=4.5.1 in c:\\programdata\\anaconda3\\lib\\site-packages (from yfinance) (4.6.1)\n",
                        "Requirement already satisfied, skipping upgrade: numpy>=1.15 in c:\\programdata\\anaconda3\\lib\\site-packages (from yfinance) (1.19.2)\n",
                        "Requirement already satisfied, skipping upgrade: pandas>=0.24 in c:\\programdata\\anaconda3\\lib\\site-packages (from yfinance) (1.1.3)\n",
                        "Requirement already satisfied, skipping upgrade: multitasking>=0.0.7 in c:\\programdata\\anaconda3\\lib\\site-packages (from yfinance) (0.0.9)\n",
                        "Requirement already satisfied, skipping upgrade: urllib3!=1.25.0,!=1.25.1,<1.26,>=1.21.1 in c:\\programdata\\anaconda3\\lib\\site-packages (from requests>=2.20->yfinance) (1.25.11)\n",
                        "Requirement already satisfied, skipping upgrade: chardet<4,>=3.0.2 in c:\\programdata\\anaconda3\\lib\\site-packages (from requests>=2.20->yfinance) (3.0.4)\n",
                        "Requirement already satisfied, skipping upgrade: idna<3,>=2.5 in c:\\programdata\\anaconda3\\lib\\site-packages (from requests>=2.20->yfinance) (2.10)\n",
                        "Requirement already satisfied, skipping upgrade: certifi>=2017.4.17 in c:\\programdata\\anaconda3\\lib\\site-packages (from requests>=2.20->yfinance) (2020.6.20)\n",
                        "Requirement already satisfied, skipping upgrade: python-dateutil>=2.7.3 in c:\\programdata\\anaconda3\\lib\\site-packages (from pandas>=0.24->yfinance) (2.8.1)\n",
                        "Requirement already satisfied, skipping upgrade: pytz>=2017.2 in c:\\programdata\\anaconda3\\lib\\site-packages (from pandas>=0.24->yfinance) (2020.1)\n",
                        "Requirement already satisfied, skipping upgrade: six>=1.5 in c:\\programdata\\anaconda3\\lib\\site-packages (from python-dateutil>=2.7.3->pandas>=0.24->yfinance) (1.15.0)\n",
                        "Note: you may need to restart the kernel to use updated packages.\n"
                    ]
                }
            ],
            "metadata": {}
        },
        {
            "cell_type": "code",
            "execution_count": 32,
            "source": [
                "import pandas as pd \r\n",
                "import numpy as np\r\n",
                "import seaborn as sns\r\n",
                "import yfinance as yf"
            ],
            "outputs": [],
            "metadata": {}
        },
        {
            "cell_type": "code",
            "execution_count": 33,
            "source": [
                "# Download and preprocess the prices of S&P 500 and VIX\r\n",
                "df = yf.download ( [\"^GSPC\", \"^VIX\"], start = \"1985-01-01\", end =  \"2020-12-31\", progrss = False)\r\n",
                "df = df[ [ \"Adj Close\"]]\r\n",
                "df.columns = df.columns.droplevel (0)\r\n",
                "df = df.rename (columns = { \"^GSPC\" : \"sp500\", \"^VIX\" : \"vix\"})\r\n",
                "df"
            ],
            "outputs": [
                {
                    "output_type": "stream",
                    "name": "stdout",
                    "text": [
                        "[*********************100%***********************]  2 of 2 completed\n"
                    ]
                },
                {
                    "output_type": "execute_result",
                    "data": {
                        "text/plain": [
                            "                  sp500        vix\n",
                            "Date                              \n",
                            "1984-12-31   167.240005        NaN\n",
                            "1985-01-02   165.369995        NaN\n",
                            "1985-01-03   164.570007        NaN\n",
                            "1985-01-04   163.679993        NaN\n",
                            "1985-01-07   164.240005        NaN\n",
                            "...                 ...        ...\n",
                            "2020-12-23  3690.010010  23.309999\n",
                            "2020-12-24  3703.060059  21.530001\n",
                            "2020-12-28  3735.360107  21.700001\n",
                            "2020-12-29  3727.040039  23.080000\n",
                            "2020-12-30  3732.040039  22.770000\n",
                            "\n",
                            "[9075 rows x 2 columns]"
                        ],
                        "text/html": [
                            "<div>\n",
                            "<style scoped>\n",
                            "    .dataframe tbody tr th:only-of-type {\n",
                            "        vertical-align: middle;\n",
                            "    }\n",
                            "\n",
                            "    .dataframe tbody tr th {\n",
                            "        vertical-align: top;\n",
                            "    }\n",
                            "\n",
                            "    .dataframe thead th {\n",
                            "        text-align: right;\n",
                            "    }\n",
                            "</style>\n",
                            "<table border=\"1\" class=\"dataframe\">\n",
                            "  <thead>\n",
                            "    <tr style=\"text-align: right;\">\n",
                            "      <th></th>\n",
                            "      <th>sp500</th>\n",
                            "      <th>vix</th>\n",
                            "    </tr>\n",
                            "    <tr>\n",
                            "      <th>Date</th>\n",
                            "      <th></th>\n",
                            "      <th></th>\n",
                            "    </tr>\n",
                            "  </thead>\n",
                            "  <tbody>\n",
                            "    <tr>\n",
                            "      <th>1984-12-31</th>\n",
                            "      <td>167.240005</td>\n",
                            "      <td>NaN</td>\n",
                            "    </tr>\n",
                            "    <tr>\n",
                            "      <th>1985-01-02</th>\n",
                            "      <td>165.369995</td>\n",
                            "      <td>NaN</td>\n",
                            "    </tr>\n",
                            "    <tr>\n",
                            "      <th>1985-01-03</th>\n",
                            "      <td>164.570007</td>\n",
                            "      <td>NaN</td>\n",
                            "    </tr>\n",
                            "    <tr>\n",
                            "      <th>1985-01-04</th>\n",
                            "      <td>163.679993</td>\n",
                            "      <td>NaN</td>\n",
                            "    </tr>\n",
                            "    <tr>\n",
                            "      <th>1985-01-07</th>\n",
                            "      <td>164.240005</td>\n",
                            "      <td>NaN</td>\n",
                            "    </tr>\n",
                            "    <tr>\n",
                            "      <th>...</th>\n",
                            "      <td>...</td>\n",
                            "      <td>...</td>\n",
                            "    </tr>\n",
                            "    <tr>\n",
                            "      <th>2020-12-23</th>\n",
                            "      <td>3690.010010</td>\n",
                            "      <td>23.309999</td>\n",
                            "    </tr>\n",
                            "    <tr>\n",
                            "      <th>2020-12-24</th>\n",
                            "      <td>3703.060059</td>\n",
                            "      <td>21.530001</td>\n",
                            "    </tr>\n",
                            "    <tr>\n",
                            "      <th>2020-12-28</th>\n",
                            "      <td>3735.360107</td>\n",
                            "      <td>21.700001</td>\n",
                            "    </tr>\n",
                            "    <tr>\n",
                            "      <th>2020-12-29</th>\n",
                            "      <td>3727.040039</td>\n",
                            "      <td>23.080000</td>\n",
                            "    </tr>\n",
                            "    <tr>\n",
                            "      <th>2020-12-30</th>\n",
                            "      <td>3732.040039</td>\n",
                            "      <td>22.770000</td>\n",
                            "    </tr>\n",
                            "  </tbody>\n",
                            "</table>\n",
                            "<p>9075 rows × 2 columns</p>\n",
                            "</div>"
                        ]
                    },
                    "metadata": {},
                    "execution_count": 33
                }
            ],
            "metadata": {}
        },
        {
            "cell_type": "code",
            "execution_count": 34,
            "source": [
                "# Calculate the log returns \r\n",
                "df [\"log_rtn\"] = np.log(df.sp500 / df.sp500.shift(1))\r\n",
                "df [\"vol_rtn\"] = np.log(df.vix / df.vix.shift(1))\r\n",
                "df.dropna(how = \"any\", axis = 0, inplace = True)"
            ],
            "outputs": [],
            "metadata": {}
        },
        {
            "cell_type": "code",
            "execution_count": 35,
            "source": [
                "# Plot a scatterplot with the returns on the axes \r\n",
                "# Fit a regression line to identify the trend \r\n",
                "\r\n",
                "corr_coeff = df.log_rtn.corr (df.vol_rtn)\r\n",
                "\r\n",
                "ax = sns.regplot (x = \"log_rtn\", y = \"vol_rtn\", data = df, line_kws = {\"color\": \"red\"})\r\n",
                "\r\n",
                "ax.set (title = f\"S&P 500 vs. VIX ($\\\\rho$ = {corr_coeff: .2f})\", ylabel = \"VIX log returns\", xlabel = \"S&P 500 log returns\")\r\n",
                "\r\n"
            ],
            "outputs": [
                {
                    "output_type": "execute_result",
                    "data": {
                        "text/plain": [
                            "[Text(0.5, 1.0, 'S&P 500 vs. VIX ($\\\\rho$ = -0.71)'),\n",
                            " Text(0, 0.5, 'VIX log returns'),\n",
                            " Text(0.5, 0, 'S&P 500 log returns')]"
                        ]
                    },
                    "metadata": {},
                    "execution_count": 35
                },
                {
                    "output_type": "display_data",
                    "data": {
                        "text/plain": [
                            "<Figure size 432x288 with 1 Axes>"
                        ],
                        "image/png": "[encoded data removed]"
                    },
                    "metadata": {
                        "needs_background": "light"
                    }
                }
            ],
            "metadata": {}
        }
    ],
    "metadata": {
        "orig_nbformat": 4,
        "language_info": {
            "name": "python",
            "version": "3.8.5",
            "mimetype": "text/x-python",
            "codemirror_mode": {
                "name": "ipython",
                "version": 3
            },
            "pygments_lexer": "ipython3",
            "nbconvert_exporter": "python",
            "file_extension": ".py"
        },
        "kernelspec": {
            "name": "python3",
            "display_name": "Python 3.8.5 64-bit ('base': conda)"
        },
        "interpreter": {
            "hash": "b3ba2566441a7c06988d0923437866b63cedc61552a5af99d1f4fb67d367b25f"
        }
    },
    "nbformat": 4,
    "nbformat_minor": 2
}