{
 "cells": [
  {
   "cell_type": "code",
   "execution_count": 2,
   "metadata": {},
   "outputs": [],
   "source": [
    "# Import libraries\n",
    "import requests\n",
    "import matplotlib.pyplot as plt "
   ]
  },
  {
   "cell_type": "code",
   "execution_count": 8,
   "metadata": {},
   "outputs": [],
   "source": [
    "# Read the API key\n",
    "# financialmodelingprep\n",
    "\n",
    "api_key = open(\"API_Key.txt\", \"r\").read()"
   ]
  },
  {
   "cell_type": "code",
   "execution_count": 10,
   "metadata": {},
   "outputs": [],
   "source": [
    "# Select the company and the time horizon\n",
    "company = \"FB\"\n",
    "years = 2"
   ]
  },
  {
   "cell_type": "code",
   "execution_count": 12,
   "metadata": {},
   "outputs": [],
   "source": [
    "# Obtain the balance sheet information\n",
    "balance_sheet = requests.get (f\"https://financialmodelingprep.com/api/v3/balance-sheet-statement/{company}?limit={years}&apikey={api_key}\")\n",
    "balance_sheet = balance_sheet.json()"
   ]
  },
  {
   "cell_type": "code",
   "execution_count": 13,
   "metadata": {},
   "outputs": [
    {
     "name": "stdout",
     "output_type": "stream",
     "text": [
      "dict_keys(['date', 'symbol', 'reportedCurrency', 'fillingDate', 'acceptedDate', 'period', 'cashAndCashEquivalents', 'shortTermInvestments', 'cashAndShortTermInvestments', 'netReceivables', 'inventory', 'otherCurrentAssets', 'totalCurrentAssets', 'propertyPlantEquipmentNet', 'goodwill', 'intangibleAssets', 'goodwillAndIntangibleAssets', 'longTermInvestments', 'taxAssets', 'otherNonCurrentAssets', 'totalNonCurrentAssets', 'otherAssets', 'totalAssets', 'accountPayables', 'shortTermDebt', 'taxPayables', 'deferredRevenue', 'otherCurrentLiabilities', 'totalCurrentLiabilities', 'longTermDebt', 'deferredRevenueNonCurrent', 'deferredTaxLiabilitiesNonCurrent', 'otherNonCurrentLiabilities', 'totalNonCurrentLiabilities', 'otherLiabilities', 'totalLiabilities', 'commonStock', 'retainedEarnings', 'accumulatedOtherComprehensiveIncomeLoss', 'othertotalStockholdersEquity', 'totalStockholdersEquity', 'totalLiabilitiesAndStockholdersEquity', 'totalInvestments', 'totalDebt', 'netDebt', 'link', 'finalLink'])\n"
     ]
    }
   ],
   "source": [
    "# Dictionary keys\n",
    "print (balance_sheet[0].keys())"
   ]
  },
  {
   "cell_type": "code",
   "execution_count": 16,
   "metadata": {},
   "outputs": [
    {
     "name": "stdout",
     "output_type": "stream",
     "text": [
      "Total Current Assets of FB: 75,670,000,000\n",
      "Total Current Liabilities of FB: 14,981,000,000\n"
     ]
    }
   ],
   "source": [
    "# Print Current Assets value \n",
    "total_current_assets = balance_sheet [0] [\"totalCurrentAssets\"] # Denote the most recent value\n",
    "print (f\"Total Current Assets of {company}: {total_current_assets:,}\")\n",
    "\n",
    "# Print Current Liabilities value \n",
    "total_current_liabilities = balance_sheet [0] [\"totalCurrentLiabilities\"] \n",
    "print (f\"Total Current Liabilities of {company}: {total_current_liabilities:,}\")"
   ]
  },
  {
   "cell_type": "code",
   "execution_count": 17,
   "metadata": {},
   "outputs": [
    {
     "name": "stdout",
     "output_type": "stream",
     "text": [
      "Net Cash: 6,922,000,000\n"
     ]
    }
   ],
   "source": [
    "# Net Cash \n",
    "total_debt = balance_sheet [0] [\"totalDebt\"]\n",
    "total_cash = balance_sheet [0] [\"cashAndCashEquivalents\"]\n",
    "net_cash = total_cash - total_debt \n",
    "print (f\"Net Cash: {net_cash:,}\") "
   ]
  },
  {
   "cell_type": "code",
   "execution_count": 18,
   "metadata": {},
   "outputs": [
    {
     "name": "stdout",
     "output_type": "stream",
     "text": [
      "Intangible Assets Percentage: 0.39\n"
     ]
    }
   ],
   "source": [
    "# Intangibles %\n",
    "total_intangibles = balance_sheet [0] [\"intangibleAssets\"]\n",
    "total_assets = balance_sheet [0] [\"totalAssets\"]\n",
    "intangible_pct = total_intangibles / total_assets\n",
    "\n",
    "print (f\"Intangible Assets Percentage: {intangible_pct * 100:.2f}\")"
   ]
  },
  {
   "cell_type": "markdown",
   "metadata": {},
   "source": [
    "# Quarterly Value"
   ]
  },
  {
   "cell_type": "code",
   "execution_count": 19,
   "metadata": {},
   "outputs": [],
   "source": [
    "# Obtain the balance sheet information\n",
    "balance_sheet = requests.get (f\"https://financialmodelingprep.com/api/v3/balance-sheet-statement/{company}?period=quarterly&?limit={years}&apikey={api_key}\")\n",
    "balance_sheet = balance_sheet.json()"
   ]
  },
  {
   "cell_type": "code",
   "execution_count": 24,
   "metadata": {},
   "outputs": [],
   "source": [
    "# Obtain quarerly total assets \n",
    "assets_q1 = balance_sheet[4][\"totalAssets\"]\n",
    "assets_q2 = balance_sheet[3][\"totalAssets\"]\n",
    "assets_q3 = balance_sheet[2][\"totalAssets\"]\n",
    "assets_q4 = balance_sheet[1][\"totalAssets\"]\n",
    "\n",
    "assets_data = [assets_q1, assets_q2, assets_q3, assets_q4]\n",
    "assets_data = [x / 1000000000 for x in assets_data]"
   ]
  },
  {
   "cell_type": "code",
   "execution_count": 25,
   "metadata": {},
   "outputs": [
    {
     "data": {
      "image/png": "[encoded data removed]",
      "text/plain": [
       "<Figure size 432x288 with 1 Axes>"
      ]
     },
     "metadata": {
      "needs_background": "light"
     },
     "output_type": "display_data"
    }
   ],
   "source": [
    "# Plot it \n",
    "plt.bar ([1,2,3,4], assets_data)\n",
    "plt.title (f\"Quaterly Assets of {company}\")\n",
    "plt.xlabel (\"Quarters\")\n",
    "plt.ylabel (\"Total Assets in Billion USD\")\n",
    "plt.xticks ([1,2,3,4], [\"Q1\",\"Q2\",\"Q3\",\"Q4\"])\n",
    "plt.show()"
   ]
  }
 ],
 "metadata": {
  "interpreter": {
   "hash": "26fd1259fd489d5a6421297310a87215120db0e832edde80825b8ced8638d752"
  },
  "kernelspec": {
   "display_name": "Python 3.8.11 64-bit ('base': conda)",
   "name": "python3"
  },
  "language_info": {
   "codemirror_mode": {
    "name": "ipython",
    "version": 3
   },
   "file_extension": ".py",
   "mimetype": "text/x-python",
   "name": "python",
   "nbconvert_exporter": "python",
   "pygments_lexer": "ipython3",
   "version": "3.8.11"
  },
  "orig_nbformat": 4
 },
 "nbformat": 4,
 "nbformat_minor": 2
}
