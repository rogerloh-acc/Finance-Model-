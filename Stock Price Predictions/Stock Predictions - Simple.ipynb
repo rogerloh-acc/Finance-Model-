{
 "cells": [
  {
   "cell_type": "code",
   "execution_count": 1,
   "metadata": {},
   "outputs": [],
   "source": [
    "# Import Libraries\n",
    "import numpy as np\n",
    "import matplotlib.pyplot as plt \n",
    "import pandas as pd \n",
    "import pandas_datareader as web\n",
    "import datetime as dt\n",
    "\n",
    "from sklearn.preprocessing import MinMaxScaler\n",
    "from tensorflow.keras.models import Sequential\n",
    "from tensorflow.keras.layers import Dense, Dropout, LSTM"
   ]
  },
  {
   "cell_type": "markdown",
   "metadata": {},
   "source": [
    "# Loading Financial Data"
   ]
  },
  {
   "cell_type": "code",
   "execution_count": 2,
   "metadata": {},
   "outputs": [],
   "source": [
    "# Load Data\n",
    "company = \"GS\""
   ]
  },
  {
   "cell_type": "code",
   "execution_count": 3,
   "metadata": {},
   "outputs": [],
   "source": [
    "start = dt.datetime (2012,1,1)\n",
    "end = dt.datetime(2020,1,1)"
   ]
  },
  {
   "cell_type": "code",
   "execution_count": 4,
   "metadata": {},
   "outputs": [],
   "source": [
    "data = web.DataReader (company, \"yahoo\", start, end)"
   ]
  },
  {
   "cell_type": "markdown",
   "metadata": {},
   "source": [
    "# Preparing Data"
   ]
  },
  {
   "cell_type": "code",
   "execution_count": 5,
   "metadata": {},
   "outputs": [],
   "source": [
    "# Prepare data\n",
    "scaler = MinMaxScaler (feature_range=(0,1))\n",
    "scaled_data = scaler.fit_transform(data[\"Close\"].values.reshape (-1,1))"
   ]
  },
  {
   "cell_type": "code",
   "execution_count": 6,
   "metadata": {},
   "outputs": [],
   "source": [
    "# Number of days we look in the past to predict next day stock price\n",
    "prediction_days = 60"
   ]
  },
  {
   "cell_type": "code",
   "execution_count": 7,
   "metadata": {},
   "outputs": [],
   "source": [
    "# Define two empty lists\n",
    "x_train = []\n",
    "y_train = []\n",
    "\n",
    "# Prepare the training data\n",
    "for x in range (prediction_days, len(scaled_data)):\n",
    "    x_train.append(scaled_data[x-prediction_days:x, 0])\n",
    "    y_train.append (scaled_data[x,0])"
   ]
  },
  {
   "cell_type": "code",
   "execution_count": 8,
   "metadata": {},
   "outputs": [],
   "source": [
    "# Convert into Numpy Arrays \n",
    "x_train, y_train = np.array(x_train), np.array(y_train)\n",
    "\n",
    "# Reshape x_train \n",
    "x_train = np.reshape (x_train, (x_train.shape [0], x_train.shape[1],1))"
   ]
  },
  {
   "cell_type": "markdown",
   "metadata": {},
   "source": [
    "# Neural Network Model"
   ]
  },
  {
   "cell_type": "code",
   "execution_count": 9,
   "metadata": {},
   "outputs": [],
   "source": [
    "# Build model \n",
    "model = Sequential()"
   ]
  },
  {
   "cell_type": "code",
   "execution_count": 10,
   "metadata": {},
   "outputs": [],
   "source": [
    "# Specify the layers\n",
    "model.add(LSTM (units = 50, return_sequences = True, input_shape = (x_train.shape[1],1)))\n",
    "model.add (Dropout (0.2))\n",
    "model.add(LSTM (units = 50, return_sequences = True))\n",
    "model.add (Dropout (0.2))   \n",
    "model.add(LSTM (units = 50))\n",
    "model.add (Dropout (0.2))\n",
    "model.add (Dense (units = 1)) # Prediction of the next-day price"
   ]
  },
  {
   "cell_type": "code",
   "execution_count": 11,
   "metadata": {},
   "outputs": [
    {
     "name": "stdout",
     "output_type": "stream",
     "text": [
      "Epoch 1/25\n",
      "61/61 [==============================] - 6s 52ms/step - loss: 0.0276\n",
      "Epoch 2/25\n",
      "61/61 [==============================] - 4s 60ms/step - loss: 0.0061\n",
      "Epoch 3/25\n",
      "61/61 [==============================] - 3s 57ms/step - loss: 0.0053\n",
      "Epoch 4/25\n",
      "61/61 [==============================] - 4s 58ms/step - loss: 0.0047\n",
      "Epoch 5/25\n",
      "61/61 [==============================] - 4s 58ms/step - loss: 0.0044\n",
      "Epoch 6/25\n",
      "61/61 [==============================] - 4s 63ms/step - loss: 0.0042\n",
      "Epoch 7/25\n",
      "61/61 [==============================] - 4s 58ms/step - loss: 0.0043\n",
      "Epoch 8/25\n",
      "61/61 [==============================] - 4s 60ms/step - loss: 0.0039\n",
      "Epoch 9/25\n",
      "61/61 [==============================] - 4s 73ms/step - loss: 0.0035\n",
      "Epoch 10/25\n",
      "61/61 [==============================] - 5s 74ms/step - loss: 0.0034\n",
      "Epoch 11/25\n",
      "61/61 [==============================] - 5s 75ms/step - loss: 0.0033\n",
      "Epoch 12/25\n",
      "61/61 [==============================] - 5s 78ms/step - loss: 0.0032\n",
      "Epoch 13/25\n",
      "61/61 [==============================] - 5s 81ms/step - loss: 0.0035\n",
      "Epoch 14/25\n",
      "61/61 [==============================] - 4s 67ms/step - loss: 0.0031\n",
      "Epoch 15/25\n",
      "61/61 [==============================] - 5s 75ms/step - loss: 0.0031\n",
      "Epoch 16/25\n",
      "61/61 [==============================] - 5s 78ms/step - loss: 0.0031\n",
      "Epoch 17/25\n",
      "61/61 [==============================] - 4s 60ms/step - loss: 0.0030\n",
      "Epoch 18/25\n",
      "61/61 [==============================] - 3s 56ms/step - loss: 0.0029\n",
      "Epoch 19/25\n",
      "61/61 [==============================] - 4s 58ms/step - loss: 0.0026\n",
      "Epoch 20/25\n",
      "61/61 [==============================] - 3s 56ms/step - loss: 0.0028\n",
      "Epoch 21/25\n",
      "61/61 [==============================] - 4s 58ms/step - loss: 0.0027\n",
      "Epoch 22/25\n",
      "61/61 [==============================] - 3s 56ms/step - loss: 0.0024\n",
      "Epoch 23/25\n",
      "61/61 [==============================] - 4s 58ms/step - loss: 0.0022\n",
      "Epoch 24/25\n",
      "61/61 [==============================] - 4s 58ms/step - loss: 0.0024\n",
      "Epoch 25/25\n",
      "61/61 [==============================] - 4s 58ms/step - loss: 0.0023\n"
     ]
    },
    {
     "data": {
      "text/plain": [
       "<keras.callbacks.History at 0x19123a1df40>"
      ]
     },
     "execution_count": 11,
     "metadata": {},
     "output_type": "execute_result"
    }
   ],
   "source": [
    "# Compile the model\n",
    "model.compile (optimizer = \"adam\", loss = \"mean_squared_error\")\n",
    "model.fit (x_train, y_train, epochs = 25, batch_size = 32) "
   ]
  },
  {
   "cell_type": "markdown",
   "metadata": {},
   "source": [
    "# Testing the Model Accuracy on Existing Data"
   ]
  },
  {
   "cell_type": "code",
   "execution_count": 12,
   "metadata": {},
   "outputs": [],
   "source": [
    "# Load Test Data\n",
    "test_start = dt.datetime(2020,1,1)\n",
    "test_end = dt.datetime.now()\n",
    "\n",
    "test_data = web.DataReader (company, \"yahoo\", test_start, test_end)\n",
    "actual_prices = test_data [\"Close\"].values"
   ]
  },
  {
   "cell_type": "code",
   "execution_count": 13,
   "metadata": {},
   "outputs": [],
   "source": [
    "# Concatenate both test data and actual data\n",
    "total_dataset = pd.concat ((data[\"Close\"], test_data[\"Close\"]),axis = 0)"
   ]
  },
  {
   "cell_type": "code",
   "execution_count": 15,
   "metadata": {},
   "outputs": [],
   "source": [
    "model_inputs = total_dataset [len(total_dataset) - len(test_data) - prediction_days:].values\n",
    "model_inputs = model_inputs.reshape (-1,1)\n",
    "model_inputs = scaler.transform (model_inputs)"
   ]
  },
  {
   "cell_type": "code",
   "execution_count": 16,
   "metadata": {},
   "outputs": [],
   "source": [
    "# Make Prediction on Test Data\n",
    "x_test = []\n",
    "\n",
    "for x in range (prediction_days, len(model_inputs) + 1):\n",
    "    x_test.append (model_inputs [x - prediction_days:x, 0])\n",
    "    \n",
    "x_test = np.array(x_test)\n",
    "x_test = np.reshape (x_test, (x_test.shape [0], x_test.shape[1],1))\n",
    "\n",
    "predicted_prices = model.predict (x_test)\n",
    "predicted_prices = scaler.inverse_transform (predicted_prices)"
   ]
  },
  {
   "cell_type": "code",
   "execution_count": 17,
   "metadata": {},
   "outputs": [
    {
     "data": {
      "image/png": "[encoded data removed]",
      "text/plain": [
       "<Figure size 432x288 with 1 Axes>"
      ]
     },
     "metadata": {
      "needs_background": "light"
     },
     "output_type": "display_data"
    }
   ],
   "source": [
    "# Plot the Predictions \n",
    "plt.plot (actual_prices, color = \"black\", label = f\"Actual {company} Share Price\")\n",
    "plt.plot (predicted_prices, color = \"green\", label = f\"Predicted {company} Share Price\")\n",
    "plt.title (f\"{company} Share Price\")\n",
    "plt.xlabel (\"Time\")\n",
    "plt.ylabel (f\"{company} Share Price\")\n",
    "plt.legend()\n",
    "plt.show()"
   ]
  },
  {
   "cell_type": "markdown",
   "metadata": {},
   "source": [
    "# Price Predictions"
   ]
  },
  {
   "cell_type": "code",
   "execution_count": 18,
   "metadata": {},
   "outputs": [],
   "source": [
    "# Predict Next Day\n",
    "real_data = [model_inputs [len(model_inputs) + 1 - prediction_days:len(model_inputs + 1), 0]]\n",
    "real_data = np.array (real_data)\n",
    "real_data = np.reshape (real_data, (real_data.shape [0], real_data.shape[1],1))"
   ]
  },
  {
   "cell_type": "code",
   "execution_count": 19,
   "metadata": {},
   "outputs": [
    {
     "name": "stdout",
     "output_type": "stream",
     "text": [
      "WARNING:tensorflow:Model was constructed with shape (None, 60, 1) for input KerasTensor(type_spec=TensorSpec(shape=(None, 60, 1), dtype=tf.float32, name='lstm_input'), name='lstm_input', description=\"created by layer 'lstm_input'\"), but it was called on an input with incompatible shape (None, 59, 1).\n",
      "Prediction: [[383.6743]]\n"
     ]
    }
   ],
   "source": [
    "prediction = model.predict(real_data)\n",
    "prediction = scaler.inverse_transform (prediction)\n",
    "print (f\"Prediction: {prediction}\")"
   ]
  }
 ],
 "metadata": {
  "interpreter": {
   "hash": "26fd1259fd489d5a6421297310a87215120db0e832edde80825b8ced8638d752"
  },
  "kernelspec": {
   "display_name": "Python 3.8.11 64-bit ('base': conda)",
   "name": "python3"
  },
  "language_info": {
   "codemirror_mode": {
    "name": "ipython",
    "version": 3
   },
   "file_extension": ".py",
   "mimetype": "text/x-python",
   "name": "python",
   "nbconvert_exporter": "python",
   "pygments_lexer": "ipython3",
   "version": "3.8.11"
  },
  "orig_nbformat": 4
 },
 "nbformat": 4,
 "nbformat_minor": 2
}
