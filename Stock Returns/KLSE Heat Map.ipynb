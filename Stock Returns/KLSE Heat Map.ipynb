{
 "cells": [
  {
   "cell_type": "code",
   "execution_count": 1,
   "metadata": {},
   "outputs": [],
   "source": [
    "# Import liabraries\n",
    "import pandas as pd \n",
    "import numpy as np\n",
    "import yfinance as yf\n",
    "import datetime as dt\n",
    "import seaborn as sns\n",
    "import matplotlib.pyplot as plt\n",
    "%matplotlib inline\n",
    "from pandas_datareader import data\n",
    "import squarify"
   ]
  },
  {
   "cell_type": "code",
   "execution_count": 2,
   "metadata": {},
   "outputs": [],
   "source": [
    "end = dt.datetime.now () \n",
    "start = dt.date (end.year, end.month, end.day - 4)"
   ]
  },
  {
   "cell_type": "code",
   "execution_count": 3,
   "metadata": {},
   "outputs": [],
   "source": [
    "components = \"Genting Malaysia, IOI, IHH, RHB, Maxis, SIME Plantation, Hong Leong Bank, CIMB Group, Hong Leong Financial, Nestlé, PCHEM, Public Bank, Petronas Gas, Telekom, Malayan Banking, Genting Berhad, PPB, Sime Darby, Tenaga, Press Metal, DiGi.Com, Dialog, Hap Seng, MISC, Top Glove, Kuala Lumpur Kepong, Axiata, Petronas Dagangan, MRDIY, Hartalega\""
   ]
  },
  {
   "cell_type": "code",
   "execution_count": 4,
   "metadata": {},
   "outputs": [
    {
     "name": "stdout",
     "output_type": "stream",
     "text": [
      "[*********************100%***********************]  30 of 30 completed\n"
     ]
    },
    {
     "data": {
      "text/html": [
       "<div>\n",
       "<style scoped>\n",
       "    .dataframe tbody tr th:only-of-type {\n",
       "        vertical-align: middle;\n",
       "    }\n",
       "\n",
       "    .dataframe tbody tr th {\n",
       "        vertical-align: top;\n",
       "    }\n",
       "\n",
       "    .dataframe thead th {\n",
       "        text-align: right;\n",
       "    }\n",
       "</style>\n",
       "<table border=\"1\" class=\"dataframe\">\n",
       "  <thead>\n",
       "    <tr style=\"text-align: right;\">\n",
       "      <th></th>\n",
       "      <th>1023.KL</th>\n",
       "      <th>1066.KL</th>\n",
       "      <th>1082.KL</th>\n",
       "      <th>1155.KL</th>\n",
       "      <th>1295.KL</th>\n",
       "      <th>1961.KL</th>\n",
       "      <th>2445.KL</th>\n",
       "      <th>3034.KL</th>\n",
       "      <th>3182.KL</th>\n",
       "      <th>3816.KL</th>\n",
       "      <th>...</th>\n",
       "      <th>5347.KL</th>\n",
       "      <th>5681.KL</th>\n",
       "      <th>5819.KL</th>\n",
       "      <th>6012.KL</th>\n",
       "      <th>6033.KL</th>\n",
       "      <th>6888.KL</th>\n",
       "      <th>6947.KL</th>\n",
       "      <th>7113.KL</th>\n",
       "      <th>7277.KL</th>\n",
       "      <th>8869.KL</th>\n",
       "    </tr>\n",
       "    <tr>\n",
       "      <th>Date</th>\n",
       "      <th></th>\n",
       "      <th></th>\n",
       "      <th></th>\n",
       "      <th></th>\n",
       "      <th></th>\n",
       "      <th></th>\n",
       "      <th></th>\n",
       "      <th></th>\n",
       "      <th></th>\n",
       "      <th></th>\n",
       "      <th></th>\n",
       "      <th></th>\n",
       "      <th></th>\n",
       "      <th></th>\n",
       "      <th></th>\n",
       "      <th></th>\n",
       "      <th></th>\n",
       "      <th></th>\n",
       "      <th></th>\n",
       "      <th></th>\n",
       "      <th></th>\n",
       "    </tr>\n",
       "  </thead>\n",
       "  <tbody>\n",
       "    <tr>\n",
       "      <th>2021-11-03</th>\n",
       "      <td>5.07</td>\n",
       "      <td>5.40</td>\n",
       "      <td>17.308001</td>\n",
       "      <td>8.00</td>\n",
       "      <td>4.04</td>\n",
       "      <td>3.87</td>\n",
       "      <td>21.240000</td>\n",
       "      <td>7.82</td>\n",
       "      <td>5.09</td>\n",
       "      <td>6.98</td>\n",
       "      <td>...</td>\n",
       "      <td>9.58</td>\n",
       "      <td>19.940001</td>\n",
       "      <td>17.98</td>\n",
       "      <td>4.58</td>\n",
       "      <td>16.40</td>\n",
       "      <td>3.82</td>\n",
       "      <td>4.2</td>\n",
       "      <td>2.49</td>\n",
       "      <td>2.87</td>\n",
       "      <td>5.53</td>\n",
       "    </tr>\n",
       "    <tr>\n",
       "      <th>2021-11-05</th>\n",
       "      <td>5.07</td>\n",
       "      <td>5.39</td>\n",
       "      <td>17.500000</td>\n",
       "      <td>8.01</td>\n",
       "      <td>4.03</td>\n",
       "      <td>3.85</td>\n",
       "      <td>20.700001</td>\n",
       "      <td>7.98</td>\n",
       "      <td>5.12</td>\n",
       "      <td>6.97</td>\n",
       "      <td>...</td>\n",
       "      <td>9.61</td>\n",
       "      <td>19.799999</td>\n",
       "      <td>18.02</td>\n",
       "      <td>4.70</td>\n",
       "      <td>16.42</td>\n",
       "      <td>3.86</td>\n",
       "      <td>4.3</td>\n",
       "      <td>2.48</td>\n",
       "      <td>2.83</td>\n",
       "      <td>5.46</td>\n",
       "    </tr>\n",
       "  </tbody>\n",
       "</table>\n",
       "<p>2 rows × 30 columns</p>\n",
       "</div>"
      ],
      "text/plain": [
       "            1023.KL  1066.KL    1082.KL  1155.KL  1295.KL  1961.KL    2445.KL  \\\n",
       "Date                                                                            \n",
       "2021-11-03     5.07     5.40  17.308001     8.00     4.04     3.87  21.240000   \n",
       "2021-11-05     5.07     5.39  17.500000     8.01     4.03     3.85  20.700001   \n",
       "\n",
       "            3034.KL  3182.KL  3816.KL  ...  5347.KL    5681.KL  5819.KL  \\\n",
       "Date                                   ...                                \n",
       "2021-11-03     7.82     5.09     6.98  ...     9.58  19.940001    17.98   \n",
       "2021-11-05     7.98     5.12     6.97  ...     9.61  19.799999    18.02   \n",
       "\n",
       "            6012.KL  6033.KL  6888.KL  6947.KL  7113.KL  7277.KL  8869.KL  \n",
       "Date                                                                       \n",
       "2021-11-03     4.58    16.40     3.82      4.2     2.49     2.87     5.53  \n",
       "2021-11-05     4.70    16.42     3.86      4.3     2.48     2.83     5.46  \n",
       "\n",
       "[2 rows x 30 columns]"
      ]
     },
     "execution_count": 4,
     "metadata": {},
     "output_type": "execute_result"
    }
   ],
   "source": [
    "# Download the share price of KLSE component companies \n",
    "df = yf.download(\"4715.KL 1961.KL 5225.KL 1066.KL 6012.KL 5285.KL 5819.KL 1023.KL 1082.KL 4707.KL 5183.KL 1295.KL 6033.KL 4863.KL 1155.KL 3182.KL 4065.KL 4197.KL 5347.KL 8869.KL 6947.KL 7277.KL 3034.KL 3816.KL 7113.KL 2445.KL 6888.KL 5681.KL 5296.KL 5168.KL\", start, end)[\"Adj Close\"]\n",
    "df"
   ]
  },
  {
   "cell_type": "code",
   "execution_count": 5,
   "metadata": {},
   "outputs": [
    {
     "data": {
      "text/html": [
       "<div>\n",
       "<style scoped>\n",
       "    .dataframe tbody tr th:only-of-type {\n",
       "        vertical-align: middle;\n",
       "    }\n",
       "\n",
       "    .dataframe tbody tr th {\n",
       "        vertical-align: top;\n",
       "    }\n",
       "\n",
       "    .dataframe thead th {\n",
       "        text-align: right;\n",
       "    }\n",
       "</style>\n",
       "<table border=\"1\" class=\"dataframe\">\n",
       "  <thead>\n",
       "    <tr style=\"text-align: right;\">\n",
       "      <th></th>\n",
       "      <th>1023.KL</th>\n",
       "      <th>1066.KL</th>\n",
       "      <th>1082.KL</th>\n",
       "      <th>1155.KL</th>\n",
       "      <th>1295.KL</th>\n",
       "      <th>1961.KL</th>\n",
       "      <th>2445.KL</th>\n",
       "      <th>3034.KL</th>\n",
       "      <th>3182.KL</th>\n",
       "      <th>3816.KL</th>\n",
       "      <th>...</th>\n",
       "      <th>5347.KL</th>\n",
       "      <th>5681.KL</th>\n",
       "      <th>5819.KL</th>\n",
       "      <th>6012.KL</th>\n",
       "      <th>6033.KL</th>\n",
       "      <th>6888.KL</th>\n",
       "      <th>6947.KL</th>\n",
       "      <th>7113.KL</th>\n",
       "      <th>7277.KL</th>\n",
       "      <th>8869.KL</th>\n",
       "    </tr>\n",
       "    <tr>\n",
       "      <th>Date</th>\n",
       "      <th></th>\n",
       "      <th></th>\n",
       "      <th></th>\n",
       "      <th></th>\n",
       "      <th></th>\n",
       "      <th></th>\n",
       "      <th></th>\n",
       "      <th></th>\n",
       "      <th></th>\n",
       "      <th></th>\n",
       "      <th></th>\n",
       "      <th></th>\n",
       "      <th></th>\n",
       "      <th></th>\n",
       "      <th></th>\n",
       "      <th></th>\n",
       "      <th></th>\n",
       "      <th></th>\n",
       "      <th></th>\n",
       "      <th></th>\n",
       "      <th></th>\n",
       "    </tr>\n",
       "  </thead>\n",
       "  <tbody>\n",
       "    <tr>\n",
       "      <th>2021-11-05</th>\n",
       "      <td>0.0</td>\n",
       "      <td>-0.185189</td>\n",
       "      <td>1.10931</td>\n",
       "      <td>0.125003</td>\n",
       "      <td>-0.247519</td>\n",
       "      <td>-0.516795</td>\n",
       "      <td>-2.542368</td>\n",
       "      <td>2.046034</td>\n",
       "      <td>0.589386</td>\n",
       "      <td>-0.14327</td>\n",
       "      <td>...</td>\n",
       "      <td>0.31315</td>\n",
       "      <td>-0.702113</td>\n",
       "      <td>0.222475</td>\n",
       "      <td>2.620085</td>\n",
       "      <td>0.121954</td>\n",
       "      <td>1.047119</td>\n",
       "      <td>2.380962</td>\n",
       "      <td>-0.401606</td>\n",
       "      <td>-1.393727</td>\n",
       "      <td>-1.265826</td>\n",
       "    </tr>\n",
       "  </tbody>\n",
       "</table>\n",
       "<p>1 rows × 30 columns</p>\n",
       "</div>"
      ],
      "text/plain": [
       "            1023.KL   1066.KL  1082.KL   1155.KL   1295.KL   1961.KL  \\\n",
       "Date                                                                   \n",
       "2021-11-05      0.0 -0.185189  1.10931  0.125003 -0.247519 -0.516795   \n",
       "\n",
       "             2445.KL   3034.KL   3182.KL  3816.KL  ...  5347.KL   5681.KL  \\\n",
       "Date                                               ...                      \n",
       "2021-11-05 -2.542368  2.046034  0.589386 -0.14327  ...  0.31315 -0.702113   \n",
       "\n",
       "             5819.KL   6012.KL   6033.KL   6888.KL   6947.KL   7113.KL  \\\n",
       "Date                                                                     \n",
       "2021-11-05  0.222475  2.620085  0.121954  1.047119  2.380962 -0.401606   \n",
       "\n",
       "             7277.KL   8869.KL  \n",
       "Date                            \n",
       "2021-11-05 -1.393727 -1.265826  \n",
       "\n",
       "[1 rows x 30 columns]"
      ]
     },
     "execution_count": 5,
     "metadata": {},
     "output_type": "execute_result"
    }
   ],
   "source": [
    "# Calculate the returns \n",
    "day_ret = df.ffill().pct_change() * 100\n",
    "day_ret = day_ret.dropna (axis = 0)\n",
    "day_ret"
   ]
  },
  {
   "cell_type": "markdown",
   "metadata": {},
   "source": [
    "# Heat Map"
   ]
  },
  {
   "cell_type": "code",
   "execution_count": 6,
   "metadata": {},
   "outputs": [],
   "source": [
    "components_split = components.split(\",\")"
   ]
  },
  {
   "cell_type": "code",
   "execution_count": 7,
   "metadata": {},
   "outputs": [],
   "source": [
    "#create a reshaped array of ticker symbols that matches the desired shape of the heatmap\n",
    "symbol = ((np.asarray(components_split)).reshape(6,5))"
   ]
  },
  {
   "cell_type": "code",
   "execution_count": 8,
   "metadata": {},
   "outputs": [],
   "source": [
    "#create a reshaped array of percent returns that matches the desired shape of the heatmap\n",
    "per_change = ((np.asarray(day_ret)).reshape(6,5))"
   ]
  },
  {
   "cell_type": "code",
   "execution_count": 9,
   "metadata": {},
   "outputs": [],
   "source": [
    "#create a new array of the same shape as desired, combining the relevant ticker symbol\n",
    "#and percentage return data\n",
    "labels = (np.asarray([\"{0} \\n {1:.3f}\".format(symbol, per_change)\n",
    "                      for symbol, per_change in zip(symbol.flatten(),\n",
    "                                               per_change.flatten())])).reshape(6,5)"
   ]
  },
  {
   "cell_type": "code",
   "execution_count": 10,
   "metadata": {},
   "outputs": [
    {
     "data": {
      "image/png": "[encoded data removed]",
      "text/plain": [
       "<Figure size 1008x648 with 2 Axes>"
      ]
     },
     "metadata": {
      "needs_background": "light"
     },
     "output_type": "display_data"
    }
   ],
   "source": [
    "fig, ax = plt.subplots(figsize=(14,9))\n",
    "plt.title('KLSE Heat Map (%)',fontsize=18)\n",
    "ax.title.set_position([0.5,1.05])\n",
    "ax.set_xticks([])\n",
    "sns.heatmap(per_change, annot=labels, fmt=\"\", cmap='RdYlGn', ax=ax)\n",
    "plt.show()"
   ]
  }
 ],
 "metadata": {
  "interpreter": {
   "hash": "26fd1259fd489d5a6421297310a87215120db0e832edde80825b8ced8638d752"
  },
  "kernelspec": {
   "display_name": "Python 3.8.11 64-bit ('base': conda)",
   "name": "python3"
  },
  "language_info": {
   "codemirror_mode": {
    "name": "ipython",
    "version": 3
   },
   "file_extension": ".py",
   "mimetype": "text/x-python",
   "name": "python",
   "nbconvert_exporter": "python",
   "pygments_lexer": "ipython3",
   "version": "3.8.11"
  },
  "orig_nbformat": 4
 },
 "nbformat": 4,
 "nbformat_minor": 2
}
